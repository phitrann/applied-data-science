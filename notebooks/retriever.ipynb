{
 "cells": [
  {
   "cell_type": "code",
   "execution_count": 1,
   "metadata": {
    "metadata": {}
   },
   "outputs": [],
   "source": [
    "# !pip install langchain-chroma"
   ]
  },
  {
   "cell_type": "markdown",
   "metadata": {},
   "source": [
    "## Import libraries"
   ]
  },
  {
   "cell_type": "code",
   "execution_count": 2,
   "metadata": {
    "metadata": {}
   },
   "outputs": [],
   "source": [
    "import os\n",
    "\n",
    "os.environ[\"HF_HOME\"] = \"/space/hotel/phit/personal/experiments/weights\"\n",
    "os.environ[\"TORCH_HOME\"] = \"/space/hotel/phit/personal/experiments/weights\"\n",
    "\n",
    "from typing import List, Optional, Union\n",
    "\n",
    "from langchain.callbacks import FileCallbackHandler\n",
    "from langchain.retrievers import ContextualCompressionRetriever, ParentDocumentRetriever\n",
    "from langchain.retrievers.document_compressors import EmbeddingsFilter\n",
    "from langchain.storage import InMemoryStore\n",
    "from langchain.text_splitter import RecursiveCharacterTextSplitter\n",
    "from langchain_community.document_loaders import UnstructuredFileLoader, JSONLoader\n",
    "from langchain_community.embeddings import HuggingFaceBgeEmbeddings\n",
    "from langchain_community.vectorstores import FAISS , Chroma\n",
    "# from langchain_chroma import Chroma\n",
    "from langchain_core.documents import Document\n",
    "from loguru import logger\n",
    "from rich import print\n",
    "from sentence_transformers import CrossEncoder\n",
    "\n",
    "from unstructured.cleaners.core import clean_extra_whitespace, group_broken_paragraphs\n",
    "\n",
    "logfile = \"log/output.log\"\n",
    "logger.add(logfile, colorize=True, enqueue=True)\n",
    "handler = FileCallbackHandler(logfile)\n",
    "\n",
    "\n",
    "persist_directory = None"
   ]
  },
  {
   "cell_type": "code",
   "execution_count": 3,
   "metadata": {
    "metadata": {}
   },
   "outputs": [],
   "source": [
    "from langchain_community.chat_models import ChatOllama\n"
   ]
  },
  {
   "cell_type": "markdown",
   "metadata": {},
   "source": [
    "## Utility functions"
   ]
  },
  {
   "cell_type": "code",
   "execution_count": 4,
   "metadata": {
    "metadata": {}
   },
   "outputs": [],
   "source": [
    "VIETNAMWORKS = ['_id', 'url', 'job_name', 'company_name', 'salary', 'end_date',\n",
    "       'address', 'posted_date', 'job_function', 'job_industry', 'job_level',\n",
    "       'skill', 'preferred_language', 'job_description'] # job_requirements\n",
    "\n",
    "TOPCV = ['_id', 'urls', 'job_name', 'company_name', 'address', 'salary',\n",
    "       'remaining', 'job_description', 'benefits',\n",
    "       'application_method', 'level', 'experience', 'number_of_recruitment',\n",
    "       'work_form', 'gender', 'working_time'] # job_requirements\n",
    "\n",
    "class RAGException(Exception):\n",
    "    \"\"\"\n",
    "    Custom exception class for RAG (Retriever, Answerer, Generator) module.\n",
    "    \"\"\"\n",
    "\n",
    "    def __init__(self, *args, **kwargs):\n",
    "        super().__init__(*args, **kwargs)\n",
    "\n",
    "\n",
    "def load_pdf(\n",
    "    files: Union[str, List[str]] = \"../data/cv/Bui Tien Phat resume (1).pdf\"\n",
    ") -> List[Document]:\n",
    "    \"\"\"\n",
    "    Load PDF files and return a list of Document objects.\n",
    "\n",
    "    Args:\n",
    "        files (Union[str, List[str]], optional): Path(s) to the PDF file(s) to be loaded. Defaults to \"../data/cv/Bui Tien Phat resume (1).pdf\".\n",
    "\n",
    "    Returns:\n",
    "        List[Document]: A list of Document objects representing the loaded PDF files.\n",
    "    \"\"\"\n",
    "    if isinstance(files, str):\n",
    "        loader = UnstructuredFileLoader(\n",
    "            files,\n",
    "            post_processors=[clean_extra_whitespace, group_broken_paragraphs],\n",
    "        )\n",
    "        return loader.load()\n",
    "\n",
    "    loaders = [\n",
    "        UnstructuredFileLoader(\n",
    "            file,\n",
    "            post_processors=[clean_extra_whitespace, group_broken_paragraphs],\n",
    "        )\n",
    "        for file in files\n",
    "    ]\n",
    "    docs = []\n",
    "    for loader in loaders:\n",
    "        docs.extend(\n",
    "            loader.load(),\n",
    "        )\n",
    "    return docs\n",
    "\n",
    "\n",
    "# Define the metadata extraction function.\n",
    "def metadata_func(record: dict, metadata: dict) -> dict:\n",
    "    \"\"\"\n",
    "    Process the record dictionary and update the metadata dictionary with the relevant values.\n",
    "\n",
    "    Args:\n",
    "        record (dict): The record dictionary containing the data to be processed.\n",
    "        metadata (dict): The metadata dictionary to be updated.\n",
    "\n",
    "    Returns:\n",
    "        dict: The updated metadata dictionary.\n",
    "    \"\"\"\n",
    "    \n",
    "    # metadata[\"urls\"] = record.get(\"urls\")\n",
    "    # metadata[\"job_name\"] = record.get(\"job_name\")\n",
    "    # metadata[\"company_name\"] = record.get(\"company_name\")\n",
    "    # metadata[\"address\"] = record.get(\"address\")\n",
    "    # metadata[\"salary\"] = record.get(\"salary\")\n",
    "    # metadata[\"remaining\"] = record.get(\"remaining\")\n",
    "    # # metadata[\"\"] = record.get(\"Mô tả công việc\")\n",
    "    # metadata[\"Yêu cầu ứng viên\"] = record.get(\"Yêu cầu ứng viên\")\n",
    "    # metadata[\"Quyền lợi\"] = record.get(\"Quyền lợi\")\n",
    "    # metadata[\"Địa điểm làm việc\"] = record.get(\"Địa điểm làm việc\")\n",
    "    # metadata[\"Cách thức ứng tuyển\"] = record.get(\"Cách thức ứng tuyển\")\n",
    "    # metadata[\"Cấp bậc\"] = record.get(\"Cấp bậc\")\n",
    "    # metadata[\"Kinh nghiệm\"] = record.get(\"Kinh nghiệm\")\n",
    "    # metadata[\"Số lượng tuyển\"] = record.get(\"Số lượng tuyển\")\n",
    "    # metadata[\"Hình thức làm việc\"] = record.get(\"Hình thức làm việc\")\n",
    "    # metadata[\"Giới tính\"] = record.get(\"Giới tính\")\n",
    "    \n",
    "    for key in VIETNAMWORKS:\n",
    "        metadata[key] = record.get(key)\n",
    "    \n",
    "    metadata = {key: f'{\" \".join(val[0]) if isinstance(val, list) else val}' for key, val in metadata.items()}\n",
    "\n",
    "    \n",
    "\n",
    "    return metadata\n",
    "\n",
    "\n",
    "def load_jsonl(\n",
    "    files: Union[str, List[str]] = \"../data/crawl/train_test.jsonl\"\n",
    ") -> List[Document]:\n",
    "    \"\"\"\n",
    "    Load JSONL files and return a list of documents.\n",
    "\n",
    "    Args:\n",
    "        files (Union[str, List[str]], optional): Path or list of paths to the JSONL files. \n",
    "            Defaults to \"../data/crawl/train_test.jsonl\".\n",
    "\n",
    "    Returns:\n",
    "        List[Document]: A list of Document objects.\n",
    "\n",
    "    \"\"\"\n",
    "    if isinstance(files, str):\n",
    "        loader = JSONLoader(\n",
    "            files,\n",
    "            json_lines=True,\n",
    "            jq_schema='.',\n",
    "            content_key=\"job_requirements\", \n",
    "            text_content=False,\n",
    "            metadata_func=metadata_func\n",
    "        )\n",
    "        return loader.load()\n",
    "\n",
    "    loaders = [\n",
    "        JSONLoader(\n",
    "            file,\n",
    "            json_lines=True,\n",
    "            jq_schema='.messages[]',\n",
    "            content_key=\"content\",\n",
    "            metadata_func=metadata_func\n",
    "        )\n",
    "        for file in files\n",
    "    ]\n",
    "    docs = []\n",
    "    for loader in loaders:\n",
    "        docs.extend(\n",
    "            loader.load(),\n",
    "        )\n",
    "    return docs"
   ]
  },
  {
   "cell_type": "markdown",
   "metadata": {},
   "source": [
    "## RAG Components"
   ]
  },
  {
   "cell_type": "code",
   "execution_count": 5,
   "metadata": {
    "metadata": {}
   },
   "outputs": [],
   "source": [
    "def rerank_docs(reranker_model, query, retrieved_docs):\n",
    "    \"\"\"\n",
    "    Reranks the retrieved documents based on a given reranker model and query.\n",
    "\n",
    "    Args:\n",
    "        reranker_model: The reranker model used for scoring the documents.\n",
    "        query: The query used for reranking the documents.\n",
    "        retrieved_docs: A list of retrieved documents.\n",
    "\n",
    "    Returns:\n",
    "        A list of tuples containing the retrieved documents and their corresponding scores,\n",
    "        sorted in descending order of scores.\n",
    "    \"\"\"\n",
    "    query_and_docs = [(query, r.page_content) for r in retrieved_docs]\n",
    "    scores = reranker_model.predict(query_and_docs)\n",
    "    return sorted(list(zip(retrieved_docs, scores)), key=lambda x: x[1], reverse=True)\n",
    "\n",
    "def create_parent_retriever(\n",
    "    docs: List[Document], embeddings_model: HuggingFaceBgeEmbeddings()\n",
    "):\n",
    "    \"\"\"\n",
    "    Creates a parent document retriever using the given list of documents and embeddings model.\n",
    "\n",
    "    Args:\n",
    "        docs (List[Document]): A list of documents to be added to the retriever.\n",
    "        embeddings_model (HuggingFaceBgeEmbeddings): The embeddings model to be used for indexing.\n",
    "\n",
    "    Returns:\n",
    "        ParentDocumentRetriever: The created parent document retriever.\n",
    "\n",
    "    \"\"\"\n",
    "    parent_splitter = RecursiveCharacterTextSplitter(\n",
    "        separators=[\"\\n\\n\\n\", \"\\n\\n\"],\n",
    "        chunk_size=2000,\n",
    "        length_function=len,\n",
    "        is_separator_regex=False,\n",
    "    )\n",
    "\n",
    "    # This text splitter is used to create the child documents\n",
    "    child_splitter = RecursiveCharacterTextSplitter(\n",
    "        separators=[\"\\n\\n\\n\", \"\\n\\n\"],\n",
    "        chunk_size=500,#1000,\n",
    "        chunk_overlap=150,#300,\n",
    "        length_function=len,\n",
    "        is_separator_regex=False,\n",
    "    )\n",
    "    # The vectorstore to use to index the child chunks\n",
    "    vectorstore = Chroma(\n",
    "        collection_name=\"split_documents\",\n",
    "        embedding_function=embeddings_model,\n",
    "        persist_directory=persist_directory,\n",
    "    )#.as_retriever()\n",
    "    \n",
    "    print(\"vectorstore: \", vectorstore)\n",
    "    # The storage layer for the parent documents\n",
    "    store = InMemoryStore()\n",
    "    retriever = ParentDocumentRetriever(\n",
    "        vectorstore=vectorstore,\n",
    "        docstore=store,\n",
    "        child_splitter=child_splitter,\n",
    "        parent_splitter=parent_splitter,\n",
    "        k=10,\n",
    "    )\n",
    "    retriever.add_documents(docs)\n",
    "    return retriever\n",
    "\n",
    "\n",
    "def retrieve_context(query, retriever, reranker_model):\n",
    "    \"\"\"\n",
    "    Retrieves relevant documents based on the given query using a retriever and reranks them using a reranker model.\n",
    "\n",
    "    Args:\n",
    "        query (str): The query to retrieve relevant documents for.\n",
    "        retriever: The retriever object used to retrieve relevant documents.\n",
    "        reranker_model: The reranker model used to rerank the retrieved documents.\n",
    "\n",
    "    Returns:\n",
    "        list: A list of reranked documents.\n",
    "\n",
    "    Raises:\n",
    "        RAGException: If no relevant documents are retrieved with the given query.\n",
    "    \"\"\"\n",
    "    retrieved_docs = retriever.get_relevant_documents(query)\n",
    "\n",
    "    if len(retrieved_docs) == 0:\n",
    "        raise RAGException(\n",
    "            f\"Couldn't retrieve any relevant document with the query `{query}`. Try modifying your question!\"\n",
    "        )\n",
    "    reranked_docs = rerank_docs(\n",
    "        query=query, retrieved_docs=retrieved_docs, reranker_model=reranker_model\n",
    "    )\n",
    "    return reranked_docs\n",
    "\n",
    "# https://github.com/FlagOpen/FlagEmbedding/tree/master/FlagEmbedding/BGE_M3\n",
    "def load_embedding_model(\n",
    "    model_name: str = \"BAAI/bge-large-en-v1.5\", device: str = \"cuda\"\n",
    ") -> HuggingFaceBgeEmbeddings:\n",
    "    \"\"\"\n",
    "    Load the embedding model for text encoding.\n",
    "\n",
    "    Args:\n",
    "        model_name (str): The name of the pre-trained model to load. Defaults to \"BAAI/bge-large-en-v1.5\".\n",
    "        device (str): The device to use for model inference. Defaults to \"cuda\".\n",
    "\n",
    "    Returns:\n",
    "        HuggingFaceBgeEmbeddings: The loaded embedding model.\n",
    "\n",
    "    \"\"\"\n",
    "    model_kwargs = {\"device\": device}\n",
    "    encode_kwargs = {\n",
    "        \"normalize_embeddings\": True\n",
    "    }  # set True to compute cosine similarity\n",
    "    embedding_model = HuggingFaceBgeEmbeddings(\n",
    "        model_name=model_name,\n",
    "        model_kwargs=model_kwargs,\n",
    "        encode_kwargs=encode_kwargs,\n",
    "    )\n",
    "    return embedding_model\n",
    "\n",
    "# https://github.com/FlagOpen/FlagEmbedding/tree/master/FlagEmbedding/llm_reranker\n",
    "def load_reranker_model(\n",
    "    reranker_model_name: str = \"BAAI/bge-reranker-large\", device: str = \"cuda\"\n",
    ") -> CrossEncoder:\n",
    "    \"\"\"\n",
    "    Loads a reranker model for ranking search results.\n",
    "\n",
    "    Args:\n",
    "        reranker_model_name (str): The name or path of the reranker model to be loaded.\n",
    "        device (str): The device to be used for running the model (default: \"cuda\").\n",
    "\n",
    "    Returns:\n",
    "        CrossEncoder: The loaded reranker model.\n",
    "    \"\"\"\n",
    "    reranker_model = CrossEncoder(\n",
    "        model_name=reranker_model_name, max_length=512, device=device, \n",
    "    )\n",
    "    return reranker_model\n",
    "\n",
    "\n",
    "# def main(\n",
    "#     file: str = \"../data/crawl/train_test.jsonl\",\n",
    "#     query: Optional[str] = None,\n",
    "#     llm_name=\"mistral\",\n",
    "# ):\n",
    "#     # docs = load_pdf(files=file)\n",
    "#     docs = load_jsonl(\"../data/crawl/vnw.jsonl\")\n",
    "#     # print(docs)\n",
    "\n",
    "#     embedding_model = load_embedding_model()\n",
    "#     retriever = create_parent_retriever(docs, embedding_model)\n",
    "#     reranker_model = load_reranker_model()\n",
    "\n",
    "#     context = retrieve_context(\n",
    "#         query, retriever=retriever, reranker_model=reranker_model\n",
    "#     )[0]\n",
    "#     print(\"context:\\n\", context, \"\\n\", \"=\" * 50, \"\\n\")\n",
    "\n",
    "\n",
    "# if __name__ == \"__main__\":\n",
    "#     # from jsonargparse import CLI\n",
    "\n",
    "#     # CLI(main)\n",
    "#     # main(query=\"What is the job description for Network Engineer?\")\n",
    "#     main(query=\"What is job description in Da Nang ?\")\n",
    "    "
   ]
  },
  {
   "cell_type": "code",
   "execution_count": 6,
   "metadata": {
    "metadata": {}
   },
   "outputs": [
    {
     "data": {
      "text/html": [
       "<pre style=\"white-space:pre;overflow-x:auto;line-height:normal;font-family:Menlo,'DejaVu Sans Mono',consolas,'Courier New',monospace\"><span style=\"font-weight: bold\">[</span>\n",
       "    <span style=\"color: #008000; text-decoration-color: #008000\">'../data/cv/CV Cap Tan Dat - Intern Developer.pdf'</span>,\n",
       "    <span style=\"color: #008000; text-decoration-color: #008000\">'../data/cv/CV_SonBao_DS.pdf'</span>,\n",
       "    <span style=\"color: #008000; text-decoration-color: #008000\">'../data/cv/Bui Tien Phat resume (1).pdf'</span>,\n",
       "    <span style=\"color: #008000; text-decoration-color: #008000\">'../data/cv/CV Nguyễn việt hoàng - CV lập trình-TopCV.vn.pdf'</span>,\n",
       "    <span style=\"color: #008000; text-decoration-color: #008000\">'../data/cv/CV _ Đinh Tuấn Nam_BE Developer(.NET)_HCM.pdf'</span>,\n",
       "    <span style=\"color: #008000; text-decoration-color: #008000\">'../data/cv/CV_MaiHuyKhang_DA.pdf'</span>,\n",
       "    <span style=\"color: #008000; text-decoration-color: #008000\">'../data/cv/CV_NGUYEN_MINH_SON.pdf'</span>\n",
       "<span style=\"font-weight: bold\">]</span>\n",
       "</pre>\n"
      ],
      "text/plain": [
       "\u001b[1m[\u001b[0m\n",
       "    \u001b[32m'../data/cv/CV Cap Tan Dat - Intern Developer.pdf'\u001b[0m,\n",
       "    \u001b[32m'../data/cv/CV_SonBao_DS.pdf'\u001b[0m,\n",
       "    \u001b[32m'../data/cv/Bui Tien Phat resume \u001b[0m\u001b[32m(\u001b[0m\u001b[32m1\u001b[0m\u001b[32m)\u001b[0m\u001b[32m.pdf'\u001b[0m,\n",
       "    \u001b[32m'../data/cv/CV Nguyễn việt hoàng - CV lập trình-TopCV.vn.pdf'\u001b[0m,\n",
       "    \u001b[32m'../data/cv/CV _ Đinh Tuấn Nam_BE Developer\u001b[0m\u001b[32m(\u001b[0m\u001b[32m.NET\u001b[0m\u001b[32m)\u001b[0m\u001b[32m_HCM.pdf'\u001b[0m,\n",
       "    \u001b[32m'../data/cv/CV_MaiHuyKhang_DA.pdf'\u001b[0m,\n",
       "    \u001b[32m'../data/cv/CV_NGUYEN_MINH_SON.pdf'\u001b[0m\n",
       "\u001b[1m]\u001b[0m\n"
      ]
     },
     "metadata": {},
     "output_type": "display_data"
    }
   ],
   "source": [
    "import os\n",
    "files = [\"../data/cv/\" + file for file in os.listdir(\"../data/cv\")]\n",
    "print(files)\n",
    "\n",
    "cv = load_pdf(files)"
   ]
  },
  {
   "cell_type": "code",
   "execution_count": 10,
   "metadata": {
    "metadata": {}
   },
   "outputs": [
    {
     "data": {
      "text/html": [
       "<pre style=\"white-space:pre;overflow-x:auto;line-height:normal;font-family:Menlo,'DejaVu Sans Mono',consolas,'Courier New',monospace\"><span style=\"color: #800080; text-decoration-color: #800080; font-weight: bold\">Document</span><span style=\"font-weight: bold\">(</span>\n",
       "    <span style=\"color: #808000; text-decoration-color: #808000\">page_content</span>=<span style=\"color: #008000; text-decoration-color: #008000\">'Data Science/AI Engineer\\n\\nTIEN PHAT BUI\\n\\n0962980173 | buitienphat2462002@gmail.com </span>\n",
       "<span style=\"color: #008000; text-decoration-color: #008000\">https://www.linkedin.com/in/tien-phat-bui-ba3421222/ https://github.com/ShynBui/ Go Vap district, Ho Chi Minh </span>\n",
       "<span style=\"color: #008000; text-decoration-color: #008000\">city\\n\\nEducation\\n\\nB ACH EL OR OF IN FOR M ATION TECH N OL O G Y(Expected 05/2024) – Ho Chi Minh City Open </span>\n",
       "<span style=\"color: #008000; text-decoration-color: #008000\">University – 97 Vo Van Tan, Ward 6, District 3, Ho Chi Minh City GPA: 3.76/4.00 (Highest in Major) Majors: </span>\n",
       "<span style=\"color: #008000; text-decoration-color: #008000\">Information Technology Relevant Coursework: Machine Learning, Data Visualization and Communication, Database </span>\n",
       "<span style=\"color: #008000; text-decoration-color: #008000\">Systems and SQL, Natural Language Processing, Computer Vision, Deep Learning and Neural </span>\n",
       "<span style=\"color: #008000; text-decoration-color: #008000\">Networks\\n\\nSkills\\n\\nPython Libraries and frameworks: pandas, matplotlib, numpy, BeutifulSoup4, re, os, </span>\n",
       "<span style=\"color: #008000; text-decoration-color: #008000\">scikit-learn, Hugging Face, transformers, PyTorch, Python-Flask, LangChain, NLTK\\n\\nBig Data Apache Hadoop, </span>\n",
       "<span style=\"color: #008000; text-decoration-color: #008000\">PySpark\\n\\nSQL Software: SQLite, MySQL, SQL, PostgreSQL\\n\\nPower Bi Tools: Power Query, Visualize\\n\\nC++ Libraries:</span>\n",
       "<span style=\"color: #008000; text-decoration-color: #008000\">STL, Boot C++, Armadillo\\n\\nProjects\\n\\nLEGAL SEAR CH AN D R ES PON SE PLATFOR M – Group competition </span>\n",
       "<span style=\"color: #008000; text-decoration-color: #008000\">project\\n\\nNovember 2023 \\n\\n-\\n\\n now\\n\\nProvides users with quick access to legal information, delivers reliable </span>\n",
       "<span style=\"color: #008000; text-decoration-color: #008000\">answers to legal queries, and enables efficient navigation\\n\\nthrough legal codes and documents\\n\\nUtilizes ReactJS</span>\n",
       "<span style=\"color: #008000; text-decoration-color: #008000\">for front-end development, employs Python Flask for back-end functionality, and enhances its capabilities </span>\n",
       "<span style=\"color: #008000; text-decoration-color: #008000\">with\\n\\ncomplementary integration tools such as CI/CD (Continuous Integration/Continuous Deployment) and Docker for</span>\n",
       "<span style=\"color: #008000; text-decoration-color: #008000\">streamlined deployment processes, ensuring efficient and reliable operation\\n\\nProject management, ensuring a </span>\n",
       "<span style=\"color: #008000; text-decoration-color: #008000\">waterfall system development process, data search and preprocessing, training deep learning\\n\\nmodels based on </span>\n",
       "<span style=\"color: #008000; text-decoration-color: #008000\">PhoBERT and LangChain for question-answering tasks for answering legal and training another model to classify </span>\n",
       "<span style=\"color: #008000; text-decoration-color: #008000\">\"legal definition\" sentences in legal documents, taking on the role of data designer using MySQL, and visualize the</span>\n",
       "<span style=\"color: #008000; text-decoration-color: #008000\">model training process for reporting using matplotlib\\n\\nWinning third prize in the Vietnam Student Informatics </span>\n",
       "<span style=\"color: #008000; text-decoration-color: #008000\">Olympiad - Open source competition, the project attracted the jury for its creativity and was considered to have </span>\n",
       "<span style=\"color: #008000; text-decoration-color: #008000\">the most potential. The product is open source code that is being invested in, developed and raised capital The </span>\n",
       "<span style=\"color: #008000; text-decoration-color: #008000\">article introduces the project: </span>\n",
       "<span style=\"color: #008000; text-decoration-color: #008000\">https://vfossa.vn/tin-tuc/code-heroes-nen-tang-tra-cuu-va-giai-dap-phap-luat-ung-dung-sang- </span>\n",
       "<span style=\"color: #008000; text-decoration-color: #008000\">tao-cac-mo-hinh-ngon-ngu-lon-698.html\\n\\n\\n\\nAN AUTOM ATICALLY AN S WER IN G EN GLISH AN D VIETN AM ESE R EA D IN G</span>\n",
       "<span style=\"color: #008000; text-decoration-color: #008000\">COM PR EH EN SION S YSTEM – Personal June 2021 - January 2022 Project\\n\\nAssisting users in automatically answering</span>\n",
       "<span style=\"color: #008000; text-decoration-color: #008000\">Vietnamese or English reading comprehension questions by providing the system with\\n\\na passage of information </span>\n",
       "<span style=\"color: #008000; text-decoration-color: #008000\">(provided by the user), from which the system extracts information to answer the user\\'s queries ● Using Hugging </span>\n",
       "<span style=\"color: #008000; text-decoration-color: #008000\">Face as a model repository, we employ a BERT-based model for answering English reading </span>\n",
       "<span style=\"color: #008000; text-decoration-color: #008000\">comprehension\\n\\n\\n\\n\\n\\nquestions and a PhoBERT-based model for answering Vietnamese reading comprehension </span>\n",
       "<span style=\"color: #008000; text-decoration-color: #008000\">questions. Gradio is utilized to design an interactive interface for user interaction Taking on the role of data </span>\n",
       "<span style=\"color: #008000; text-decoration-color: #008000\">preparation, I utilize available datasets and scrape data from the web using BeautifulSoup4. Data processing is </span>\n",
       "<span style=\"color: #008000; text-decoration-color: #008000\">performed using Python, while model fine-tuning is carried out through the use of Transformers and PyTorch. Model </span>\n",
       "<span style=\"color: #008000; text-decoration-color: #008000\">evaluation and visualization of evaluation results are conducted using matplotlib The English question-answering </span>\n",
       "<span style=\"color: #008000; text-decoration-color: #008000\">model achieved a significant 78% accuracy when applied to multiple-choice questions. The Vietnamese </span>\n",
       "<span style=\"color: #008000; text-decoration-color: #008000\">question-answering model also achieved an exact match accuracy of 72%\\n\\nOTH ER PR OJECT\\n\\nOnline library ● ● </span>\n",
       "<span style=\"color: #008000; text-decoration-color: #008000\">Website for book sales management ● Vietnamese toxic comment classification Achievements and Awards\\n\\nTime </span>\n",
       "<span style=\"color: #008000; text-decoration-color: #008000\">management website\\n\\nTH E 2022 ICPC ASI A H O CH I M INH CITY – HCMUTE – Ho Chi Minh City\\n\\nDecember </span>\n",
       "<span style=\"color: #008000; text-decoration-color: #008000\">2022\\n\\nRanked among the top 260 / 470 teams in the ICPC Asia Regionals, showcasing problem-solving skills and </span>\n",
       "<span style=\"color: #008000; text-decoration-color: #008000\">algorithmic\\n\\nproficiency.\\n\\nTH E 2023 ICPC ASI A H UE CITY – Hue Uni ver si ty Of Sci ence – Hue </span>\n",
       "<span style=\"color: #008000; text-decoration-color: #008000\">City\\n\\nDecember 2023\\n\\n\\n\\nThird prize in the Vietnam Student Informatics Olympiad - Open source competition. </span>\n",
       "<span style=\"color: #008000; text-decoration-color: #008000\">Solution building project \"Developing an application to support searching and asking questions about legal </span>\n",
       "<span style=\"color: #008000; text-decoration-color: #008000\">knowledge based on the Legal Code and Legal Document Database\", applying and refining LLMs models to training </span>\n",
       "<span style=\"color: #008000; text-decoration-color: #008000\">chat-bot to answer legal questions\\n\\nTH E 24H PR OGR AMM IN G – Ho Chi Mi nh Ci ty Open Uni ver si ty – Ho Chi Mi </span>\n",
       "<span style=\"color: #008000; text-decoration-color: #008000\">nh Ci ty\\n\\nApril 2023\\n\\nChampion of the 24h Programming Contest. Build an application that applies algorithms to </span>\n",
       "<span style=\"color: #008000; text-decoration-color: #008000\">suggest user habits using machine\\n\\nlearning and visualize daily activities and consumption habits using </span>\n",
       "<span style=\"color: #008000; text-decoration-color: #008000\">matplotlib, helping users manage time and money\\n\\nWork Experience\\n\\nDATA AN AL YST – I SD CORP – Tan Binh, HCM </span>\n",
       "<span style=\"color: #008000; text-decoration-color: #008000\">City\\n\\nJune 2023 \\n\\n-\\n\\n August 2023\\n\\nCreated interactive dashboards and reports using Power BI, matplotlib to</span>\n",
       "<span style=\"color: #008000; text-decoration-color: #008000\">visualize and communicate data-driven insights to\\n\\nstakeholders\\n\\nConducted data cleaning, preprocessing, and </span>\n",
       "<span style=\"color: #008000; text-decoration-color: #008000\">feature engineering to ensure data quality and accuracy. Utilized statistical analysis\\n\\ntechniques and machine </span>\n",
       "<span style=\"color: #008000; text-decoration-color: #008000\">learning algorithms to develop predictive models for business forecasting\\n\\nDevelop charts in the CRM system to </span>\n",
       "<span style=\"color: #008000; text-decoration-color: #008000\">evaluate the business performance of the enterprise. Proficient in using SQL techniques to query data, proficiently</span>\n",
       "<span style=\"color: #008000; text-decoration-color: #008000\">applying matplotlib, Power BI and scikit-learn machine learning techniques to enhance customers\\' decision making </span>\n",
       "<span style=\"color: #008000; text-decoration-color: #008000\">process\\n\\nOptimized data processing workflows, resulting in a 10% reduction in data processing time ● Developed a </span>\n",
       "<span style=\"color: #008000; text-decoration-color: #008000\">comprehensive customer segmentation model that improved targeted marketing campaigns and increased customer </span>\n",
       "<span style=\"color: #008000; text-decoration-color: #008000\">engagement\\n\\nCertification\\n\\nDATA SCIEN C E AN D M ACH IN E L EAR N IN G CER T IFICATES\\n\\nHo Chi Minh City </span>\n",
       "<span style=\"color: #008000; text-decoration-color: #008000\">University of Natural Sciences Informatics Center ● Certification Date: 2023 ● Description: Helps master Python </span>\n",
       "<span style=\"color: #008000; text-decoration-color: #008000\">programming, use various tools and libraries for data science and machine learning engineer, apply data </span>\n",
       "<span style=\"color: #008000; text-decoration-color: #008000\">preprocessing techniques, implement machine learning algorithms to solve real problems economics, and work with Big</span>\n",
       "<span style=\"color: #008000; text-decoration-color: #008000\">Data technologies such as Spark and PySpark ICPC PAR TIC IPATI ON C ER TIFICAT E\\n\\n● Certification Date: October </span>\n",
       "<span style=\"color: #008000; text-decoration-color: #008000\">2022 \\n\\n● Description: The ICPC (International Collegiate Programming Contest) certificate is awarded to </span>\n",
       "<span style=\"color: #008000; text-decoration-color: #008000\">participants who have competed in the ICPC regional or world finals competitions. It serves as a recognition of </span>\n",
       "<span style=\"color: #008000; text-decoration-color: #008000\">their accomplishment and participation in this prestigious programming contest\\n\\nICPC Foundation'</span>,\n",
       "    <span style=\"color: #808000; text-decoration-color: #808000\">metadata</span>=<span style=\"font-weight: bold\">{</span><span style=\"color: #008000; text-decoration-color: #008000\">'source'</span>: <span style=\"color: #008000; text-decoration-color: #008000\">'../data/cv/Bui Tien Phat resume (1).pdf'</span><span style=\"font-weight: bold\">}</span>\n",
       "<span style=\"font-weight: bold\">)</span>\n",
       "</pre>\n"
      ],
      "text/plain": [
       "\u001b[1;35mDocument\u001b[0m\u001b[1m(\u001b[0m\n",
       "    \u001b[33mpage_content\u001b[0m=\u001b[32m'Data Science/AI Engineer\\n\\nTIEN PHAT BUI\\n\\n0962980173 | buitienphat2462002@gmail.com \u001b[0m\n",
       "\u001b[32mhttps://www.linkedin.com/in/tien-phat-bui-ba3421222/ https://github.com/ShynBui/ Go Vap district, Ho Chi Minh \u001b[0m\n",
       "\u001b[32mcity\\n\\nEducation\\n\\nB ACH EL OR OF IN FOR M ATION TECH N OL O G Y\u001b[0m\u001b[32m(\u001b[0m\u001b[32mExpected 05/2024\u001b[0m\u001b[32m)\u001b[0m\u001b[32m – Ho Chi Minh City Open \u001b[0m\n",
       "\u001b[32mUniversity – 97 Vo Van Tan, Ward 6, District 3, Ho Chi Minh City GPA: 3.76/4.00 \u001b[0m\u001b[32m(\u001b[0m\u001b[32mHighest in Major\u001b[0m\u001b[32m)\u001b[0m\u001b[32m Majors: \u001b[0m\n",
       "\u001b[32mInformation Technology Relevant Coursework: Machine Learning, Data Visualization and Communication, Database \u001b[0m\n",
       "\u001b[32mSystems and SQL, Natural Language Processing, Computer Vision, Deep Learning and Neural \u001b[0m\n",
       "\u001b[32mNetworks\\n\\nSkills\\n\\nPython Libraries and frameworks: pandas, matplotlib, numpy, BeutifulSoup4, re, os, \u001b[0m\n",
       "\u001b[32mscikit-learn, Hugging Face, transformers, PyTorch, Python-Flask, LangChain, NLTK\\n\\nBig Data Apache Hadoop, \u001b[0m\n",
       "\u001b[32mPySpark\\n\\nSQL Software: SQLite, MySQL, SQL, PostgreSQL\\n\\nPower Bi Tools: Power Query, Visualize\\n\\nC++ Libraries:\u001b[0m\n",
       "\u001b[32mSTL, Boot C++, Armadillo\\n\\nProjects\\n\\nLEGAL SEAR CH AN D R ES PON SE PLATFOR M – Group competition \u001b[0m\n",
       "\u001b[32mproject\\n\\nNovember 2023 \\n\\n-\\n\\n now\\n\\nProvides users with quick access to legal information, delivers reliable \u001b[0m\n",
       "\u001b[32manswers to legal queries, and enables efficient navigation\\n\\nthrough legal codes and documents\\n\\nUtilizes ReactJS\u001b[0m\n",
       "\u001b[32mfor front-end development, employs Python Flask for back-end functionality, and enhances its capabilities \u001b[0m\n",
       "\u001b[32mwith\\n\\ncomplementary integration tools such as CI/CD \u001b[0m\u001b[32m(\u001b[0m\u001b[32mContinuous Integration/Continuous Deployment\u001b[0m\u001b[32m)\u001b[0m\u001b[32m and Docker for\u001b[0m\n",
       "\u001b[32mstreamlined deployment processes, ensuring efficient and reliable operation\\n\\nProject management, ensuring a \u001b[0m\n",
       "\u001b[32mwaterfall system development process, data search and preprocessing, training deep learning\\n\\nmodels based on \u001b[0m\n",
       "\u001b[32mPhoBERT and LangChain for question-answering tasks for answering legal and training another model to classify \u001b[0m\n",
       "\u001b[32m\"legal definition\" sentences in legal documents, taking on the role of data designer using MySQL, and visualize the\u001b[0m\n",
       "\u001b[32mmodel training process for reporting using matplotlib\\n\\nWinning third prize in the Vietnam Student Informatics \u001b[0m\n",
       "\u001b[32mOlympiad - Open source competition, the project attracted the jury for its creativity and was considered to have \u001b[0m\n",
       "\u001b[32mthe most potential. The product is open source code that is being invested in, developed and raised capital The \u001b[0m\n",
       "\u001b[32marticle introduces the project: \u001b[0m\n",
       "\u001b[32mhttps://vfossa.vn/tin-tuc/code-heroes-nen-tang-tra-cuu-va-giai-dap-phap-luat-ung-dung-sang- \u001b[0m\n",
       "\u001b[32mtao-cac-mo-hinh-ngon-ngu-lon-698.html\\n\\n\\n\\nAN AUTOM ATICALLY AN S WER IN G EN GLISH AN D VIETN AM ESE R EA D IN G\u001b[0m\n",
       "\u001b[32mCOM PR EH EN SION S YSTEM – Personal June 2021 - January 2022 Project\\n\\nAssisting users in automatically answering\u001b[0m\n",
       "\u001b[32mVietnamese or English reading comprehension questions by providing the system with\\n\\na passage of information \u001b[0m\n",
       "\u001b[32m(\u001b[0m\u001b[32mprovided by the user\u001b[0m\u001b[32m)\u001b[0m\u001b[32m, from which the system extracts information to answer the user\\'s queries ● Using Hugging \u001b[0m\n",
       "\u001b[32mFace as a model repository, we employ a BERT-based model for answering English reading \u001b[0m\n",
       "\u001b[32mcomprehension\\n\\n\\n\\n\\n\\nquestions and a PhoBERT-based model for answering Vietnamese reading comprehension \u001b[0m\n",
       "\u001b[32mquestions. Gradio is utilized to design an interactive interface for user interaction Taking on the role of data \u001b[0m\n",
       "\u001b[32mpreparation, I utilize available datasets and scrape data from the web using BeautifulSoup4. Data processing is \u001b[0m\n",
       "\u001b[32mperformed using Python, while model fine-tuning is carried out through the use of Transformers and PyTorch. Model \u001b[0m\n",
       "\u001b[32mevaluation and visualization of evaluation results are conducted using matplotlib The English question-answering \u001b[0m\n",
       "\u001b[32mmodel achieved a significant 78% accuracy when applied to multiple-choice questions. The Vietnamese \u001b[0m\n",
       "\u001b[32mquestion-answering model also achieved an exact match accuracy of 72%\\n\\nOTH ER PR OJECT\\n\\nOnline library ● ● \u001b[0m\n",
       "\u001b[32mWebsite for book sales management ● Vietnamese toxic comment classification Achievements and Awards\\n\\nTime \u001b[0m\n",
       "\u001b[32mmanagement website\\n\\nTH E 2022 ICPC ASI A H O CH I M INH CITY – HCMUTE – Ho Chi Minh City\\n\\nDecember \u001b[0m\n",
       "\u001b[32m2022\\n\\nRanked among the top 260 / 470 teams in the ICPC Asia Regionals, showcasing problem-solving skills and \u001b[0m\n",
       "\u001b[32malgorithmic\\n\\nproficiency.\\n\\nTH E 2023 ICPC ASI A H UE CITY – Hue Uni ver si ty Of Sci ence – Hue \u001b[0m\n",
       "\u001b[32mCity\\n\\nDecember 2023\\n\\n\\n\\nThird prize in the Vietnam Student Informatics Olympiad - Open source competition. \u001b[0m\n",
       "\u001b[32mSolution building project \"Developing an application to support searching and asking questions about legal \u001b[0m\n",
       "\u001b[32mknowledge based on the Legal Code and Legal Document Database\", applying and refining LLMs models to training \u001b[0m\n",
       "\u001b[32mchat-bot to answer legal questions\\n\\nTH E 24H PR OGR AMM IN G – Ho Chi Mi nh Ci ty Open Uni ver si ty – Ho Chi Mi \u001b[0m\n",
       "\u001b[32mnh Ci ty\\n\\nApril 2023\\n\\nChampion of the 24h Programming Contest. Build an application that applies algorithms to \u001b[0m\n",
       "\u001b[32msuggest user habits using machine\\n\\nlearning and visualize daily activities and consumption habits using \u001b[0m\n",
       "\u001b[32mmatplotlib, helping users manage time and money\\n\\nWork Experience\\n\\nDATA AN AL YST – I SD CORP – Tan Binh, HCM \u001b[0m\n",
       "\u001b[32mCity\\n\\nJune 2023 \\n\\n-\\n\\n August 2023\\n\\nCreated interactive dashboards and reports using Power BI, matplotlib to\u001b[0m\n",
       "\u001b[32mvisualize and communicate data-driven insights to\\n\\nstakeholders\\n\\nConducted data cleaning, preprocessing, and \u001b[0m\n",
       "\u001b[32mfeature engineering to ensure data quality and accuracy. Utilized statistical analysis\\n\\ntechniques and machine \u001b[0m\n",
       "\u001b[32mlearning algorithms to develop predictive models for business forecasting\\n\\nDevelop charts in the CRM system to \u001b[0m\n",
       "\u001b[32mevaluate the business performance of the enterprise. Proficient in using SQL techniques to query data, proficiently\u001b[0m\n",
       "\u001b[32mapplying matplotlib, Power BI and scikit-learn machine learning techniques to enhance customers\\' decision making \u001b[0m\n",
       "\u001b[32mprocess\\n\\nOptimized data processing workflows, resulting in a 10% reduction in data processing time ● Developed a \u001b[0m\n",
       "\u001b[32mcomprehensive customer segmentation model that improved targeted marketing campaigns and increased customer \u001b[0m\n",
       "\u001b[32mengagement\\n\\nCertification\\n\\nDATA SCIEN C E AN D M ACH IN E L EAR N IN G CER T IFICATES\\n\\nHo Chi Minh City \u001b[0m\n",
       "\u001b[32mUniversity of Natural Sciences Informatics Center ● Certification Date: 2023 ● Description: Helps master Python \u001b[0m\n",
       "\u001b[32mprogramming, use various tools and libraries for data science and machine learning engineer, apply data \u001b[0m\n",
       "\u001b[32mpreprocessing techniques, implement machine learning algorithms to solve real problems economics, and work with Big\u001b[0m\n",
       "\u001b[32mData technologies such as Spark and PySpark ICPC PAR TIC IPATI ON C ER TIFICAT E\\n\\n● Certification Date: October \u001b[0m\n",
       "\u001b[32m2022 \\n\\n● Description: The ICPC \u001b[0m\u001b[32m(\u001b[0m\u001b[32mInternational Collegiate Programming Contest\u001b[0m\u001b[32m)\u001b[0m\u001b[32m certificate is awarded to \u001b[0m\n",
       "\u001b[32mparticipants who have competed in the ICPC regional or world finals competitions. It serves as a recognition of \u001b[0m\n",
       "\u001b[32mtheir accomplishment and participation in this prestigious programming contest\\n\\nICPC Foundation'\u001b[0m,\n",
       "    \u001b[33mmetadata\u001b[0m=\u001b[1m{\u001b[0m\u001b[32m'source'\u001b[0m: \u001b[32m'../data/cv/Bui Tien Phat resume \u001b[0m\u001b[32m(\u001b[0m\u001b[32m1\u001b[0m\u001b[32m)\u001b[0m\u001b[32m.pdf'\u001b[0m\u001b[1m}\u001b[0m\n",
       "\u001b[1m)\u001b[0m\n"
      ]
     },
     "metadata": {},
     "output_type": "display_data"
    }
   ],
   "source": [
    "print(cv[2])"
   ]
  },
  {
   "cell_type": "code",
   "execution_count": 15,
   "metadata": {
    "metadata": {}
   },
   "outputs": [
    {
     "data": {
      "text/html": [
       "<pre style=\"white-space:pre;overflow-x:auto;line-height:normal;font-family:Menlo,'DejaVu Sans Mono',consolas,'Courier New',monospace\">Entity: Cap Tan Dat\n",
       "</pre>\n"
      ],
      "text/plain": [
       "Entity: Cap Tan Dat\n"
      ]
     },
     "metadata": {},
     "output_type": "display_data"
    },
    {
     "data": {
      "text/html": [
       "<pre style=\"white-space:pre;overflow-x:auto;line-height:normal;font-family:Menlo,'DejaVu Sans Mono',consolas,'Courier New',monospace\">Label: Name\n",
       "</pre>\n"
      ],
      "text/plain": [
       "Label: Name\n"
      ]
     },
     "metadata": {},
     "output_type": "display_data"
    },
    {
     "data": {
      "text/html": [
       "<pre style=\"white-space:pre;overflow-x:auto;line-height:normal;font-family:Menlo,'DejaVu Sans Mono',consolas,'Courier New',monospace\">\n",
       "</pre>\n"
      ],
      "text/plain": [
       "\n"
      ]
     },
     "metadata": {},
     "output_type": "display_data"
    },
    {
     "data": {
      "text/html": [
       "<pre style=\"white-space:pre;overflow-x:auto;line-height:normal;font-family:Menlo,'DejaVu Sans Mono',consolas,'Courier New',monospace\">Entity: Web developer intern\n",
       "</pre>\n"
      ],
      "text/plain": [
       "Entity: Web developer intern\n"
      ]
     },
     "metadata": {},
     "output_type": "display_data"
    },
    {
     "data": {
      "text/html": [
       "<pre style=\"white-space:pre;overflow-x:auto;line-height:normal;font-family:Menlo,'DejaVu Sans Mono',consolas,'Courier New',monospace\">Label: Designation\n",
       "</pre>\n"
      ],
      "text/plain": [
       "Label: Designation\n"
      ]
     },
     "metadata": {},
     "output_type": "display_data"
    },
    {
     "data": {
      "text/html": [
       "<pre style=\"white-space:pre;overflow-x:auto;line-height:normal;font-family:Menlo,'DejaVu Sans Mono',consolas,'Courier New',monospace\">\n",
       "</pre>\n"
      ],
      "text/plain": [
       "\n"
      ]
     },
     "metadata": {},
     "output_type": "display_data"
    },
    {
     "data": {
      "text/html": [
       "<pre style=\"white-space:pre;overflow-x:auto;line-height:normal;font-family:Menlo,'DejaVu Sans Mono',consolas,'Courier New',monospace\">Entity: Ho Chi Minh City Open University\n",
       "</pre>\n"
      ],
      "text/plain": [
       "Entity: Ho Chi Minh City Open University\n"
      ]
     },
     "metadata": {},
     "output_type": "display_data"
    },
    {
     "data": {
      "text/html": [
       "<pre style=\"white-space:pre;overflow-x:auto;line-height:normal;font-family:Menlo,'DejaVu Sans Mono',consolas,'Courier New',monospace\">Label: Degree\n",
       "</pre>\n"
      ],
      "text/plain": [
       "Label: Degree\n"
      ]
     },
     "metadata": {},
     "output_type": "display_data"
    },
    {
     "data": {
      "text/html": [
       "<pre style=\"white-space:pre;overflow-x:auto;line-height:normal;font-family:Menlo,'DejaVu Sans Mono',consolas,'Courier New',monospace\">\n",
       "</pre>\n"
      ],
      "text/plain": [
       "\n"
      ]
     },
     "metadata": {},
     "output_type": "display_data"
    },
    {
     "data": {
      "text/html": [
       "<pre style=\"white-space:pre;overflow-x:auto;line-height:normal;font-family:Menlo,'DejaVu Sans Mono',consolas,'Courier New',monospace\">Entity: <span style=\"color: #008080; text-decoration-color: #008080; font-weight: bold\">2020</span>\n",
       "</pre>\n"
      ],
      "text/plain": [
       "Entity: \u001b[1;36m2020\u001b[0m\n"
      ]
     },
     "metadata": {},
     "output_type": "display_data"
    },
    {
     "data": {
      "text/html": [
       "<pre style=\"white-space:pre;overflow-x:auto;line-height:normal;font-family:Menlo,'DejaVu Sans Mono',consolas,'Courier New',monospace\">Label: Graduation Year\n",
       "</pre>\n"
      ],
      "text/plain": [
       "Label: Graduation Year\n"
      ]
     },
     "metadata": {},
     "output_type": "display_data"
    },
    {
     "data": {
      "text/html": [
       "<pre style=\"white-space:pre;overflow-x:auto;line-height:normal;font-family:Menlo,'DejaVu Sans Mono',consolas,'Courier New',monospace\">\n",
       "</pre>\n"
      ],
      "text/plain": [
       "\n"
      ]
     },
     "metadata": {},
     "output_type": "display_data"
    },
    {
     "data": {
      "text/html": [
       "<pre style=\"white-space:pre;overflow-x:auto;line-height:normal;font-family:Menlo,'DejaVu Sans Mono',consolas,'Courier New',monospace\">Entity: Programming languages\n",
       "\n",
       "Other\n",
       "\n",
       "Communication\n",
       "</pre>\n"
      ],
      "text/plain": [
       "Entity: Programming languages\n",
       "\n",
       "Other\n",
       "\n",
       "Communication\n"
      ]
     },
     "metadata": {},
     "output_type": "display_data"
    },
    {
     "data": {
      "text/html": [
       "<pre style=\"white-space:pre;overflow-x:auto;line-height:normal;font-family:Menlo,'DejaVu Sans Mono',consolas,'Courier New',monospace\">Label: Skills\n",
       "</pre>\n"
      ],
      "text/plain": [
       "Label: Skills\n"
      ]
     },
     "metadata": {},
     "output_type": "display_data"
    },
    {
     "data": {
      "text/html": [
       "<pre style=\"white-space:pre;overflow-x:auto;line-height:normal;font-family:Menlo,'DejaVu Sans Mono',consolas,'Courier New',monospace\">\n",
       "</pre>\n"
      ],
      "text/plain": [
       "\n"
      ]
     },
     "metadata": {},
     "output_type": "display_data"
    }
   ],
   "source": [
    "import spacy\n",
    "\n",
    "def load_model(model_path):\n",
    "    nlp = spacy.load(model_path)\n",
    "    return nlp\n",
    "\n",
    "def predict_entities(text, nlp):\n",
    "    doc = nlp(text)\n",
    "    entities = []\n",
    "    for ent in doc.ents:\n",
    "        entities.append((ent.text, ent.label_))\n",
    "    return entities\n",
    "\n",
    "# Load the trained model\n",
    "model_path = \"/space/hotel/phit/personal/applied-data-science/src/applied_data_science/nlp_ner_model\"\n",
    "nlp = load_model(model_path)\n",
    "\n",
    "# Example usage\n",
    "# text = \"I work at GitHub and live in San Francisco.\"\n",
    "\n",
    "text = cv[0].page_content\n",
    "entities = predict_entities(text, nlp)\n",
    "for entity, label in entities:\n",
    "    print(\"Entity:\", entity)\n",
    "    print(\"Label:\", label)\n",
    "    print()"
   ]
  },
  {
   "cell_type": "code",
   "execution_count": null,
   "metadata": {},
   "outputs": [],
   "source": [
    "\n",
    "\n",
    "docs = load_jsonl(\"../data/crawl/vnw.jsonl\")\n",
    "\n",
    "embedding_model = load_embedding_model()\n",
    "retriever = create_parent_retriever(docs, embedding_model)\n",
    "reranker_model = load_reranker_model()\n",
    "\n",
    "context = retrieve_context(\n",
    "    cv, retriever=retriever, reranker_model=reranker_model\n",
    ")[0]\n",
    "print(\"context:\\n\", context, \"\\n\", \"=\" * 50, \"\\n\")"
   ]
  },
  {
   "cell_type": "code",
   "execution_count": 17,
   "metadata": {
    "metadata": {}
   },
   "outputs": [
    {
     "data": {
      "text/html": [
       "<div>\n",
       "<style scoped>\n",
       "    .dataframe tbody tr th:only-of-type {\n",
       "        vertical-align: middle;\n",
       "    }\n",
       "\n",
       "    .dataframe tbody tr th {\n",
       "        vertical-align: top;\n",
       "    }\n",
       "\n",
       "    .dataframe thead th {\n",
       "        text-align: right;\n",
       "    }\n",
       "</style>\n",
       "<table border=\"1\" class=\"dataframe\">\n",
       "  <thead>\n",
       "    <tr style=\"text-align: right;\">\n",
       "      <th></th>\n",
       "      <th>_id</th>\n",
       "      <th>url</th>\n",
       "      <th>job_name</th>\n",
       "      <th>company_name</th>\n",
       "      <th>salary</th>\n",
       "      <th>end_date</th>\n",
       "      <th>address</th>\n",
       "      <th>posted_date</th>\n",
       "      <th>job_function</th>\n",
       "      <th>job_industry</th>\n",
       "      <th>job_level</th>\n",
       "      <th>skill</th>\n",
       "      <th>preferred_language</th>\n",
       "      <th>job_description</th>\n",
       "      <th>job_requirements</th>\n",
       "    </tr>\n",
       "  </thead>\n",
       "  <tbody>\n",
       "    <tr>\n",
       "      <th>0</th>\n",
       "      <td>661621edbb86ac211a66e91a</td>\n",
       "      <td>https://www.vietnamworks.com/giang-vien-cong-n...</td>\n",
       "      <td>Giảng Viên Công Nghệ Thông Tin (Swinburne)</td>\n",
       "      <td>Đại Học FPT TP.HCM</td>\n",
       "      <td>Thương lượng</td>\n",
       "      <td>2024-04-16</td>\n",
       "      <td>Lô E2a-7, Đường D1, Khu Công Nghệ Cao, Long Th...</td>\n",
       "      <td>04/03/2024</td>\n",
       "      <td>Công Nghệ Thông Tin/Viễn Thông,  &gt; , System/Cl...</td>\n",
       "      <td>Giáo dục/Đào Tạo</td>\n",
       "      <td>Nhân viên</td>\n",
       "      <td>Giáo Dục, Công Nghệ Thông Tin, Khoa Học Máy Tí...</td>\n",
       "      <td>Bất kỳ</td>\n",
       "      <td>[[- Giảng dạy/nghiên cứu và các hoạt động chuy...</td>\n",
       "      <td>[[- Tối thiểu tốt nghiệp cao học lãnh vực giản...</td>\n",
       "    </tr>\n",
       "    <tr>\n",
       "      <th>1</th>\n",
       "      <td>661621edbb86ac211a66e91c</td>\n",
       "      <td>https://www.vietnamworks.com/it-infrastructure...</td>\n",
       "      <td>IT Infrastructure Operations Expert</td>\n",
       "      <td>Navigos Search</td>\n",
       "      <td>$2000 - $3000</td>\n",
       "      <td>2024-04-19</td>\n",
       "      <td>Hanoi / HCMC</td>\n",
       "      <td>20/03/2024</td>\n",
       "      <td>Công Nghệ Thông Tin/Viễn Thông,  &gt; , Phần Cứng...</td>\n",
       "      <td>Tài Chính</td>\n",
       "      <td>Nhân viên</td>\n",
       "      <td>AWS Docker</td>\n",
       "      <td>Bất kỳ</td>\n",
       "      <td>[[- To prevent the incidents &amp; problems, - Man...</td>\n",
       "      <td>[[- A bachelor’s degree in computer science or...</td>\n",
       "    </tr>\n",
       "    <tr>\n",
       "      <th>2</th>\n",
       "      <td>661621edbb86ac211a66e927</td>\n",
       "      <td>https://www.vietnamworks.com/junior-backend-de...</td>\n",
       "      <td>Junior Backend Developer</td>\n",
       "      <td>Codeforce VINA</td>\n",
       "      <td>Thương lượng</td>\n",
       "      <td>2024-04-11</td>\n",
       "      <td>7th floor Saigonbus building, 39 Hai Thuong La...</td>\n",
       "      <td>12/03/2024</td>\n",
       "      <td>Công Nghệ Thông Tin/Viễn Thông,  &gt; , Phần Mềm ...</td>\n",
       "      <td>Phần Mềm CNTT/Dịch vụ Phần mềm</td>\n",
       "      <td>Nhân viên</td>\n",
       "      <td>MySQL, Typescript, RESTful API Design, Lập Trì...</td>\n",
       "      <td>Bất kỳ</td>\n",
       "      <td>[[Job Description: We are seeking a motivated ...</td>\n",
       "      <td>[[***Job Requirements:, • Proficiency in backe...</td>\n",
       "    </tr>\n",
       "    <tr>\n",
       "      <th>3</th>\n",
       "      <td>661621edbb86ac211a66e928</td>\n",
       "      <td>https://www.vietnamworks.com/senior-qc-enginee...</td>\n",
       "      <td>Senior QC Engineer</td>\n",
       "      <td>Globee Software &amp; E-Commerce</td>\n",
       "      <td>Tới $1000</td>\n",
       "      <td>2024-04-17</td>\n",
       "      <td>No. 3 Ba Thang Hai, Ward 11, District 10</td>\n",
       "      <td>18/03/2024</td>\n",
       "      <td>Công Nghệ Thông Tin/Viễn Thông,  &gt; , QA/QC/Sof...</td>\n",
       "      <td>Phần Mềm CNTT/Dịch vụ Phần mềm</td>\n",
       "      <td>Nhân viên</td>\n",
       "      <td>Ecommerce Platforms, Salesforce, Ecommerce Tes...</td>\n",
       "      <td>Tiếng Anh</td>\n",
       "      <td>[[- Understand the system, analyze the documen...</td>\n",
       "      <td>[[- At least 03 YOE working as QC (auto/manual...</td>\n",
       "    </tr>\n",
       "    <tr>\n",
       "      <th>4</th>\n",
       "      <td>661621edbb86ac211a66e92a</td>\n",
       "      <td>https://www.vietnamworks.com/qm-staff-japanese...</td>\n",
       "      <td>QM Staff (Japanese N2+, Open for IT Comtor)</td>\n",
       "      <td>NEC Vietnam</td>\n",
       "      <td>Thương lượng</td>\n",
       "      <td>2024-04-17</td>\n",
       "      <td>12th Floor, Gelex Tower, 52 Le Dai Hanh, Hai B...</td>\n",
       "      <td>18/03/2024</td>\n",
       "      <td>Công Nghệ Thông Tin/Viễn Thông,  &gt; , QA/QC/Sof...</td>\n",
       "      <td>Phần Mềm CNTT/Dịch vụ Phần mềm</td>\n",
       "      <td>Nhân viên</td>\n",
       "      <td>QMS, QMS Management, IT Auditing, IT Risk Mana...</td>\n",
       "      <td>Bất kỳ</td>\n",
       "      <td>[[Your role &amp; responsibilities:, NECVN perform...</td>\n",
       "      <td>[[Your skills &amp; qualifications:, - Bachelor's ...</td>\n",
       "    </tr>\n",
       "    <tr>\n",
       "      <th>...</th>\n",
       "      <td>...</td>\n",
       "      <td>...</td>\n",
       "      <td>...</td>\n",
       "      <td>...</td>\n",
       "      <td>...</td>\n",
       "      <td>...</td>\n",
       "      <td>...</td>\n",
       "      <td>...</td>\n",
       "      <td>...</td>\n",
       "      <td>...</td>\n",
       "      <td>...</td>\n",
       "      <td>...</td>\n",
       "      <td>...</td>\n",
       "      <td>...</td>\n",
       "      <td>...</td>\n",
       "    </tr>\n",
       "    <tr>\n",
       "      <th>1349</th>\n",
       "      <td>6628aee1ebef1caba803300a</td>\n",
       "      <td>https://www.vietnamworks.com/business-analyst-...</td>\n",
       "      <td>Business Analyst</td>\n",
       "      <td>ELCA Information Technology (Vietnam) Limited</td>\n",
       "      <td>Thương lượng</td>\n",
       "      <td>2024-05-23</td>\n",
       "      <td>15F-19F CII Tower, 152 Dien Bien Phu, Ward 25,...</td>\n",
       "      <td>23/04/2024</td>\n",
       "      <td>Công Nghệ Thông Tin/Viễn Thông,  &gt; , Phân Tích...</td>\n",
       "      <td>Phần Mềm CNTT/Dịch vụ Phần mềm</td>\n",
       "      <td>Nhân viên</td>\n",
       "      <td>SQL, Business Analysis, UI/UX, UI Mockup, Func...</td>\n",
       "      <td>Tiếng Anh</td>\n",
       "      <td>[[MISSION], [You will work alongside developer...</td>\n",
       "      <td>[[QUALIFICATIONS], [Required], [- Minimum of 3...</td>\n",
       "    </tr>\n",
       "    <tr>\n",
       "      <th>1350</th>\n",
       "      <td>6628aee1ebef1caba8033010</td>\n",
       "      <td>https://www.vietnamworks.com/network-engineer-...</td>\n",
       "      <td>Network Engineer</td>\n",
       "      <td>K2 SOLUTIONS CO., LTD.</td>\n",
       "      <td>Thương lượng</td>\n",
       "      <td>2024-05-23</td>\n",
       "      <td></td>\n",
       "      <td>23/04/2024</td>\n",
       "      <td>Công Nghệ Thông Tin/Viễn Thông,  &gt; , System/Cl...</td>\n",
       "      <td>Hệ thống CNTT &amp; Thiết bị</td>\n",
       "      <td>Nhân viên</td>\n",
       "      <td>Network, CCNP, CCNA, Data Center Management, N...</td>\n",
       "      <td>Tiếng Anh</td>\n",
       "      <td>[[ABOUT THE POSITION:], [You will be part of K...</td>\n",
       "      <td>[[POSTION REQUIREMENT], [1.\\tNetwork Design an...</td>\n",
       "    </tr>\n",
       "    <tr>\n",
       "      <th>1351</th>\n",
       "      <td>6628aee1ebef1caba8033011</td>\n",
       "      <td>https://www.vietnamworks.com/embedded-software...</td>\n",
       "      <td>Embedded Software Engineer (Autosar, CAN Tools...</td>\n",
       "      <td>Ban Vien Corporation</td>\n",
       "      <td>Thương lượng</td>\n",
       "      <td>2024-05-23</td>\n",
       "      <td>Ban Vien Tower, 54-56-58 Street 2, Van Phuc Re...</td>\n",
       "      <td>23/04/2024</td>\n",
       "      <td>Công Nghệ Thông Tin/Viễn Thông,  &gt; , Phần Mềm ...</td>\n",
       "      <td>Phần Mềm CNTT/Dịch vụ Phần mềm</td>\n",
       "      <td>Nhân viên</td>\n",
       "      <td>C/C++, Embedded Software, AUTOSAR, Software En...</td>\n",
       "      <td>Tiếng Anh</td>\n",
       "      <td>[[- Software development for Automotive Domain...</td>\n",
       "      <td>[[* MUST HAVE], [- Strong in C/C++ programming...</td>\n",
       "    </tr>\n",
       "    <tr>\n",
       "      <th>1352</th>\n",
       "      <td>6628aee1ebef1caba803301d</td>\n",
       "      <td>https://www.vietnamworks.com/it-project-coordi...</td>\n",
       "      <td>IT Project Coordinator</td>\n",
       "      <td>RMIT University Vietnam</td>\n",
       "      <td>$1200 - $1400</td>\n",
       "      <td>2024-05-23</td>\n",
       "      <td>702 Nguyen Van Linh Boulevard, Tan Phong Ward,...</td>\n",
       "      <td>23/04/2024</td>\n",
       "      <td>Công Nghệ Thông Tin/Viễn Thông,  &gt; , Quản Lý D...</td>\n",
       "      <td>Giáo dục/Đào Tạo</td>\n",
       "      <td>Nhân viên</td>\n",
       "      <td>Project Management, Project Coordination, IT S...</td>\n",
       "      <td>Tiếng Anh</td>\n",
       "      <td>[[RMIT University Commitment], [RMIT is commit...</td>\n",
       "      <td>[[Key Selection Criteria], [At least 3 years o...</td>\n",
       "    </tr>\n",
       "    <tr>\n",
       "      <th>1353</th>\n",
       "      <td>6628aee1ebef1caba803301f</td>\n",
       "      <td>https://www.vietnamworks.com/developer-odoo-fr...</td>\n",
       "      <td>Developer (Odoo Framework)</td>\n",
       "      <td>Maker Sixty Four</td>\n",
       "      <td>Thương lượng</td>\n",
       "      <td>2024-05-23</td>\n",
       "      <td>Lô E2, Đường số 1, KCN Tân Đô, Đức Hòa Hạ, Đức...</td>\n",
       "      <td>23/04/2024</td>\n",
       "      <td>Công Nghệ Thông Tin/Viễn Thông,  &gt; , Phần Mềm ...</td>\n",
       "      <td>Sản xuất</td>\n",
       "      <td>Nhân viên</td>\n",
       "      <td>Python, Odoo, ERP, Lập Trình Viên, IT Phần Mềm</td>\n",
       "      <td>Tiếng Anh</td>\n",
       "      <td>[[- Tham gia vào dự án phát triển, nâng cấp ph...</td>\n",
       "      <td>[[- Kinh nghiệm:], [+ Tốt nghiệp Đại học ngành...</td>\n",
       "    </tr>\n",
       "  </tbody>\n",
       "</table>\n",
       "<p>1354 rows × 15 columns</p>\n",
       "</div>"
      ],
      "text/plain": [
       "                           _id  \\\n",
       "0     661621edbb86ac211a66e91a   \n",
       "1     661621edbb86ac211a66e91c   \n",
       "2     661621edbb86ac211a66e927   \n",
       "3     661621edbb86ac211a66e928   \n",
       "4     661621edbb86ac211a66e92a   \n",
       "...                        ...   \n",
       "1349  6628aee1ebef1caba803300a   \n",
       "1350  6628aee1ebef1caba8033010   \n",
       "1351  6628aee1ebef1caba8033011   \n",
       "1352  6628aee1ebef1caba803301d   \n",
       "1353  6628aee1ebef1caba803301f   \n",
       "\n",
       "                                                    url  \\\n",
       "0     https://www.vietnamworks.com/giang-vien-cong-n...   \n",
       "1     https://www.vietnamworks.com/it-infrastructure...   \n",
       "2     https://www.vietnamworks.com/junior-backend-de...   \n",
       "3     https://www.vietnamworks.com/senior-qc-enginee...   \n",
       "4     https://www.vietnamworks.com/qm-staff-japanese...   \n",
       "...                                                 ...   \n",
       "1349  https://www.vietnamworks.com/business-analyst-...   \n",
       "1350  https://www.vietnamworks.com/network-engineer-...   \n",
       "1351  https://www.vietnamworks.com/embedded-software...   \n",
       "1352  https://www.vietnamworks.com/it-project-coordi...   \n",
       "1353  https://www.vietnamworks.com/developer-odoo-fr...   \n",
       "\n",
       "                                               job_name  \\\n",
       "0            Giảng Viên Công Nghệ Thông Tin (Swinburne)   \n",
       "1                   IT Infrastructure Operations Expert   \n",
       "2                              Junior Backend Developer   \n",
       "3                                    Senior QC Engineer   \n",
       "4           QM Staff (Japanese N2+, Open for IT Comtor)   \n",
       "...                                                 ...   \n",
       "1349                                   Business Analyst   \n",
       "1350                                   Network Engineer   \n",
       "1351  Embedded Software Engineer (Autosar, CAN Tools...   \n",
       "1352                             IT Project Coordinator   \n",
       "1353                         Developer (Odoo Framework)   \n",
       "\n",
       "                                       company_name         salary  \\\n",
       "0                                Đại Học FPT TP.HCM   Thương lượng   \n",
       "1                                    Navigos Search  $2000 - $3000   \n",
       "2                                    Codeforce VINA   Thương lượng   \n",
       "3                      Globee Software & E-Commerce      Tới $1000   \n",
       "4                                       NEC Vietnam   Thương lượng   \n",
       "...                                             ...            ...   \n",
       "1349  ELCA Information Technology (Vietnam) Limited   Thương lượng   \n",
       "1350                         K2 SOLUTIONS CO., LTD.   Thương lượng   \n",
       "1351                           Ban Vien Corporation   Thương lượng   \n",
       "1352                        RMIT University Vietnam  $1200 - $1400   \n",
       "1353                               Maker Sixty Four   Thương lượng   \n",
       "\n",
       "        end_date                                            address  \\\n",
       "0     2024-04-16  Lô E2a-7, Đường D1, Khu Công Nghệ Cao, Long Th...   \n",
       "1     2024-04-19                                       Hanoi / HCMC   \n",
       "2     2024-04-11  7th floor Saigonbus building, 39 Hai Thuong La...   \n",
       "3     2024-04-17           No. 3 Ba Thang Hai, Ward 11, District 10   \n",
       "4     2024-04-17  12th Floor, Gelex Tower, 52 Le Dai Hanh, Hai B...   \n",
       "...          ...                                                ...   \n",
       "1349  2024-05-23  15F-19F CII Tower, 152 Dien Bien Phu, Ward 25,...   \n",
       "1350  2024-05-23                                                      \n",
       "1351  2024-05-23  Ban Vien Tower, 54-56-58 Street 2, Van Phuc Re...   \n",
       "1352  2024-05-23  702 Nguyen Van Linh Boulevard, Tan Phong Ward,...   \n",
       "1353  2024-05-23  Lô E2, Đường số 1, KCN Tân Đô, Đức Hòa Hạ, Đức...   \n",
       "\n",
       "     posted_date                                       job_function  \\\n",
       "0     04/03/2024  Công Nghệ Thông Tin/Viễn Thông,  > , System/Cl...   \n",
       "1     20/03/2024  Công Nghệ Thông Tin/Viễn Thông,  > , Phần Cứng...   \n",
       "2     12/03/2024  Công Nghệ Thông Tin/Viễn Thông,  > , Phần Mềm ...   \n",
       "3     18/03/2024  Công Nghệ Thông Tin/Viễn Thông,  > , QA/QC/Sof...   \n",
       "4     18/03/2024  Công Nghệ Thông Tin/Viễn Thông,  > , QA/QC/Sof...   \n",
       "...          ...                                                ...   \n",
       "1349  23/04/2024  Công Nghệ Thông Tin/Viễn Thông,  > , Phân Tích...   \n",
       "1350  23/04/2024  Công Nghệ Thông Tin/Viễn Thông,  > , System/Cl...   \n",
       "1351  23/04/2024  Công Nghệ Thông Tin/Viễn Thông,  > , Phần Mềm ...   \n",
       "1352  23/04/2024  Công Nghệ Thông Tin/Viễn Thông,  > , Quản Lý D...   \n",
       "1353  23/04/2024  Công Nghệ Thông Tin/Viễn Thông,  > , Phần Mềm ...   \n",
       "\n",
       "                        job_industry  job_level  \\\n",
       "0                   Giáo dục/Đào Tạo  Nhân viên   \n",
       "1                          Tài Chính  Nhân viên   \n",
       "2     Phần Mềm CNTT/Dịch vụ Phần mềm  Nhân viên   \n",
       "3     Phần Mềm CNTT/Dịch vụ Phần mềm  Nhân viên   \n",
       "4     Phần Mềm CNTT/Dịch vụ Phần mềm  Nhân viên   \n",
       "...                              ...        ...   \n",
       "1349  Phần Mềm CNTT/Dịch vụ Phần mềm  Nhân viên   \n",
       "1350        Hệ thống CNTT & Thiết bị  Nhân viên   \n",
       "1351  Phần Mềm CNTT/Dịch vụ Phần mềm  Nhân viên   \n",
       "1352                Giáo dục/Đào Tạo  Nhân viên   \n",
       "1353                        Sản xuất  Nhân viên   \n",
       "\n",
       "                                                  skill preferred_language  \\\n",
       "0     Giáo Dục, Công Nghệ Thông Tin, Khoa Học Máy Tí...             Bất kỳ   \n",
       "1                                            AWS Docker             Bất kỳ   \n",
       "2     MySQL, Typescript, RESTful API Design, Lập Trì...             Bất kỳ   \n",
       "3     Ecommerce Platforms, Salesforce, Ecommerce Tes...          Tiếng Anh   \n",
       "4     QMS, QMS Management, IT Auditing, IT Risk Mana...             Bất kỳ   \n",
       "...                                                 ...                ...   \n",
       "1349  SQL, Business Analysis, UI/UX, UI Mockup, Func...          Tiếng Anh   \n",
       "1350  Network, CCNP, CCNA, Data Center Management, N...          Tiếng Anh   \n",
       "1351  C/C++, Embedded Software, AUTOSAR, Software En...          Tiếng Anh   \n",
       "1352  Project Management, Project Coordination, IT S...          Tiếng Anh   \n",
       "1353     Python, Odoo, ERP, Lập Trình Viên, IT Phần Mềm          Tiếng Anh   \n",
       "\n",
       "                                        job_description  \\\n",
       "0     [[- Giảng dạy/nghiên cứu và các hoạt động chuy...   \n",
       "1     [[- To prevent the incidents & problems, - Man...   \n",
       "2     [[Job Description: We are seeking a motivated ...   \n",
       "3     [[- Understand the system, analyze the documen...   \n",
       "4     [[Your role & responsibilities:, NECVN perform...   \n",
       "...                                                 ...   \n",
       "1349  [[MISSION], [You will work alongside developer...   \n",
       "1350  [[ABOUT THE POSITION:], [You will be part of K...   \n",
       "1351  [[- Software development for Automotive Domain...   \n",
       "1352  [[RMIT University Commitment], [RMIT is commit...   \n",
       "1353  [[- Tham gia vào dự án phát triển, nâng cấp ph...   \n",
       "\n",
       "                                       job_requirements  \n",
       "0     [[- Tối thiểu tốt nghiệp cao học lãnh vực giản...  \n",
       "1     [[- A bachelor’s degree in computer science or...  \n",
       "2     [[***Job Requirements:, • Proficiency in backe...  \n",
       "3     [[- At least 03 YOE working as QC (auto/manual...  \n",
       "4     [[Your skills & qualifications:, - Bachelor's ...  \n",
       "...                                                 ...  \n",
       "1349  [[QUALIFICATIONS], [Required], [- Minimum of 3...  \n",
       "1350  [[POSTION REQUIREMENT], [1.\\tNetwork Design an...  \n",
       "1351  [[* MUST HAVE], [- Strong in C/C++ programming...  \n",
       "1352  [[Key Selection Criteria], [At least 3 years o...  \n",
       "1353  [[- Kinh nghiệm:], [+ Tốt nghiệp Đại học ngành...  \n",
       "\n",
       "[1354 rows x 15 columns]"
      ]
     },
     "execution_count": 17,
     "metadata": {},
     "output_type": "execute_result"
    }
   ],
   "source": [
    "import pandas as pd\n",
    "df = pd.read_json(\"../data/crawl/vnw.jsonl\", lines=True)\n",
    "df"
   ]
  },
  {
   "cell_type": "markdown",
   "metadata": {},
   "source": [
    "### Query schema"
   ]
  },
  {
   "cell_type": "code",
   "execution_count": null,
   "metadata": {},
   "outputs": [],
   "source": [
    "# from typing import Optional\n",
    "\n",
    "# from langchain_core.pydantic_v1 import BaseModel, Field\n",
    "\n",
    "\n",
    "# class Search(BaseModel):\n",
    "#     \"\"\"Search over a database of tutorial videos about a software library.\"\"\"\n",
    "\n",
    "#     query: str = Field(\n",
    "#         ...,\n",
    "#         description=\"Similarity search query applied to video transcripts.\",\n",
    "#     )\n",
    "#     publish_year: Optional[int] = Field(None, description=\"Year video was published\")"
   ]
  },
  {
   "cell_type": "markdown",
   "metadata": {},
   "source": [
    "### Query generation"
   ]
  },
  {
   "cell_type": "code",
   "execution_count": null,
   "metadata": {
    "metadata": {}
   },
   "outputs": [],
   "source": [
    "# from langchain_core.prompts import ChatPromptTemplate\n",
    "# from langchain_core.runnables import RunnablePassthrough\n",
    "# from langchain_openai import ChatOpenAI\n",
    "\n",
    "# system = \"\"\"You are an expert at converting user questions into database queries. \\\n",
    "# You have access to a database of tutorial videos about a software library for building LLM-powered applications. \\\n",
    "# Given a question, return a list of database queries optimized to retrieve the most relevant results.\n",
    "\n",
    "# If there are acronyms or words you are not familiar with, do not try to rephrase them.\"\"\"\n",
    "# prompt = ChatPromptTemplate.from_messages(\n",
    "#     [\n",
    "#         (\"system\", system),\n",
    "#         (\"human\", \"{question}\"),\n",
    "#     ]\n",
    "# )\n",
    "# llm = ChatOpenAI(model=\"gpt-3.5-turbo-0125\", temperature=0)\n",
    "# structured_llm = llm.with_structured_output(Search)\n",
    "# query_analyzer = {\"question\": RunnablePassthrough()} | prompt | structured_llm"
   ]
  },
  {
   "cell_type": "code",
   "execution_count": 22,
   "metadata": {
    "metadata": {}
   },
   "outputs": [],
   "source": [
    "from langchain_core.output_parsers import StrOutputParser\n",
    "import time"
   ]
  },
  {
   "cell_type": "code",
   "execution_count": 4,
   "metadata": {
    "metadata": {}
   },
   "outputs": [
    {
     "data": {
      "text/plain": [
       "AIMessage(content=\" A Network Engineer is responsible for designing, building, testing, and maintaining computer networks, such as Local Area Networks (LAN), Wide Area Networks (WAN) and Intranets. Here are some key responsibilities and tasks involved:\\n\\n1. Designing and implementing network architecture: This involves planning the layout of a company's network, considering factors like bandwidth needs, security requirements, and scalability.\\n\\n2. Network configuration and management: Configuring network devices like routers, switches, firewalls, and servers to ensure they operate efficiently and securely.\\n\\n3. Troubleshooting network issues: Identifying and resolving problems that may affect the network's performance or security, such as connectivity issues, network congestion, or unauthorized access attempts.\\n\\n4. Network monitoring and maintenance: Monitoring network performance to ensure optimal operation, performing regular software updates and patches, and implementing preventative measures to minimize potential issues.\\n\\n5. Collaborating with other IT teams: Working closely with system administrators, security specialists, and other technical staff to ensure seamless integration of the network with various IT systems and services.\\n\\n6. Network documentation and record-keeping: Maintaining accurate records of network configuration, changes made, and troubleshooting steps taken for future reference and auditing purposes.\\n\\n7. Researching emerging technologies: Staying up-to-date with new networking trends, technologies, and best practices to improve the network's efficiency and security.\\n\\n8. Vendor management: Managing relationships with hardware and software vendors, negotiating contracts, and ensuring that the network infrastructure aligns with the company's goals and budget constraints.\\n\\n9. Providing technical support and guidance: Assisting end-users, IT staff, or other departments with network-related issues, as well as offering advice on best practices for using the network effectively.\\n\\n10. Ensuring network security: Implementing measures to protect the network from potential threats, such as viruses, hackers, and unauthorized access attempts, and ensuring compliance with relevant regulations and standards.\", response_metadata={'model': 'mistral', 'created_at': '2024-06-10T05:41:12.636113763Z', 'message': {'role': 'assistant', 'content': ''}, 'done_reason': 'stop', 'done': True, 'total_duration': 167002206768, 'load_duration': 39671735496, 'prompt_eval_count': 14, 'prompt_eval_duration': 1965021000, 'eval_count': 449, 'eval_duration': 125361573000}, id='run-2ad5372f-5c34-4391-b904-ebed79807128-0')"
      ]
     },
     "execution_count": 4,
     "metadata": {},
     "output_type": "execute_result"
    }
   ],
   "source": [
    "import os\n",
    "from langchain_community.chat_models import ChatOllama\n",
    "\n",
    "llm = ChatOllama(model=\"mistral\", base_url=\"http://172.16.87.75:11434\")\n",
    "\n",
    "\n",
    "llm.invoke(\"What is the job description for Network Engineer?\")"
   ]
  },
  {
   "cell_type": "code",
   "execution_count": 1,
   "metadata": {
    "metadata": {}
   },
   "outputs": [],
   "source": [
    "from ollama import Client \n",
    "import os\n",
    "\n",
    "os.environ[\"NO_PROXY\"] = \"172.16.87.75\"\n",
    "\n",
    "ollama_client = Client(host=\"http://172.16.87.75:11434\")\n",
    "reponse = ollama_client.chat(model=\"mistral\", messages=[\n",
    "    {\"role\": \"system\", \"content\": \"You are an expert at converting user questions into database queries. You have access to a database of tutorial videos about a software library for building LLM-powered applications. Given a question, return a list of database queries optimized to retrieve the most relevant results. If there are acronyms or words you are not familiar with, do not try to rephrase them.\"},\n",
    "    {\"role\": \"user\", \"content\": \"What is the job description for Network Engineer?\"}\n",
    "], options={\"structured_output\": {\"type\": \"Search\"}})"
   ]
  },
  {
   "cell_type": "code",
   "execution_count": 2,
   "metadata": {
    "metadata": {}
   },
   "outputs": [
    {
     "data": {
      "text/plain": [
       "{'model': 'mistral',\n",
       " 'created_at': '2024-06-10T05:35:49.755469409Z',\n",
       " 'message': {'role': 'assistant',\n",
       "  'content': ' To retrieve the job descriptions associated with the role \"Network Engineer\" from the tutorial videos database, here are some possible SQL queries:\\n\\n1. If there is a column named `role` in the table that stores video metadata:\\n\\n```sql\\nSELECT description\\nFROM tutorial_videos\\nWHERE role = \\'Network Engineer\\';\\n```\\n\\n2. If there isn\\'t a specific column for the job description, but instead, the descriptions are included in the `content` or `transcript` columns, you can use full-text search features if available:\\n\\n```sql\\n-- MySQL Full-Text Search\\nSELECT id, content\\nFROM tutorial_videos\\nWHERE MATCH (content, transcript) AGAINST (\\'Network Engineer\\' IN BOOLEAN MODE);\\n\\n-- PostgreSQL using ts_query\\nSELECT id, content, transcript\\nFROM tutorial_videos\\nWHERE to_tsvector(\\'english\\', content || \\' \\' || transcript) @@ to_tsquery(\\'Network Engineer\\');\\n```'},\n",
       " 'done_reason': 'stop',\n",
       " 'done': True,\n",
       " 'total_duration': 37797153234,\n",
       " 'load_duration': 1481010126,\n",
       " 'prompt_eval_count': 90,\n",
       " 'prompt_eval_duration': 5626433000,\n",
       " 'eval_count': 233,\n",
       " 'eval_duration': 30641911000}"
      ]
     },
     "execution_count": 2,
     "metadata": {},
     "output_type": "execute_result"
    }
   ],
   "source": [
    "reponse"
   ]
  },
  {
   "cell_type": "code",
   "execution_count": 3,
   "metadata": {
    "metadata": {}
   },
   "outputs": [
    {
     "data": {
      "text/plain": [
       "['../data/cv/CV Cap Tan Dat - Intern Developer.pdf',\n",
       " '../data/cv/CV_SonBao_DS.pdf',\n",
       " '../data/cv/Bui Tien Phat resume (1).pdf',\n",
       " '../data/cv/CV Nguyễn việt hoàng - CV lập trình-TopCV.vn.pdf',\n",
       " '../data/cv/CV _ Đinh Tuấn Nam_BE Developer(.NET)_HCM.pdf',\n",
       " '../data/cv/CV_MaiHuyKhang_DA.pdf',\n",
       " '../data/cv/CV_NGUYEN_MINH_SON.pdf']"
      ]
     },
     "execution_count": 3,
     "metadata": {},
     "output_type": "execute_result"
    }
   ],
   "source": [
    "import os\n",
    "files = [\"../data/cv/\" + file for file in os.listdir(\"../data/cv\")]\n",
    "print(files)\n",
    "\n",
    "cv = load_pdf(files)"
   ]
  },
  {
   "cell_type": "code",
   "execution_count": 9,
   "metadata": {
    "metadata": {}
   },
   "outputs": [
    {
     "data": {
      "text/html": [
       "<pre style=\"white-space:pre;overflow-x:auto;line-height:normal;font-family:Menlo,'DejaVu Sans Mono',consolas,'Courier New',monospace\">HỒ SƠ CÁ NHÂN\n",
       "\n",
       " <span style=\"color: #008080; text-decoration-color: #008080; font-weight: bold\">19</span>/<span style=\"color: #008080; text-decoration-color: #008080; font-weight: bold\">01</span>/<span style=\"color: #008080; text-decoration-color: #008080; font-weight: bold\">2003</span>\n",
       "\n",
       " <span style=\"color: #008080; text-decoration-color: #008080; font-weight: bold\">0387</span> <span style=\"color: #008080; text-decoration-color: #008080; font-weight: bold\">36</span> <span style=\"color: #008080; text-decoration-color: #008080; font-weight: bold\">1513</span>\n",
       "\n",
       "✉ hoangpham19112002@gmail.com\n",
       "\n",
       " <span style=\"color: #0000ff; text-decoration-color: #0000ff; text-decoration: underline\">https://github.com/hoangphampvh/</span>\n",
       "\n",
       "csharp5.git\n",
       "\n",
       " Nguyễn Cơ Thạch/Mỹ Đình <span style=\"color: #008080; text-decoration-color: #008080; font-weight: bold\">2</span>/ Hà Nội\n",
       "\n",
       "CAREER GOALS\n",
       "\n",
       "Các mục tiêu ngắn hạn:\n",
       "\n",
       "Củng cố, bổ sung những kiến thức hiện\n",
       "\n",
       "có để hoàn thiện và nâng cao giá trị cá\n",
       "\n",
       "nhân.\n",
       "\n",
       "Đồng thời, trau dồi các kỹ năng và kiến\n",
       "\n",
       "thức .NET hiện tại, làm việc trong vai\n",
       "\n",
       "trò lập trình viên .NET.\n",
       "\n",
       "Mục tiêu dài hạn:\n",
       "\n",
       "Trở thành Nhà phát triển cấp cao có\n",
       "\n",
       "chuyên môn vững vàng trong vòng <span style=\"color: #008080; text-decoration-color: #008080; font-weight: bold\">3</span>-<span style=\"color: #008080; text-decoration-color: #008080; font-weight: bold\">4</span>\n",
       "\n",
       "năm kinh nghiệm chuyên môn.\n",
       "\n",
       "SKILLS\n",
       "\n",
       "Kỹ năng cứng Đọc và hiểu tài liệu tiếng Anh GitHub, ASP .NET Core, .NET framework, SOLID, design pattern, Redis, \n",
       "Bootstrap và MudBlazor Sử dụng khung Bootstrap và MudBlazor để thiết kế giao diện người dùng. HTML, CSS và jQuery \n",
       "<span style=\"font-weight: bold\">(</span>KENDO<span style=\"font-weight: bold\">)</span> cho Front-end Kiến thức cơ bản về kiểm thử ứng dụng.\n",
       "\n",
       "Kỹ năng mềm Làm việc hiệu quả trong các dự án nhóm với kỹ năng hợp tác. Duy trì sự tập trung và kiên trì trong công\n",
       "việc dưới áp lực và thời hạn\n",
       "\n",
       "NGUYỄN VIỆT HOÀNG FREHER .NET PROGRAMMER\n",
       "\n",
       "HỌC VẤN\n",
       "\n",
       "FPT Polytechnic College\n",
       "\n",
       "NFORMATION TECHNOLOGY <span style=\"color: #008080; text-decoration-color: #008080; font-weight: bold\">10</span>/<span style=\"color: #008080; text-decoration-color: #008080; font-weight: bold\">2021</span> \n",
       "\n",
       "-\n",
       "\n",
       " <span style=\"color: #008080; text-decoration-color: #008080; font-weight: bold\">01</span>/<span style=\"color: #008080; text-decoration-color: #008080; font-weight: bold\">2024</span>\n",
       "\n",
       "Hiện tại tôi đang học học kỳ thứ <span style=\"color: #008080; text-decoration-color: #008080; font-weight: bold\">7</span> với tư cách là sinh viên. Tôi đã đạt được danh hiệu Sinh viên Xuất sắc trong học\n",
       "kỳ Mùa thu năm <span style=\"color: #008080; text-decoration-color: #008080; font-weight: bold\">2021</span> và giành được ba danh\n",
       "\n",
       "hiệu Sinh viên Xuất sắc cho các học kỳ Mùa xuân <span style=\"color: #008080; text-decoration-color: #008080; font-weight: bold\">2022</span>, Mùa hè <span style=\"color: #008080; text-decoration-color: #008080; font-weight: bold\">2022</span> và Mùa thu\n",
       "\n",
       "<span style=\"color: #008080; text-decoration-color: #008080; font-weight: bold\">2022</span>.\n",
       "\n",
       "KINH NGHIỆM LÀM VIỆC\n",
       "\n",
       "FPT Polytechnic College\n",
       "\n",
       ".NET PROGRAMMER <span style=\"color: #008080; text-decoration-color: #008080; font-weight: bold\">10</span>/<span style=\"color: #008080; text-decoration-color: #008080; font-weight: bold\">2021</span> \n",
       "\n",
       "-\n",
       "\n",
       " <span style=\"color: #008080; text-decoration-color: #008080; font-weight: bold\">01</span>/<span style=\"color: #008080; text-decoration-color: #008080; font-weight: bold\">2024</span>\n",
       "\n",
       "Thực hiện các dự án liên quan đến .NET.\n",
       "\n",
       "Cong ty <span style=\"color: #800080; text-decoration-color: #800080; font-weight: bold\">xxx</span><span style=\"font-weight: bold\">(</span><span style=\"color: #008080; text-decoration-color: #008080; font-weight: bold\">3</span> tháng<span style=\"font-weight: bold\">)</span>\n",
       "\n",
       "THỰC HIỆN CÁC DỰ ÁN LIÊN QUAN ĐẾN .NET. <span style=\"color: #008080; text-decoration-color: #008080; font-weight: bold\">24</span>/<span style=\"color: #008080; text-decoration-color: #008080; font-weight: bold\">5</span> - <span style=\"color: #008080; text-decoration-color: #008080; font-weight: bold\">24</span>/<span style=\"color: #008080; text-decoration-color: #008080; font-weight: bold\">8</span>\n",
       "\n",
       "Làm quen và tham gia mô hình phát triển hệ thống phần mềm sau <span style=\"color: #008080; text-decoration-color: #008080; font-weight: bold\">3</span> tháng thực tập.\n",
       "\n",
       "FPT Project Workshop <span style=\"font-weight: bold\">(</span><span style=\"color: #008080; text-decoration-color: #008080; font-weight: bold\">2</span> tháng<span style=\"font-weight: bold\">)</span>\n",
       "\n",
       "DEVELOPER <span style=\"color: #008080; text-decoration-color: #008080; font-weight: bold\">01</span>/<span style=\"color: #008080; text-decoration-color: #008080; font-weight: bold\">04</span>/<span style=\"color: #008080; text-decoration-color: #008080; font-weight: bold\">2023</span> \n",
       "\n",
       "-\n",
       "\n",
       " <span style=\"color: #008080; text-decoration-color: #008080; font-weight: bold\">20</span>/<span style=\"color: #008080; text-decoration-color: #008080; font-weight: bold\">6</span>/<span style=\"color: #008080; text-decoration-color: #008080; font-weight: bold\">2023</span>\n",
       "\n",
       "Mô tả dự án: Phục vụ nhu cầu tổ chức các cuộc thi đánh máy cho học sinh, sinh viên Công nghệ được sử dụng:\n",
       "\n",
       "Sử dụng EF Core để truy cập dữ liệu. Sử dụng LinQ để truy vấn.\n",
       "\n",
       "Xây dựng giao diện người dùng bằng Bootstrap và Blazor.\n",
       "\n",
       "Mã nguồn được quản lý bằng GitHub. Đóng góp chính cho dự án:\n",
       "\n",
       "Xây dựng biểu đồ kết quả thống kê cho các cuộc thi.\n",
       "\n",
       "Đã triển khai ủy quyền người dùng và Jwt.\n",
       "\n",
       "My Project\n",
       "\n",
       "-\n",
       "\n",
       "Mô tả dự án: Xây dựng website thương mại điện tử.\n",
       "\n",
       "Công nghệ được sử dụng:\n",
       "\n",
       "chặt chẽ. Đảm bảo công việc được hoàn thành đúng thời gian và chất lượng cao. Quản lý thời gian hiệu quả để hoàn \n",
       "thành nhiệm vụ được giao và đạt được mục tiêu. Chủ động trong công việc và học hỏi từ người khác. Chấp nhận những \n",
       "lời chỉ trích và phản hồi để cải thiện hiệu suất công việc.\n",
       "\n",
       "Đã sử dụng ASP.NET Core, Blazor, Bootstrap, Git và máy chủ Redis.\n",
       "\n",
       "Chức Năng: Xác thực và ủy quyền người dùng <span style=\"font-weight: bold\">(</span>Danh tính<span style=\"font-weight: bold\">)</span>.\n",
       "\n",
       "Chức năng nhập và xuất Excel.\n",
       "\n",
       "Đăng nhập bằng JWT và OAuth2.\n",
       "\n",
       "Xử lý thanh toán bằng chứng từ. Thông báo email tự động.\n",
       "\n",
       "Mua và bán sản phẩm.\n",
       "\n",
       "Tích hợp SignalR cho các tính năng thời gian thực.\n",
       "\n",
       "Tích hợp thanh toán VnPay, MoMo, ZaloPay\n",
       "\n",
       "Kiến thức đang và đã học\n",
       "\n",
       "\n",
       "\n",
       "Docker, RabbitMQ\n",
       "\n",
       "© topcv.vn\n",
       "</pre>\n"
      ],
      "text/plain": [
       "HỒ SƠ CÁ NHÂN\n",
       "\n",
       " \u001b[1;36m19\u001b[0m/\u001b[1;36m01\u001b[0m/\u001b[1;36m2003\u001b[0m\n",
       "\n",
       " \u001b[1;36m0387\u001b[0m \u001b[1;36m36\u001b[0m \u001b[1;36m1513\u001b[0m\n",
       "\n",
       "✉ hoangpham19112002@gmail.com\n",
       "\n",
       " \u001b[4;94mhttps://github.com/hoangphampvh/\u001b[0m\n",
       "\n",
       "csharp5.git\n",
       "\n",
       " Nguyễn Cơ Thạch/Mỹ Đình \u001b[1;36m2\u001b[0m/ Hà Nội\n",
       "\n",
       "CAREER GOALS\n",
       "\n",
       "Các mục tiêu ngắn hạn:\n",
       "\n",
       "Củng cố, bổ sung những kiến thức hiện\n",
       "\n",
       "có để hoàn thiện và nâng cao giá trị cá\n",
       "\n",
       "nhân.\n",
       "\n",
       "Đồng thời, trau dồi các kỹ năng và kiến\n",
       "\n",
       "thức .NET hiện tại, làm việc trong vai\n",
       "\n",
       "trò lập trình viên .NET.\n",
       "\n",
       "Mục tiêu dài hạn:\n",
       "\n",
       "Trở thành Nhà phát triển cấp cao có\n",
       "\n",
       "chuyên môn vững vàng trong vòng \u001b[1;36m3\u001b[0m-\u001b[1;36m4\u001b[0m\n",
       "\n",
       "năm kinh nghiệm chuyên môn.\n",
       "\n",
       "SKILLS\n",
       "\n",
       "Kỹ năng cứng Đọc và hiểu tài liệu tiếng Anh GitHub, ASP .NET Core, .NET framework, SOLID, design pattern, Redis, \n",
       "Bootstrap và MudBlazor Sử dụng khung Bootstrap và MudBlazor để thiết kế giao diện người dùng. HTML, CSS và jQuery \n",
       "\u001b[1m(\u001b[0mKENDO\u001b[1m)\u001b[0m cho Front-end Kiến thức cơ bản về kiểm thử ứng dụng.\n",
       "\n",
       "Kỹ năng mềm Làm việc hiệu quả trong các dự án nhóm với kỹ năng hợp tác. Duy trì sự tập trung và kiên trì trong công\n",
       "việc dưới áp lực và thời hạn\n",
       "\n",
       "NGUYỄN VIỆT HOÀNG FREHER .NET PROGRAMMER\n",
       "\n",
       "HỌC VẤN\n",
       "\n",
       "FPT Polytechnic College\n",
       "\n",
       "NFORMATION TECHNOLOGY \u001b[1;36m10\u001b[0m/\u001b[1;36m2021\u001b[0m \n",
       "\n",
       "-\n",
       "\n",
       " \u001b[1;36m01\u001b[0m/\u001b[1;36m2024\u001b[0m\n",
       "\n",
       "Hiện tại tôi đang học học kỳ thứ \u001b[1;36m7\u001b[0m với tư cách là sinh viên. Tôi đã đạt được danh hiệu Sinh viên Xuất sắc trong học\n",
       "kỳ Mùa thu năm \u001b[1;36m2021\u001b[0m và giành được ba danh\n",
       "\n",
       "hiệu Sinh viên Xuất sắc cho các học kỳ Mùa xuân \u001b[1;36m2022\u001b[0m, Mùa hè \u001b[1;36m2022\u001b[0m và Mùa thu\n",
       "\n",
       "\u001b[1;36m2022\u001b[0m.\n",
       "\n",
       "KINH NGHIỆM LÀM VIỆC\n",
       "\n",
       "FPT Polytechnic College\n",
       "\n",
       ".NET PROGRAMMER \u001b[1;36m10\u001b[0m/\u001b[1;36m2021\u001b[0m \n",
       "\n",
       "-\n",
       "\n",
       " \u001b[1;36m01\u001b[0m/\u001b[1;36m2024\u001b[0m\n",
       "\n",
       "Thực hiện các dự án liên quan đến .NET.\n",
       "\n",
       "Cong ty \u001b[1;35mxxx\u001b[0m\u001b[1m(\u001b[0m\u001b[1;36m3\u001b[0m tháng\u001b[1m)\u001b[0m\n",
       "\n",
       "THỰC HIỆN CÁC DỰ ÁN LIÊN QUAN ĐẾN .NET. \u001b[1;36m24\u001b[0m/\u001b[1;36m5\u001b[0m - \u001b[1;36m24\u001b[0m/\u001b[1;36m8\u001b[0m\n",
       "\n",
       "Làm quen và tham gia mô hình phát triển hệ thống phần mềm sau \u001b[1;36m3\u001b[0m tháng thực tập.\n",
       "\n",
       "FPT Project Workshop \u001b[1m(\u001b[0m\u001b[1;36m2\u001b[0m tháng\u001b[1m)\u001b[0m\n",
       "\n",
       "DEVELOPER \u001b[1;36m01\u001b[0m/\u001b[1;36m04\u001b[0m/\u001b[1;36m2023\u001b[0m \n",
       "\n",
       "-\n",
       "\n",
       " \u001b[1;36m20\u001b[0m/\u001b[1;36m6\u001b[0m/\u001b[1;36m2023\u001b[0m\n",
       "\n",
       "Mô tả dự án: Phục vụ nhu cầu tổ chức các cuộc thi đánh máy cho học sinh, sinh viên Công nghệ được sử dụng:\n",
       "\n",
       "Sử dụng EF Core để truy cập dữ liệu. Sử dụng LinQ để truy vấn.\n",
       "\n",
       "Xây dựng giao diện người dùng bằng Bootstrap và Blazor.\n",
       "\n",
       "Mã nguồn được quản lý bằng GitHub. Đóng góp chính cho dự án:\n",
       "\n",
       "Xây dựng biểu đồ kết quả thống kê cho các cuộc thi.\n",
       "\n",
       "Đã triển khai ủy quyền người dùng và Jwt.\n",
       "\n",
       "My Project\n",
       "\n",
       "-\n",
       "\n",
       "Mô tả dự án: Xây dựng website thương mại điện tử.\n",
       "\n",
       "Công nghệ được sử dụng:\n",
       "\n",
       "chặt chẽ. Đảm bảo công việc được hoàn thành đúng thời gian và chất lượng cao. Quản lý thời gian hiệu quả để hoàn \n",
       "thành nhiệm vụ được giao và đạt được mục tiêu. Chủ động trong công việc và học hỏi từ người khác. Chấp nhận những \n",
       "lời chỉ trích và phản hồi để cải thiện hiệu suất công việc.\n",
       "\n",
       "Đã sử dụng ASP.NET Core, Blazor, Bootstrap, Git và máy chủ Redis.\n",
       "\n",
       "Chức Năng: Xác thực và ủy quyền người dùng \u001b[1m(\u001b[0mDanh tính\u001b[1m)\u001b[0m.\n",
       "\n",
       "Chức năng nhập và xuất Excel.\n",
       "\n",
       "Đăng nhập bằng JWT và OAuth2.\n",
       "\n",
       "Xử lý thanh toán bằng chứng từ. Thông báo email tự động.\n",
       "\n",
       "Mua và bán sản phẩm.\n",
       "\n",
       "Tích hợp SignalR cho các tính năng thời gian thực.\n",
       "\n",
       "Tích hợp thanh toán VnPay, MoMo, ZaloPay\n",
       "\n",
       "Kiến thức đang và đã học\n",
       "\n",
       "\n",
       "\n",
       "Docker, RabbitMQ\n",
       "\n",
       "© topcv.vn\n"
      ]
     },
     "metadata": {},
     "output_type": "display_data"
    }
   ],
   "source": [
    "print(cv[3].page_content)"
   ]
  },
  {
   "cell_type": "code",
   "execution_count": 3,
   "metadata": {
    "metadata": {}
   },
   "outputs": [
    {
     "name": "stdout",
     "output_type": "stream",
     "text": [
      "[1, 3]\n",
      "[2, 2]\n"
     ]
    }
   ],
   "source": [
    "original_list = [(1, 2), (3, 2)]\n",
    "a, b = zip(*original_list)\n",
    "\n",
    "print(list(a))  # Output: [1, 3]\n",
    "print(list(b))  # Output: [2, 2]\n"
   ]
  },
  {
   "cell_type": "code",
   "execution_count": 11,
   "metadata": {
    "metadata": {}
   },
   "outputs": [
    {
     "data": {
      "text/html": [
       "<pre style=\"white-space:pre;overflow-x:auto;line-height:normal;font-family:Menlo,'DejaVu Sans Mono',consolas,'Courier New',monospace\">context:\n",
       "\n",
       "<span style=\"font-weight: bold\">[</span>\n",
       "    <span style=\"font-weight: bold\">(</span>\n",
       "        <span style=\"color: #800080; text-decoration-color: #800080; font-weight: bold\">Document</span><span style=\"font-weight: bold\">(</span>\n",
       "            <span style=\"color: #808000; text-decoration-color: #808000\">page_content</span>=<span style=\"color: #008000; text-decoration-color: #008000\">'\"- Bachelors degree in Computer Science, Electrical Engineering, or Artificial </span>\n",
       "<span style=\"color: #008000; text-decoration-color: #008000\">Intelligence.\", - At least 4+ years of experience in AI or relevant positions., - Have 2+ year of team leader </span>\n",
       "<span style=\"color: #008000; text-decoration-color: #008000\">experience or relevant positions., - Knowledge of the following areas (but not limited to): Recommendation system, </span>\n",
       "<span style=\"color: #008000; text-decoration-color: #008000\">- Computer Vision, NLP (information extraction), Large Language Models, OCR pipeline., - Knowledge of AI </span>\n",
       "<span style=\"color: #008000; text-decoration-color: #008000\">frameworks: Pytorch, Tensorflow, Triton, TF serving., - Experience in writing API to wrap AI models., - Ability to </span>\n",
       "<span style=\"color: #008000; text-decoration-color: #008000\">plan &amp; organize AI services, especially in emergency situations., - Excellent problem-solving and analytical </span>\n",
       "<span style=\"color: #008000; text-decoration-color: #008000\">skills., - Be proactive, enthusiastic, hard-working., - Be integrity, careful, accurate., *** What we offer, - </span>\n",
       "<span style=\"color: #008000; text-decoration-color: #008000\">Working time from Monday to Friday (09:00 am - 18:00 pm)., - Good chance to study and develop career path stably </span>\n",
       "<span style=\"color: #008000; text-decoration-color: #008000\">with internal promotion and rotation., - 100% statutory insurance contribution as per the labor law., - Bao Viet </span>\n",
       "<span style=\"color: #008000; text-decoration-color: #008000\">Healthcare insurance., - 100% gross salary in probation., - 12 Annual Leave (AL) per year + extra 1 AL per extra </span>\n",
       "<span style=\"color: #008000; text-decoration-color: #008000\">working year., - Annual bonus: depending on business &amp; individual performance., - Annual salary review., - ESOP </span>\n",
       "<span style=\"color: #008000; text-decoration-color: #008000\">allows you to financially share in our future success., - Other rewards: 5-star, employee of the month (EOTM), </span>\n",
       "<span style=\"color: #008000; text-decoration-color: #008000\">employee of the year (EOTY), loyalty employee (3-year, 5-year, 8-year, etc.), \"- Internal Activities: General </span>\n",
       "<span style=\"color: #008000; text-decoration-color: #008000\">Meeting, Company Trip, International Womens Day,\", \"Vietnamese Womens Day Mid-Autumn Festival, Family Day, </span>\n",
       "<span style=\"color: #008000; text-decoration-color: #008000\">Christmas, Year-end Party, etc.\"'</span>,\n",
       "            <span style=\"color: #808000; text-decoration-color: #808000\">metadata</span>=<span style=\"font-weight: bold\">{</span>\n",
       "                <span style=\"color: #008000; text-decoration-color: #008000\">'source'</span>: \n",
       "<span style=\"color: #008000; text-decoration-color: #008000\">'/mnt/net/i2x256-ai03/hotel/phit/personal/applied-data-science/data/preprocessed/preprocessed_vnw.jsonl'</span>,\n",
       "                <span style=\"color: #008000; text-decoration-color: #008000\">'seq_num'</span>: <span style=\"color: #008000; text-decoration-color: #008000\">'555'</span>,\n",
       "                <span style=\"color: #008000; text-decoration-color: #008000\">'_id'</span>: <span style=\"color: #008000; text-decoration-color: #008000\">'661621f5bb86ac211a66ee2e'</span>,\n",
       "                <span style=\"color: #008000; text-decoration-color: #008000\">'url'</span>: \n",
       "<span style=\"color: #008000; text-decoration-color: #008000\">'https://www.vietnamworks.com/ai-manager-ocr-nlp-1759990-jv?source=searchResults&amp;searchType=2&amp;placement=1760090&amp;sor</span>\n",
       "<span style=\"color: #008000; text-decoration-color: #008000\">tBy=latest'</span>,\n",
       "                <span style=\"color: #008000; text-decoration-color: #008000\">'job_name'</span>: <span style=\"color: #008000; text-decoration-color: #008000\">'AI Manager (Ocr/nlp)'</span>,\n",
       "                <span style=\"color: #008000; text-decoration-color: #008000\">'company_name'</span>: <span style=\"color: #008000; text-decoration-color: #008000\">'Got It'</span>,\n",
       "                <span style=\"color: #008000; text-decoration-color: #008000\">'salary'</span>: <span style=\"color: #008000; text-decoration-color: #008000\">'$3000 - $4000'</span>,\n",
       "                <span style=\"color: #008000; text-decoration-color: #008000\">'end_date'</span>: <span style=\"color: #008000; text-decoration-color: #008000\">'2024-04-28'</span>,\n",
       "                <span style=\"color: #008000; text-decoration-color: #008000\">'address'</span>: <span style=\"color: #008000; text-decoration-color: #008000\">'9-11 Nguyễn Văn Thủ, P. Đa Kao, Quận 1, TP. Hồ Chí Minh'</span>,\n",
       "                <span style=\"color: #008000; text-decoration-color: #008000\">'posted_date'</span>: <span style=\"color: #008000; text-decoration-color: #008000\">'29/03/2024'</span>,\n",
       "                <span style=\"color: #008000; text-decoration-color: #008000\">'job_function'</span>: <span style=\"color: #008000; text-decoration-color: #008000\">'Công Nghệ Thông Tin/Viễn Thông,  &gt; , Phần Mềm Máy Tính'</span>,\n",
       "                <span style=\"color: #008000; text-decoration-color: #008000\">'job_industry'</span>: <span style=\"color: #008000; text-decoration-color: #008000\">'Phần Mềm CNTT/Dịch vụ Phần mềm'</span>,\n",
       "                <span style=\"color: #008000; text-decoration-color: #008000\">'job_level'</span>: <span style=\"color: #008000; text-decoration-color: #008000\">'Trưởng phòng'</span>,\n",
       "                <span style=\"color: #008000; text-decoration-color: #008000\">'skill'</span>: <span style=\"color: #008000; text-decoration-color: #008000\">'TensorFlow, Computer Science, Application Development, Product Development, Pipeline </span>\n",
       "<span style=\"color: #008000; text-decoration-color: #008000\">Development'</span>,\n",
       "                <span style=\"color: #008000; text-decoration-color: #008000\">'preferred_language'</span>: <span style=\"color: #008000; text-decoration-color: #008000\">'Bất kỳ'</span>,\n",
       "                <span style=\"color: #008000; text-decoration-color: #008000\">'job_description'</span>: <span style=\"color: #008000; text-decoration-color: #008000\">'What you need to do:, - Lead and deliver AI solutions for Dayone, including </span>\n",
       "<span style=\"color: #008000; text-decoration-color: #008000\">(but not limited to): maximizing Got It voucher’s revenue (e.g. intelligent voucher redemption recommendation </span>\n",
       "<span style=\"color: #008000; text-decoration-color: #008000\">system), online shopping recommendation systems, AI-assisted productivity boosting applications, and OCR system for</span>\n",
       "<span style=\"color: #008000; text-decoration-color: #008000\">invoices and business documents., - Work with large and real world data from our products (Got It, Buzz It, Scan </span>\n",
       "<span style=\"color: #008000; text-decoration-color: #008000\">It, and internal tools) to generate insightful information, assist business decisions, and maximize business value </span>\n",
       "<span style=\"color: #008000; text-decoration-color: #008000\">of our products., - Develop tools and frameworks to help training, deploying, and monitoring AI models more generic</span>\n",
       "<span style=\"color: #008000; text-decoration-color: #008000\">and effective., - Organize AI team to optimize resources yet deliver high quality services., - Collaborate with </span>\n",
       "<span style=\"color: #008000; text-decoration-color: #008000\">other teams to assure the service operations meet expectations from internal and external users., - Perform </span>\n",
       "<span style=\"color: #008000; text-decoration-color: #008000\">additional duties as required by Line Manager.'</span>\n",
       "            <span style=\"font-weight: bold\">}</span>\n",
       "        <span style=\"font-weight: bold\">)</span>,\n",
       "        <span style=\"color: #008080; text-decoration-color: #008080; font-weight: bold\">0.7402199</span>\n",
       "    <span style=\"font-weight: bold\">)</span>,\n",
       "    <span style=\"font-weight: bold\">(</span>\n",
       "        <span style=\"color: #800080; text-decoration-color: #800080; font-weight: bold\">Document</span><span style=\"font-weight: bold\">(</span>\n",
       "            <span style=\"color: #808000; text-decoration-color: #808000\">page_content</span>=<span style=\"color: #008000; text-decoration-color: #008000\">'1. REQUIREMENT, ● Educational: Graduated from University/College or higher, ● Work </span>\n",
       "<span style=\"color: #008000; text-decoration-color: #008000\">Experience: Around 5+ years of technical experience, ● Specialty/Qualification: Engineer/Bachelor or higher, ● </span>\n",
       "<span style=\"color: #008000; text-decoration-color: #008000\">Location: Viet Nam, ● Skills:, - Several years of experience as Solution Architect or Technical Leader in web or </span>\n",
       "<span style=\"color: #008000; text-decoration-color: #008000\">mobile applications development and microservices, - Automation and infrastructure as code is your favorite </span>\n",
       "<span style=\"color: #008000; text-decoration-color: #008000\">approach., - Experience with large projects and international environment., - You know how to code, you have </span>\n",
       "<span style=\"color: #008000; text-decoration-color: #008000\">experience with 24/7 availability, infrastructure and cloud (preferably Microsoft Azure), - You speak English and </span>\n",
       "<span style=\"color: #008000; text-decoration-color: #008000\">you’re able to present complex concepts and solutions in a way that’s easy to understand to non-technical </span>\n",
       "<span style=\"color: #008000; text-decoration-color: #008000\">audience., - Ability to present complex concepts and solutions in a way that’s easy to understand to a </span>\n",
       "<span style=\"color: #008000; text-decoration-color: #008000\">non-technical audience., - You know what GIT, DevSecOps, Microservices, APIs, Big Data, Serverless, NoSQL, </span>\n",
       "<span style=\"color: #008000; text-decoration-color: #008000\">Kubernetes, Flutter, Distributed Cache, Hadoop, Kafka, Firewall, MDM, RAID, Subnet, TCO, CBA mean (and more)., 2. </span>\n",
       "<span style=\"color: #008000; text-decoration-color: #008000\">BENEFITS, - Attractive salary based on ability., - 13th month salary, Tet bonus, business performance bonus </span>\n",
       "<span style=\"color: #008000; text-decoration-color: #008000\">according to regulations and business results. (Income package 14-16 months’ salary/year), - Good, stable and </span>\n",
       "<span style=\"color: #008000; text-decoration-color: #008000\">long-term career development opportunities, - Soft skills training courses and professional certificates for the </span>\n",
       "<span style=\"color: #008000; text-decoration-color: #008000\">job., - Consideration in increasing salary rank from 1 to 2 times/year., - PTI Premium health insurance and </span>\n",
       "<span style=\"color: #008000; text-decoration-color: #008000\">high-quality Annual Health Checkup Program., - Annual vacation, - Others: Thank-you party; Team building, Company </span>\n",
       "<span style=\"color: #008000; text-decoration-color: #008000\">Birthday, - Other attractive benefits'</span>,\n",
       "            <span style=\"color: #808000; text-decoration-color: #808000\">metadata</span>=<span style=\"font-weight: bold\">{</span>\n",
       "                <span style=\"color: #008000; text-decoration-color: #008000\">'source'</span>: \n",
       "<span style=\"color: #008000; text-decoration-color: #008000\">'/mnt/net/i2x256-ai03/hotel/phit/personal/applied-data-science/data/preprocessed/preprocessed_vnw.jsonl'</span>,\n",
       "                <span style=\"color: #008000; text-decoration-color: #008000\">'seq_num'</span>: <span style=\"color: #008000; text-decoration-color: #008000\">'113'</span>,\n",
       "                <span style=\"color: #008000; text-decoration-color: #008000\">'_id'</span>: <span style=\"color: #008000; text-decoration-color: #008000\">'661621edbb86ac211a66e9b3'</span>,\n",
       "                <span style=\"color: #008000; text-decoration-color: #008000\">'url'</span>: \n",
       "<span style=\"color: #008000; text-decoration-color: #008000\">'https://www.vietnamworks.com/solution-architect-technical-leader-1746176-jv?source=searchResults&amp;searchType=2&amp;plac</span>\n",
       "<span style=\"color: #008000; text-decoration-color: #008000\">ement=1746476&amp;sortBy=latest'</span>,\n",
       "                <span style=\"color: #008000; text-decoration-color: #008000\">'job_name'</span>: <span style=\"color: #008000; text-decoration-color: #008000\">'Solution Architect (Technical Leader)'</span>,\n",
       "                <span style=\"color: #008000; text-decoration-color: #008000\">'company_name'</span>: <span style=\"color: #008000; text-decoration-color: #008000\">'Công Ty Cổ Phần Tư Vấn Công Nghệ Ngs (Ngsc)'</span>,\n",
       "                <span style=\"color: #008000; text-decoration-color: #008000\">'salary'</span>: <span style=\"color: #008000; text-decoration-color: #008000\">'$1700 - $2200'</span>,\n",
       "                <span style=\"color: #008000; text-decoration-color: #008000\">'end_date'</span>: <span style=\"color: #008000; text-decoration-color: #008000\">'2024-04-28'</span>,\n",
       "                <span style=\"color: #008000; text-decoration-color: #008000\">'address'</span>: <span style=\"color: #008000; text-decoration-color: #008000\">'Tầng 4, Toà nhà 6th Element, đường Nguyễn Văn Huyên, quận Tây Hồ, Hà Nội'</span>,\n",
       "                <span style=\"color: #008000; text-decoration-color: #008000\">'posted_date'</span>: <span style=\"color: #008000; text-decoration-color: #008000\">'29/03/2024'</span>,\n",
       "                <span style=\"color: #008000; text-decoration-color: #008000\">'job_function'</span>: <span style=\"color: #008000; text-decoration-color: #008000\">'Công Nghệ Thông Tin/Viễn Thông,  &gt; , System/Cloud/DevOps Engineer'</span>,\n",
       "                <span style=\"color: #008000; text-decoration-color: #008000\">'job_industry'</span>: <span style=\"color: #008000; text-decoration-color: #008000\">'Phần Mềm CNTT/Dịch vụ Phần mềm'</span>,\n",
       "                <span style=\"color: #008000; text-decoration-color: #008000\">'job_level'</span>: <span style=\"color: #008000; text-decoration-color: #008000\">'Nhân viên'</span>,\n",
       "                <span style=\"color: #008000; text-decoration-color: #008000\">'skill'</span>: <span style=\"color: #008000; text-decoration-color: #008000\">'Solution Architecture, Technical Lead, Software Solution Architecture, Microsoft Azure, </span>\n",
       "<span style=\"color: #008000; text-decoration-color: #008000\">Mobile Application'</span>,\n",
       "                <span style=\"color: #008000; text-decoration-color: #008000\">'preferred_language'</span>: <span style=\"color: #008000; text-decoration-color: #008000\">'Bất kỳ'</span>,\n",
       "                <span style=\"color: #008000; text-decoration-color: #008000\">'job_description'</span>: <span style=\"color: #008000; text-decoration-color: #008000\">'- Manage architecture of customer facing and mobile based applications. Build </span>\n",
       "<span style=\"color: #008000; text-decoration-color: #008000\">and execute cloud strategy. Your job is done when the architecture vision is translated to code., - Provide </span>\n",
       "<span style=\"color: #008000; text-decoration-color: #008000\">architecture and solution design consultancy to business departments., - Actively promote DevSecOps approach to </span>\n",
       "<span style=\"color: #008000; text-decoration-color: #008000\">development. By doing that you also define and agree on technology stack together with development managers., - </span>\n",
       "<span style=\"color: #008000; text-decoration-color: #008000\">Ensure the solution meets all non-functional requirements and is properly documented., - Lead part of delivery in </span>\n",
       "<span style=\"color: #008000; text-decoration-color: #008000\">complex projects and R&amp;D initiatives, - Participate in development lifecycle to ensure applications are developed </span>\n",
       "<span style=\"color: #008000; text-decoration-color: #008000\">in line with defined architecture and development process is following the highest standards., - Actively influence</span>\n",
       "<span style=\"color: #008000; text-decoration-color: #008000\">&amp; mentor IT colleagues. You promote ideas by cooperation and explaining instead of pushing., - Acquire and maintain</span>\n",
       "<span style=\"color: #008000; text-decoration-color: #008000\">knowledge of major business initiatives and initiatives of competitors in the local market., - Share knowledge and </span>\n",
       "<span style=\"color: #008000; text-decoration-color: #008000\">solutions across Home Credit entities in SEA and HQ in Europe.'</span>\n",
       "            <span style=\"font-weight: bold\">}</span>\n",
       "        <span style=\"font-weight: bold\">)</span>,\n",
       "        <span style=\"color: #008080; text-decoration-color: #008080; font-weight: bold\">0.1558556</span>\n",
       "    <span style=\"font-weight: bold\">)</span>\n",
       "<span style=\"font-weight: bold\">]</span>\n",
       "\n",
       " ================================================== \n",
       "\n",
       "</pre>\n"
      ],
      "text/plain": [
       "context:\n",
       "\n",
       "\u001b[1m[\u001b[0m\n",
       "    \u001b[1m(\u001b[0m\n",
       "        \u001b[1;35mDocument\u001b[0m\u001b[1m(\u001b[0m\n",
       "            \u001b[33mpage_content\u001b[0m=\u001b[32m'\"- Bachelors degree in Computer Science, Electrical Engineering, or Artificial \u001b[0m\n",
       "\u001b[32mIntelligence.\", - At least 4+ years of experience in AI or relevant positions., - Have 2+ year of team leader \u001b[0m\n",
       "\u001b[32mexperience or relevant positions., - Knowledge of the following areas \u001b[0m\u001b[32m(\u001b[0m\u001b[32mbut not limited to\u001b[0m\u001b[32m)\u001b[0m\u001b[32m: Recommendation system, \u001b[0m\n",
       "\u001b[32m- Computer Vision, NLP \u001b[0m\u001b[32m(\u001b[0m\u001b[32minformation extraction\u001b[0m\u001b[32m)\u001b[0m\u001b[32m, Large Language Models, OCR pipeline., - Knowledge of AI \u001b[0m\n",
       "\u001b[32mframeworks: Pytorch, Tensorflow, Triton, TF serving., - Experience in writing API to wrap AI models., - Ability to \u001b[0m\n",
       "\u001b[32mplan & organize AI services, especially in emergency situations., - Excellent problem-solving and analytical \u001b[0m\n",
       "\u001b[32mskills., - Be proactive, enthusiastic, hard-working., - Be integrity, careful, accurate., *** What we offer, - \u001b[0m\n",
       "\u001b[32mWorking time from Monday to Friday \u001b[0m\u001b[32m(\u001b[0m\u001b[32m09:00 am - 18:00 pm\u001b[0m\u001b[32m)\u001b[0m\u001b[32m., - Good chance to study and develop career path stably \u001b[0m\n",
       "\u001b[32mwith internal promotion and rotation., - 100% statutory insurance contribution as per the labor law., - Bao Viet \u001b[0m\n",
       "\u001b[32mHealthcare insurance., - 100% gross salary in probation., - 12 Annual Leave \u001b[0m\u001b[32m(\u001b[0m\u001b[32mAL\u001b[0m\u001b[32m)\u001b[0m\u001b[32m per year + extra 1 AL per extra \u001b[0m\n",
       "\u001b[32mworking year., - Annual bonus: depending on business & individual performance., - Annual salary review., - ESOP \u001b[0m\n",
       "\u001b[32mallows you to financially share in our future success., - Other rewards: 5-star, employee of the month \u001b[0m\u001b[32m(\u001b[0m\u001b[32mEOTM\u001b[0m\u001b[32m)\u001b[0m\u001b[32m, \u001b[0m\n",
       "\u001b[32memployee of the year \u001b[0m\u001b[32m(\u001b[0m\u001b[32mEOTY\u001b[0m\u001b[32m)\u001b[0m\u001b[32m, loyalty employee \u001b[0m\u001b[32m(\u001b[0m\u001b[32m3-year, 5-year, 8-year, etc.\u001b[0m\u001b[32m)\u001b[0m\u001b[32m, \"- Internal Activities: General \u001b[0m\n",
       "\u001b[32mMeeting, Company Trip, International Womens Day,\", \"Vietnamese Womens Day Mid-Autumn Festival, Family Day, \u001b[0m\n",
       "\u001b[32mChristmas, Year-end Party, etc.\"'\u001b[0m,\n",
       "            \u001b[33mmetadata\u001b[0m=\u001b[1m{\u001b[0m\n",
       "                \u001b[32m'source'\u001b[0m: \n",
       "\u001b[32m'/mnt/net/i2x256-ai03/hotel/phit/personal/applied-data-science/data/preprocessed/preprocessed_vnw.jsonl'\u001b[0m,\n",
       "                \u001b[32m'seq_num'\u001b[0m: \u001b[32m'555'\u001b[0m,\n",
       "                \u001b[32m'_id'\u001b[0m: \u001b[32m'661621f5bb86ac211a66ee2e'\u001b[0m,\n",
       "                \u001b[32m'url'\u001b[0m: \n",
       "\u001b[32m'https://www.vietnamworks.com/ai-manager-ocr-nlp-1759990-jv?\u001b[0m\u001b[32msource\u001b[0m\u001b[32m=\u001b[0m\u001b[32msearchResults\u001b[0m\u001b[32m&\u001b[0m\u001b[32msearchType\u001b[0m\u001b[32m=\u001b[0m\u001b[32m2\u001b[0m\u001b[32m&\u001b[0m\u001b[32mplacement\u001b[0m\u001b[32m=\u001b[0m\u001b[32m1760090\u001b[0m\u001b[32m&\u001b[0m\u001b[32msor\u001b[0m\n",
       "\u001b[32mtBy\u001b[0m\u001b[32m=\u001b[0m\u001b[32mlatest\u001b[0m\u001b[32m'\u001b[0m,\n",
       "                \u001b[32m'job_name'\u001b[0m: \u001b[32m'AI Manager \u001b[0m\u001b[32m(\u001b[0m\u001b[32mOcr/nlp\u001b[0m\u001b[32m)\u001b[0m\u001b[32m'\u001b[0m,\n",
       "                \u001b[32m'company_name'\u001b[0m: \u001b[32m'Got It'\u001b[0m,\n",
       "                \u001b[32m'salary'\u001b[0m: \u001b[32m'$3000 - $4000'\u001b[0m,\n",
       "                \u001b[32m'end_date'\u001b[0m: \u001b[32m'2024-04-28'\u001b[0m,\n",
       "                \u001b[32m'address'\u001b[0m: \u001b[32m'9-11 Nguyễn Văn Thủ, P. Đa Kao, Quận 1, TP. Hồ Chí Minh'\u001b[0m,\n",
       "                \u001b[32m'posted_date'\u001b[0m: \u001b[32m'29/03/2024'\u001b[0m,\n",
       "                \u001b[32m'job_function'\u001b[0m: \u001b[32m'Công Nghệ Thông Tin/Viễn Thông,  > , Phần Mềm Máy Tính'\u001b[0m,\n",
       "                \u001b[32m'job_industry'\u001b[0m: \u001b[32m'Phần Mềm CNTT/Dịch vụ Phần mềm'\u001b[0m,\n",
       "                \u001b[32m'job_level'\u001b[0m: \u001b[32m'Trưởng phòng'\u001b[0m,\n",
       "                \u001b[32m'skill'\u001b[0m: \u001b[32m'TensorFlow, Computer Science, Application Development, Product Development, Pipeline \u001b[0m\n",
       "\u001b[32mDevelopment'\u001b[0m,\n",
       "                \u001b[32m'preferred_language'\u001b[0m: \u001b[32m'Bất kỳ'\u001b[0m,\n",
       "                \u001b[32m'job_description'\u001b[0m: \u001b[32m'What you need to do:, - Lead and deliver AI solutions for Dayone, including \u001b[0m\n",
       "\u001b[32m(\u001b[0m\u001b[32mbut not limited to\u001b[0m\u001b[32m)\u001b[0m\u001b[32m: maximizing Got It voucher’s revenue \u001b[0m\u001b[32m(\u001b[0m\u001b[32me.g. intelligent voucher redemption recommendation \u001b[0m\n",
       "\u001b[32msystem\u001b[0m\u001b[32m)\u001b[0m\u001b[32m, online shopping recommendation systems, AI-assisted productivity boosting applications, and OCR system for\u001b[0m\n",
       "\u001b[32minvoices and business documents., - Work with large and real world data from our products \u001b[0m\u001b[32m(\u001b[0m\u001b[32mGot It, Buzz It, Scan \u001b[0m\n",
       "\u001b[32mIt, and internal tools\u001b[0m\u001b[32m)\u001b[0m\u001b[32m to generate insightful information, assist business decisions, and maximize business value \u001b[0m\n",
       "\u001b[32mof our products., - Develop tools and frameworks to help training, deploying, and monitoring AI models more generic\u001b[0m\n",
       "\u001b[32mand effective., - Organize AI team to optimize resources yet deliver high quality services., - Collaborate with \u001b[0m\n",
       "\u001b[32mother teams to assure the service operations meet expectations from internal and external users., - Perform \u001b[0m\n",
       "\u001b[32madditional duties as required by Line Manager.'\u001b[0m\n",
       "            \u001b[1m}\u001b[0m\n",
       "        \u001b[1m)\u001b[0m,\n",
       "        \u001b[1;36m0.7402199\u001b[0m\n",
       "    \u001b[1m)\u001b[0m,\n",
       "    \u001b[1m(\u001b[0m\n",
       "        \u001b[1;35mDocument\u001b[0m\u001b[1m(\u001b[0m\n",
       "            \u001b[33mpage_content\u001b[0m=\u001b[32m'1. REQUIREMENT, ● Educational: Graduated from University/College or higher, ● Work \u001b[0m\n",
       "\u001b[32mExperience: Around 5+ years of technical experience, ● Specialty/Qualification: Engineer/Bachelor or higher, ● \u001b[0m\n",
       "\u001b[32mLocation: Viet Nam, ● Skills:, - Several years of experience as Solution Architect or Technical Leader in web or \u001b[0m\n",
       "\u001b[32mmobile applications development and microservices, - Automation and infrastructure as code is your favorite \u001b[0m\n",
       "\u001b[32mapproach., - Experience with large projects and international environment., - You know how to code, you have \u001b[0m\n",
       "\u001b[32mexperience with 24/7 availability, infrastructure and cloud \u001b[0m\u001b[32m(\u001b[0m\u001b[32mpreferably Microsoft Azure\u001b[0m\u001b[32m)\u001b[0m\u001b[32m, - You speak English and \u001b[0m\n",
       "\u001b[32myou’re able to present complex concepts and solutions in a way that’s easy to understand to non-technical \u001b[0m\n",
       "\u001b[32maudience., - Ability to present complex concepts and solutions in a way that’s easy to understand to a \u001b[0m\n",
       "\u001b[32mnon-technical audience., - You know what GIT, DevSecOps, Microservices, APIs, Big Data, Serverless, NoSQL, \u001b[0m\n",
       "\u001b[32mKubernetes, Flutter, Distributed Cache, Hadoop, Kafka, Firewall, MDM, RAID, Subnet, TCO, CBA mean \u001b[0m\u001b[32m(\u001b[0m\u001b[32mand more\u001b[0m\u001b[32m)\u001b[0m\u001b[32m., 2. \u001b[0m\n",
       "\u001b[32mBENEFITS, - Attractive salary based on ability., - 13th month salary, Tet bonus, business performance bonus \u001b[0m\n",
       "\u001b[32maccording to regulations and business results. \u001b[0m\u001b[32m(\u001b[0m\u001b[32mIncome package 14-16 months’ salary/year\u001b[0m\u001b[32m)\u001b[0m\u001b[32m, - Good, stable and \u001b[0m\n",
       "\u001b[32mlong-term career development opportunities, - Soft skills training courses and professional certificates for the \u001b[0m\n",
       "\u001b[32mjob., - Consideration in increasing salary rank from 1 to 2 times/year., - PTI Premium health insurance and \u001b[0m\n",
       "\u001b[32mhigh-quality Annual Health Checkup Program., - Annual vacation, - Others: Thank-you party; Team building, Company \u001b[0m\n",
       "\u001b[32mBirthday, - Other attractive benefits'\u001b[0m,\n",
       "            \u001b[33mmetadata\u001b[0m=\u001b[1m{\u001b[0m\n",
       "                \u001b[32m'source'\u001b[0m: \n",
       "\u001b[32m'/mnt/net/i2x256-ai03/hotel/phit/personal/applied-data-science/data/preprocessed/preprocessed_vnw.jsonl'\u001b[0m,\n",
       "                \u001b[32m'seq_num'\u001b[0m: \u001b[32m'113'\u001b[0m,\n",
       "                \u001b[32m'_id'\u001b[0m: \u001b[32m'661621edbb86ac211a66e9b3'\u001b[0m,\n",
       "                \u001b[32m'url'\u001b[0m: \n",
       "\u001b[32m'https://www.vietnamworks.com/solution-architect-technical-leader-1746176-jv?\u001b[0m\u001b[32msource\u001b[0m\u001b[32m=\u001b[0m\u001b[32msearchResults\u001b[0m\u001b[32m&\u001b[0m\u001b[32msearchType\u001b[0m\u001b[32m=\u001b[0m\u001b[32m2\u001b[0m\u001b[32m&\u001b[0m\u001b[32mplac\u001b[0m\n",
       "\u001b[32mement\u001b[0m\u001b[32m=\u001b[0m\u001b[32m1746476\u001b[0m\u001b[32m&\u001b[0m\u001b[32msortBy\u001b[0m\u001b[32m=\u001b[0m\u001b[32mlatest\u001b[0m\u001b[32m'\u001b[0m,\n",
       "                \u001b[32m'job_name'\u001b[0m: \u001b[32m'Solution Architect \u001b[0m\u001b[32m(\u001b[0m\u001b[32mTechnical Leader\u001b[0m\u001b[32m)\u001b[0m\u001b[32m'\u001b[0m,\n",
       "                \u001b[32m'company_name'\u001b[0m: \u001b[32m'Công Ty Cổ Phần Tư Vấn Công Nghệ Ngs \u001b[0m\u001b[32m(\u001b[0m\u001b[32mNgsc\u001b[0m\u001b[32m)\u001b[0m\u001b[32m'\u001b[0m,\n",
       "                \u001b[32m'salary'\u001b[0m: \u001b[32m'$1700 - $2200'\u001b[0m,\n",
       "                \u001b[32m'end_date'\u001b[0m: \u001b[32m'2024-04-28'\u001b[0m,\n",
       "                \u001b[32m'address'\u001b[0m: \u001b[32m'Tầng 4, Toà nhà 6th Element, đường Nguyễn Văn Huyên, quận Tây Hồ, Hà Nội'\u001b[0m,\n",
       "                \u001b[32m'posted_date'\u001b[0m: \u001b[32m'29/03/2024'\u001b[0m,\n",
       "                \u001b[32m'job_function'\u001b[0m: \u001b[32m'Công Nghệ Thông Tin/Viễn Thông,  > , System/Cloud/DevOps Engineer'\u001b[0m,\n",
       "                \u001b[32m'job_industry'\u001b[0m: \u001b[32m'Phần Mềm CNTT/Dịch vụ Phần mềm'\u001b[0m,\n",
       "                \u001b[32m'job_level'\u001b[0m: \u001b[32m'Nhân viên'\u001b[0m,\n",
       "                \u001b[32m'skill'\u001b[0m: \u001b[32m'Solution Architecture, Technical Lead, Software Solution Architecture, Microsoft Azure, \u001b[0m\n",
       "\u001b[32mMobile Application'\u001b[0m,\n",
       "                \u001b[32m'preferred_language'\u001b[0m: \u001b[32m'Bất kỳ'\u001b[0m,\n",
       "                \u001b[32m'job_description'\u001b[0m: \u001b[32m'- Manage architecture of customer facing and mobile based applications. Build \u001b[0m\n",
       "\u001b[32mand execute cloud strategy. Your job is done when the architecture vision is translated to code., - Provide \u001b[0m\n",
       "\u001b[32marchitecture and solution design consultancy to business departments., - Actively promote DevSecOps approach to \u001b[0m\n",
       "\u001b[32mdevelopment. By doing that you also define and agree on technology stack together with development managers., - \u001b[0m\n",
       "\u001b[32mEnsure the solution meets all non-functional requirements and is properly documented., - Lead part of delivery in \u001b[0m\n",
       "\u001b[32mcomplex projects and R&D initiatives, - Participate in development lifecycle to ensure applications are developed \u001b[0m\n",
       "\u001b[32min line with defined architecture and development process is following the highest standards., - Actively influence\u001b[0m\n",
       "\u001b[32m& mentor IT colleagues. You promote ideas by cooperation and explaining instead of pushing., - Acquire and maintain\u001b[0m\n",
       "\u001b[32mknowledge of major business initiatives and initiatives of competitors in the local market., - Share knowledge and \u001b[0m\n",
       "\u001b[32msolutions across Home Credit entities in SEA and HQ in Europe.'\u001b[0m\n",
       "            \u001b[1m}\u001b[0m\n",
       "        \u001b[1m)\u001b[0m,\n",
       "        \u001b[1;36m0.1558556\u001b[0m\n",
       "    \u001b[1m)\u001b[0m\n",
       "\u001b[1m]\u001b[0m\n",
       "\n",
       " ================================================== \n",
       "\n"
      ]
     },
     "metadata": {},
     "output_type": "display_data"
    }
   ],
   "source": [
    "# query = \"What are some job descriptions for Data?\"\n",
    "query = cv[2].page_content\n",
    "context = retrieve_context(\n",
    "    query, retriever=retriever, reranker_model=reranker_model\n",
    ")[:]\n",
    "print(\"context:\\n\", context, \"\\n\", \"=\" * 50, \"\\n\")"
   ]
  },
  {
   "cell_type": "markdown",
   "metadata": {},
   "source": [
    "---"
   ]
  },
  {
   "cell_type": "code",
   "execution_count": 23,
   "metadata": {
    "metadata": {}
   },
   "outputs": [
    {
     "data": {
      "text/plain": [
       "\"Cap Tan Dat\\n\\nWeb developer intern\\n\\n\\uf095 0961414817 ✉ tandatkt002@gmail.com \\uf0c1 https://github.com/Penz7\\n\\n\\uf3c5 Ho Chi Minh City,Ward 7,Binh Thanh District\\n\\nOBJECTIVE\\n\\nObtain more knowledge about web programming by gaining hands-on experience in a formal working setting. For a better understanding of how to work in a professional setting and further your career, learn from your forebears, particularly from your\\n\\nelders at the organization. To ensure independence and top performance in your everyday work, learn time management skills, how to work efficiently, and how to\\n\\ndevelop an organized work schedule. Finally, I wish to have the chance to foster development and contribute to the company's future success and growth in addition to being\\n\\nhired on as a formal employee.\\n\\nEDUCATION\\n\\nHo Chi Minh City Open University\\n\\n2020 \\n\\n-\\n\\n 2024\\n\\nMajor: Information Technology GPA: 2.68\\n\\nExtracurricular Involvement: \\n\\n•\\n\\n Mobile device programing club\\n\\nEXPERIENCE\\n\\nProgramming and Teamwork Skills\\n\\n\\n\\nDuring my time studying and cultivating in the university environment, I have formed the thinking and working style of a\\n\\nprogrammer, with work that requires perseverance, concentration and the ability to work with others partner. Along with that is the ability to exchange and speak in front of crowds with your own products, without being afraid of difficulties\\n\\nand challenges. Successfully complete industry foundation subjects such as: Data Structures & Algorithms, Object-Oriented Programming, Mobile\\n\\nProgramming, Software Testing,...\\n\\nPROJECTS\\n\\nLearning English App\\n\\n( Aug 20, 2023 \\n\\n-\\n\\n Sep 21, 2023 )\\n\\nLanguage\\n\\nKotlin\\n\\nDescription project\\n\\nBuilding an application that allows learners to use their registered accounts to study courses by topic.\\n\\nYour team size\\n\\n2\\n\\nYour responsibility in project\\n\\nI am in charge of developing the area for personal information, managing login registration for the system, putting the online chat system into place using GetStream.io, and integrating\\n\\nChatGPT's API to enable communication with AI bots.\\n\\nProject structure\\n\\n• Database: Firestore, Firebase storage, Firebase authentication \\n\\n• Architecture: MVVM (Built based on Google App standard architecture)\\n\\nGithub\\n\\nFindHostel\\n\\n( Jun 25, 2023 \\n\\n-\\n\\n Sep 21, 2023 )\\n\\nLanguage\\n\\nDescription project\\n\\nYour team size\\n\\nYour responsibility in project\\n\\nDatabase\\n\\nGithub\\n\\nWebsite Design Projects\\n\\n( Jan 16, 2022 \\n\\n-\\n\\n Sep 21, 2023 )\\n\\nProject\\n\\nEcommerce\\n\\n-\\n\\nDesign\\n\\n-\\n\\nWebsite\\n\\nDescription project (Ecommerce\\n\\n-\\n\\n Design\\n\\n-\\n\\nWebsite)\\n\\nClinic\\n\\n-\\n\\nSystem\\n\\nDescription project (Clinic\\n\\n-\\n\\nSystem)\\n\\nSKILLS\\n\\nProgramming languages\\n\\nOther\\n\\nCommunication\\n\\n• UI framework: Jetpack Compose\\n\\n• Support: GetStream.io (Chat API), Sapling AI (Grammar check), chatGPT\\n\\nhttps://github.com/TranDatk/LearningEngishApplication\\n\\nJava\\n\\nBuilding an application that allows users to post to search for tenants, or to find rooms and\\n\\ncontact through posts.\\n\\n4\\n\\nI am in responsible of creating the personal information area, managing login registration,\\n\\nadding, removing, changing, and renewing postings, as well as processing payments via the MoMo payment gateway (testing).\\n\\nFirebase realtime, Firebase storage, SQLite\\n\\nhttps://github.com/TranDatk/LTDD_CS2001_Nhom22\\n\\nhttps://github.com/Penz7/ecommerce\\n\\n-\\n\\ndemo\\n\\n-\\n\\nwebsite.github.io\\n\\nThe website is designed to simulate an online sales website using HTML/CSS and JavaScript technologies\\n\\nhttps://github.com/Penz7/clicnicsystem\\n\\nPython (Flask\\n\\n-\\n\\nadmin), HTML/CSS, Javascript\\n\\nSimulate a private clinic website with user login and registration services provided by Python, and utilize Flask admin to manage medical examination orders and drug payment invoices on\\n\\nthe doctor's and nurse's interfaces at that clinic.\\n\\nJava, Kotlin, and Javascript are the most popular uses.\\n\\nFirebase , SQL Server, MySQL, SQLite and Jetpack Compose (Android)\\n\\nCan read, understand, and communicate in basic English\\n\\n© topcv.vn\""
      ]
     },
     "execution_count": 23,
     "metadata": {},
     "output_type": "execute_result"
    }
   ],
   "source": [
    "cv[0].page_content"
   ]
  },
  {
   "cell_type": "code",
   "execution_count": 13,
   "metadata": {
    "metadata": {}
   },
   "outputs": [
    {
     "data": {
      "text/html": [
       "<pre style=\"white-space:pre;overflow-x:auto;line-height:normal;font-family:Menlo,'DejaVu Sans Mono',consolas,'Courier New',monospace\">Cap Tan Dat\n",
       "</pre>\n"
      ],
      "text/plain": [
       "Cap Tan Dat\n"
      ]
     },
     "metadata": {},
     "output_type": "display_data"
    },
    {
     "data": {
      "text/html": [
       "<pre style=\"white-space:pre;overflow-x:auto;line-height:normal;font-family:Menlo,'DejaVu Sans Mono',consolas,'Courier New',monospace\">\n",
       "</pre>\n"
      ],
      "text/plain": [
       "\n"
      ]
     },
     "metadata": {},
     "output_type": "display_data"
    },
    {
     "data": {
      "text/html": [
       "<pre style=\"white-space:pre;overflow-x:auto;line-height:normal;font-family:Menlo,'DejaVu Sans Mono',consolas,'Courier New',monospace\">Web developer intern\n",
       "</pre>\n"
      ],
      "text/plain": [
       "Web developer intern\n"
      ]
     },
     "metadata": {},
     "output_type": "display_data"
    },
    {
     "data": {
      "text/html": [
       "<pre style=\"white-space:pre;overflow-x:auto;line-height:normal;font-family:Menlo,'DejaVu Sans Mono',consolas,'Courier New',monospace\">\n",
       "</pre>\n"
      ],
      "text/plain": [
       "\n"
      ]
     },
     "metadata": {},
     "output_type": "display_data"
    },
    {
     "data": {
      "text/html": [
       "<pre style=\"white-space:pre;overflow-x:auto;line-height:normal;font-family:Menlo,'DejaVu Sans Mono',consolas,'Courier New',monospace\"> <span style=\"color: #008080; text-decoration-color: #008080; font-weight: bold\">0961414817</span> ✉ tandatkt002@gmail.com  <span style=\"color: #0000ff; text-decoration-color: #0000ff; text-decoration: underline\">https://github.com/Penz7</span>\n",
       "</pre>\n"
      ],
      "text/plain": [
       " \u001b[1;36m0961414817\u001b[0m ✉ tandatkt002@gmail.com  \u001b[4;94mhttps://github.com/Penz7\u001b[0m\n"
      ]
     },
     "metadata": {},
     "output_type": "display_data"
    },
    {
     "data": {
      "text/html": [
       "<pre style=\"white-space:pre;overflow-x:auto;line-height:normal;font-family:Menlo,'DejaVu Sans Mono',consolas,'Courier New',monospace\">\n",
       "</pre>\n"
      ],
      "text/plain": [
       "\n"
      ]
     },
     "metadata": {},
     "output_type": "display_data"
    },
    {
     "data": {
      "text/html": [
       "<pre style=\"white-space:pre;overflow-x:auto;line-height:normal;font-family:Menlo,'DejaVu Sans Mono',consolas,'Courier New',monospace\"> Ho Chi Minh City,Ward <span style=\"color: #008080; text-decoration-color: #008080; font-weight: bold\">7</span>,Binh Thanh District\n",
       "</pre>\n"
      ],
      "text/plain": [
       " Ho Chi Minh City,Ward \u001b[1;36m7\u001b[0m,Binh Thanh District\n"
      ]
     },
     "metadata": {},
     "output_type": "display_data"
    },
    {
     "data": {
      "text/html": [
       "<pre style=\"white-space:pre;overflow-x:auto;line-height:normal;font-family:Menlo,'DejaVu Sans Mono',consolas,'Courier New',monospace\">\n",
       "</pre>\n"
      ],
      "text/plain": [
       "\n"
      ]
     },
     "metadata": {},
     "output_type": "display_data"
    },
    {
     "data": {
      "text/html": [
       "<pre style=\"white-space:pre;overflow-x:auto;line-height:normal;font-family:Menlo,'DejaVu Sans Mono',consolas,'Courier New',monospace\">OBJECTIVE\n",
       "</pre>\n"
      ],
      "text/plain": [
       "OBJECTIVE\n"
      ]
     },
     "metadata": {},
     "output_type": "display_data"
    },
    {
     "data": {
      "text/html": [
       "<pre style=\"white-space:pre;overflow-x:auto;line-height:normal;font-family:Menlo,'DejaVu Sans Mono',consolas,'Courier New',monospace\">\n",
       "</pre>\n"
      ],
      "text/plain": [
       "\n"
      ]
     },
     "metadata": {},
     "output_type": "display_data"
    },
    {
     "data": {
      "text/html": [
       "<pre style=\"white-space:pre;overflow-x:auto;line-height:normal;font-family:Menlo,'DejaVu Sans Mono',consolas,'Courier New',monospace\">Obtain more knowledge about web programming by gaining hands-on experience in a formal working setting. For a \n",
       "better understanding of how to work in a professional setting and further your career, learn from your forebears, \n",
       "particularly from your\n",
       "</pre>\n"
      ],
      "text/plain": [
       "Obtain more knowledge about web programming by gaining hands-on experience in a formal working setting. For a \n",
       "better understanding of how to work in a professional setting and further your career, learn from your forebears, \n",
       "particularly from your\n"
      ]
     },
     "metadata": {},
     "output_type": "display_data"
    },
    {
     "data": {
      "text/html": [
       "<pre style=\"white-space:pre;overflow-x:auto;line-height:normal;font-family:Menlo,'DejaVu Sans Mono',consolas,'Courier New',monospace\">\n",
       "</pre>\n"
      ],
      "text/plain": [
       "\n"
      ]
     },
     "metadata": {},
     "output_type": "display_data"
    },
    {
     "data": {
      "text/html": [
       "<pre style=\"white-space:pre;overflow-x:auto;line-height:normal;font-family:Menlo,'DejaVu Sans Mono',consolas,'Courier New',monospace\">elders at the organization. To ensure independence and top performance in your everyday work, learn time management\n",
       "skills, how to work efficiently, and how to\n",
       "</pre>\n"
      ],
      "text/plain": [
       "elders at the organization. To ensure independence and top performance in your everyday work, learn time management\n",
       "skills, how to work efficiently, and how to\n"
      ]
     },
     "metadata": {},
     "output_type": "display_data"
    },
    {
     "data": {
      "text/html": [
       "<pre style=\"white-space:pre;overflow-x:auto;line-height:normal;font-family:Menlo,'DejaVu Sans Mono',consolas,'Courier New',monospace\">\n",
       "</pre>\n"
      ],
      "text/plain": [
       "\n"
      ]
     },
     "metadata": {},
     "output_type": "display_data"
    },
    {
     "data": {
      "text/html": [
       "<pre style=\"white-space:pre;overflow-x:auto;line-height:normal;font-family:Menlo,'DejaVu Sans Mono',consolas,'Courier New',monospace\">develop an organized work schedule. Finally, I wish to have the chance to foster development and contribute to the \n",
       "company's future success and growth in addition to being\n",
       "</pre>\n"
      ],
      "text/plain": [
       "develop an organized work schedule. Finally, I wish to have the chance to foster development and contribute to the \n",
       "company's future success and growth in addition to being\n"
      ]
     },
     "metadata": {},
     "output_type": "display_data"
    },
    {
     "data": {
      "text/html": [
       "<pre style=\"white-space:pre;overflow-x:auto;line-height:normal;font-family:Menlo,'DejaVu Sans Mono',consolas,'Courier New',monospace\">\n",
       "</pre>\n"
      ],
      "text/plain": [
       "\n"
      ]
     },
     "metadata": {},
     "output_type": "display_data"
    },
    {
     "data": {
      "text/html": [
       "<pre style=\"white-space:pre;overflow-x:auto;line-height:normal;font-family:Menlo,'DejaVu Sans Mono',consolas,'Courier New',monospace\">hired on as a formal employee.\n",
       "</pre>\n"
      ],
      "text/plain": [
       "hired on as a formal employee.\n"
      ]
     },
     "metadata": {},
     "output_type": "display_data"
    },
    {
     "data": {
      "text/html": [
       "<pre style=\"white-space:pre;overflow-x:auto;line-height:normal;font-family:Menlo,'DejaVu Sans Mono',consolas,'Courier New',monospace\">\n",
       "</pre>\n"
      ],
      "text/plain": [
       "\n"
      ]
     },
     "metadata": {},
     "output_type": "display_data"
    },
    {
     "data": {
      "text/html": [
       "<pre style=\"white-space:pre;overflow-x:auto;line-height:normal;font-family:Menlo,'DejaVu Sans Mono',consolas,'Courier New',monospace\">EDUCATION\n",
       "</pre>\n"
      ],
      "text/plain": [
       "EDUCATION\n"
      ]
     },
     "metadata": {},
     "output_type": "display_data"
    },
    {
     "data": {
      "text/html": [
       "<pre style=\"white-space:pre;overflow-x:auto;line-height:normal;font-family:Menlo,'DejaVu Sans Mono',consolas,'Courier New',monospace\">\n",
       "</pre>\n"
      ],
      "text/plain": [
       "\n"
      ]
     },
     "metadata": {},
     "output_type": "display_data"
    },
    {
     "data": {
      "text/html": [
       "<pre style=\"white-space:pre;overflow-x:auto;line-height:normal;font-family:Menlo,'DejaVu Sans Mono',consolas,'Courier New',monospace\">Ho Chi Minh City Open University\n",
       "</pre>\n"
      ],
      "text/plain": [
       "Ho Chi Minh City Open University\n"
      ]
     },
     "metadata": {},
     "output_type": "display_data"
    },
    {
     "data": {
      "text/html": [
       "<pre style=\"white-space:pre;overflow-x:auto;line-height:normal;font-family:Menlo,'DejaVu Sans Mono',consolas,'Courier New',monospace\">\n",
       "</pre>\n"
      ],
      "text/plain": [
       "\n"
      ]
     },
     "metadata": {},
     "output_type": "display_data"
    },
    {
     "data": {
      "text/html": [
       "<pre style=\"white-space:pre;overflow-x:auto;line-height:normal;font-family:Menlo,'DejaVu Sans Mono',consolas,'Courier New',monospace\"><span style=\"color: #008080; text-decoration-color: #008080; font-weight: bold\">2020</span> \n",
       "</pre>\n"
      ],
      "text/plain": [
       "\u001b[1;36m2020\u001b[0m \n"
      ]
     },
     "metadata": {},
     "output_type": "display_data"
    },
    {
     "data": {
      "text/html": [
       "<pre style=\"white-space:pre;overflow-x:auto;line-height:normal;font-family:Menlo,'DejaVu Sans Mono',consolas,'Courier New',monospace\">\n",
       "</pre>\n"
      ],
      "text/plain": [
       "\n"
      ]
     },
     "metadata": {},
     "output_type": "display_data"
    },
    {
     "data": {
      "text/html": [
       "<pre style=\"white-space:pre;overflow-x:auto;line-height:normal;font-family:Menlo,'DejaVu Sans Mono',consolas,'Courier New',monospace\">-\n",
       "</pre>\n"
      ],
      "text/plain": [
       "-\n"
      ]
     },
     "metadata": {},
     "output_type": "display_data"
    },
    {
     "data": {
      "text/html": [
       "<pre style=\"white-space:pre;overflow-x:auto;line-height:normal;font-family:Menlo,'DejaVu Sans Mono',consolas,'Courier New',monospace\">\n",
       "</pre>\n"
      ],
      "text/plain": [
       "\n"
      ]
     },
     "metadata": {},
     "output_type": "display_data"
    },
    {
     "data": {
      "text/html": [
       "<pre style=\"white-space:pre;overflow-x:auto;line-height:normal;font-family:Menlo,'DejaVu Sans Mono',consolas,'Courier New',monospace\"> <span style=\"color: #008080; text-decoration-color: #008080; font-weight: bold\">2024</span>\n",
       "</pre>\n"
      ],
      "text/plain": [
       " \u001b[1;36m2024\u001b[0m\n"
      ]
     },
     "metadata": {},
     "output_type": "display_data"
    },
    {
     "data": {
      "text/html": [
       "<pre style=\"white-space:pre;overflow-x:auto;line-height:normal;font-family:Menlo,'DejaVu Sans Mono',consolas,'Courier New',monospace\">\n",
       "</pre>\n"
      ],
      "text/plain": [
       "\n"
      ]
     },
     "metadata": {},
     "output_type": "display_data"
    },
    {
     "data": {
      "text/html": [
       "<pre style=\"white-space:pre;overflow-x:auto;line-height:normal;font-family:Menlo,'DejaVu Sans Mono',consolas,'Courier New',monospace\">Major: Information Technology GPA: <span style=\"color: #008080; text-decoration-color: #008080; font-weight: bold\">2.68</span>\n",
       "</pre>\n"
      ],
      "text/plain": [
       "Major: Information Technology GPA: \u001b[1;36m2.68\u001b[0m\n"
      ]
     },
     "metadata": {},
     "output_type": "display_data"
    },
    {
     "data": {
      "text/html": [
       "<pre style=\"white-space:pre;overflow-x:auto;line-height:normal;font-family:Menlo,'DejaVu Sans Mono',consolas,'Courier New',monospace\">\n",
       "</pre>\n"
      ],
      "text/plain": [
       "\n"
      ]
     },
     "metadata": {},
     "output_type": "display_data"
    },
    {
     "data": {
      "text/html": [
       "<pre style=\"white-space:pre;overflow-x:auto;line-height:normal;font-family:Menlo,'DejaVu Sans Mono',consolas,'Courier New',monospace\">Extracurricular Involvement: \n",
       "</pre>\n"
      ],
      "text/plain": [
       "Extracurricular Involvement: \n"
      ]
     },
     "metadata": {},
     "output_type": "display_data"
    },
    {
     "data": {
      "text/html": [
       "<pre style=\"white-space:pre;overflow-x:auto;line-height:normal;font-family:Menlo,'DejaVu Sans Mono',consolas,'Courier New',monospace\">\n",
       "</pre>\n"
      ],
      "text/plain": [
       "\n"
      ]
     },
     "metadata": {},
     "output_type": "display_data"
    },
    {
     "data": {
      "text/html": [
       "<pre style=\"white-space:pre;overflow-x:auto;line-height:normal;font-family:Menlo,'DejaVu Sans Mono',consolas,'Courier New',monospace\">•\n",
       "</pre>\n"
      ],
      "text/plain": [
       "•\n"
      ]
     },
     "metadata": {},
     "output_type": "display_data"
    },
    {
     "data": {
      "text/html": [
       "<pre style=\"white-space:pre;overflow-x:auto;line-height:normal;font-family:Menlo,'DejaVu Sans Mono',consolas,'Courier New',monospace\">\n",
       "</pre>\n"
      ],
      "text/plain": [
       "\n"
      ]
     },
     "metadata": {},
     "output_type": "display_data"
    },
    {
     "data": {
      "text/html": [
       "<pre style=\"white-space:pre;overflow-x:auto;line-height:normal;font-family:Menlo,'DejaVu Sans Mono',consolas,'Courier New',monospace\"> Mobile device programing club\n",
       "</pre>\n"
      ],
      "text/plain": [
       " Mobile device programing club\n"
      ]
     },
     "metadata": {},
     "output_type": "display_data"
    },
    {
     "data": {
      "text/html": [
       "<pre style=\"white-space:pre;overflow-x:auto;line-height:normal;font-family:Menlo,'DejaVu Sans Mono',consolas,'Courier New',monospace\">\n",
       "</pre>\n"
      ],
      "text/plain": [
       "\n"
      ]
     },
     "metadata": {},
     "output_type": "display_data"
    },
    {
     "data": {
      "text/html": [
       "<pre style=\"white-space:pre;overflow-x:auto;line-height:normal;font-family:Menlo,'DejaVu Sans Mono',consolas,'Courier New',monospace\">EXPERIENCE\n",
       "</pre>\n"
      ],
      "text/plain": [
       "EXPERIENCE\n"
      ]
     },
     "metadata": {},
     "output_type": "display_data"
    },
    {
     "data": {
      "text/html": [
       "<pre style=\"white-space:pre;overflow-x:auto;line-height:normal;font-family:Menlo,'DejaVu Sans Mono',consolas,'Courier New',monospace\">\n",
       "</pre>\n"
      ],
      "text/plain": [
       "\n"
      ]
     },
     "metadata": {},
     "output_type": "display_data"
    },
    {
     "data": {
      "text/html": [
       "<pre style=\"white-space:pre;overflow-x:auto;line-height:normal;font-family:Menlo,'DejaVu Sans Mono',consolas,'Courier New',monospace\">Programming and Teamwork Skills\n",
       "</pre>\n"
      ],
      "text/plain": [
       "Programming and Teamwork Skills\n"
      ]
     },
     "metadata": {},
     "output_type": "display_data"
    },
    {
     "data": {
      "text/html": [
       "<pre style=\"white-space:pre;overflow-x:auto;line-height:normal;font-family:Menlo,'DejaVu Sans Mono',consolas,'Courier New',monospace\">\n",
       "</pre>\n"
      ],
      "text/plain": [
       "\n"
      ]
     },
     "metadata": {},
     "output_type": "display_data"
    },
    {
     "data": {
      "text/html": [
       "<pre style=\"white-space:pre;overflow-x:auto;line-height:normal;font-family:Menlo,'DejaVu Sans Mono',consolas,'Courier New',monospace\">\n",
       "</pre>\n"
      ],
      "text/plain": [
       "\n"
      ]
     },
     "metadata": {},
     "output_type": "display_data"
    },
    {
     "data": {
      "text/html": [
       "<pre style=\"white-space:pre;overflow-x:auto;line-height:normal;font-family:Menlo,'DejaVu Sans Mono',consolas,'Courier New',monospace\">\n",
       "</pre>\n"
      ],
      "text/plain": [
       "\n"
      ]
     },
     "metadata": {},
     "output_type": "display_data"
    },
    {
     "data": {
      "text/html": [
       "<pre style=\"white-space:pre;overflow-x:auto;line-height:normal;font-family:Menlo,'DejaVu Sans Mono',consolas,'Courier New',monospace\">During my time studying and cultivating in the university environment, I have formed the thinking and working style\n",
       "of a\n",
       "</pre>\n"
      ],
      "text/plain": [
       "During my time studying and cultivating in the university environment, I have formed the thinking and working style\n",
       "of a\n"
      ]
     },
     "metadata": {},
     "output_type": "display_data"
    },
    {
     "data": {
      "text/html": [
       "<pre style=\"white-space:pre;overflow-x:auto;line-height:normal;font-family:Menlo,'DejaVu Sans Mono',consolas,'Courier New',monospace\">\n",
       "</pre>\n"
      ],
      "text/plain": [
       "\n"
      ]
     },
     "metadata": {},
     "output_type": "display_data"
    },
    {
     "data": {
      "text/html": [
       "<pre style=\"white-space:pre;overflow-x:auto;line-height:normal;font-family:Menlo,'DejaVu Sans Mono',consolas,'Courier New',monospace\">programmer, with work that requires perseverance, concentration and the ability to work with others partner. Along \n",
       "with that is the ability to exchange and speak in front of crowds with your own products, without being afraid of \n",
       "difficulties\n",
       "</pre>\n"
      ],
      "text/plain": [
       "programmer, with work that requires perseverance, concentration and the ability to work with others partner. Along \n",
       "with that is the ability to exchange and speak in front of crowds with your own products, without being afraid of \n",
       "difficulties\n"
      ]
     },
     "metadata": {},
     "output_type": "display_data"
    },
    {
     "data": {
      "text/html": [
       "<pre style=\"white-space:pre;overflow-x:auto;line-height:normal;font-family:Menlo,'DejaVu Sans Mono',consolas,'Courier New',monospace\">\n",
       "</pre>\n"
      ],
      "text/plain": [
       "\n"
      ]
     },
     "metadata": {},
     "output_type": "display_data"
    },
    {
     "data": {
      "text/html": [
       "<pre style=\"white-space:pre;overflow-x:auto;line-height:normal;font-family:Menlo,'DejaVu Sans Mono',consolas,'Courier New',monospace\">and challenges. Successfully complete industry foundation subjects such as: Data Structures &amp; Algorithms, \n",
       "Object-Oriented Programming, Mobile\n",
       "</pre>\n"
      ],
      "text/plain": [
       "and challenges. Successfully complete industry foundation subjects such as: Data Structures & Algorithms, \n",
       "Object-Oriented Programming, Mobile\n"
      ]
     },
     "metadata": {},
     "output_type": "display_data"
    },
    {
     "data": {
      "text/html": [
       "<pre style=\"white-space:pre;overflow-x:auto;line-height:normal;font-family:Menlo,'DejaVu Sans Mono',consolas,'Courier New',monospace\">\n",
       "</pre>\n"
      ],
      "text/plain": [
       "\n"
      ]
     },
     "metadata": {},
     "output_type": "display_data"
    },
    {
     "data": {
      "text/html": [
       "<pre style=\"white-space:pre;overflow-x:auto;line-height:normal;font-family:Menlo,'DejaVu Sans Mono',consolas,'Courier New',monospace\">Programming, Software Testing,<span style=\"color: #808000; text-decoration-color: #808000\">...</span>\n",
       "</pre>\n"
      ],
      "text/plain": [
       "Programming, Software Testing,\u001b[33m...\u001b[0m\n"
      ]
     },
     "metadata": {},
     "output_type": "display_data"
    },
    {
     "data": {
      "text/html": [
       "<pre style=\"white-space:pre;overflow-x:auto;line-height:normal;font-family:Menlo,'DejaVu Sans Mono',consolas,'Courier New',monospace\">\n",
       "</pre>\n"
      ],
      "text/plain": [
       "\n"
      ]
     },
     "metadata": {},
     "output_type": "display_data"
    },
    {
     "data": {
      "text/html": [
       "<pre style=\"white-space:pre;overflow-x:auto;line-height:normal;font-family:Menlo,'DejaVu Sans Mono',consolas,'Courier New',monospace\">PROJECTS\n",
       "</pre>\n"
      ],
      "text/plain": [
       "PROJECTS\n"
      ]
     },
     "metadata": {},
     "output_type": "display_data"
    },
    {
     "data": {
      "text/html": [
       "<pre style=\"white-space:pre;overflow-x:auto;line-height:normal;font-family:Menlo,'DejaVu Sans Mono',consolas,'Courier New',monospace\">\n",
       "</pre>\n"
      ],
      "text/plain": [
       "\n"
      ]
     },
     "metadata": {},
     "output_type": "display_data"
    },
    {
     "data": {
      "text/html": [
       "<pre style=\"white-space:pre;overflow-x:auto;line-height:normal;font-family:Menlo,'DejaVu Sans Mono',consolas,'Courier New',monospace\">Learning English App\n",
       "</pre>\n"
      ],
      "text/plain": [
       "Learning English App\n"
      ]
     },
     "metadata": {},
     "output_type": "display_data"
    },
    {
     "data": {
      "text/html": [
       "<pre style=\"white-space:pre;overflow-x:auto;line-height:normal;font-family:Menlo,'DejaVu Sans Mono',consolas,'Courier New',monospace\">\n",
       "</pre>\n"
      ],
      "text/plain": [
       "\n"
      ]
     },
     "metadata": {},
     "output_type": "display_data"
    },
    {
     "data": {
      "text/html": [
       "<pre style=\"white-space:pre;overflow-x:auto;line-height:normal;font-family:Menlo,'DejaVu Sans Mono',consolas,'Courier New',monospace\"><span style=\"font-weight: bold\">(</span> Aug <span style=\"color: #008080; text-decoration-color: #008080; font-weight: bold\">20</span>, <span style=\"color: #008080; text-decoration-color: #008080; font-weight: bold\">2023</span> \n",
       "</pre>\n"
      ],
      "text/plain": [
       "\u001b[1m(\u001b[0m Aug \u001b[1;36m20\u001b[0m, \u001b[1;36m2023\u001b[0m \n"
      ]
     },
     "metadata": {},
     "output_type": "display_data"
    },
    {
     "data": {
      "text/html": [
       "<pre style=\"white-space:pre;overflow-x:auto;line-height:normal;font-family:Menlo,'DejaVu Sans Mono',consolas,'Courier New',monospace\">\n",
       "</pre>\n"
      ],
      "text/plain": [
       "\n"
      ]
     },
     "metadata": {},
     "output_type": "display_data"
    },
    {
     "data": {
      "text/html": [
       "<pre style=\"white-space:pre;overflow-x:auto;line-height:normal;font-family:Menlo,'DejaVu Sans Mono',consolas,'Courier New',monospace\">-\n",
       "</pre>\n"
      ],
      "text/plain": [
       "-\n"
      ]
     },
     "metadata": {},
     "output_type": "display_data"
    },
    {
     "data": {
      "text/html": [
       "<pre style=\"white-space:pre;overflow-x:auto;line-height:normal;font-family:Menlo,'DejaVu Sans Mono',consolas,'Courier New',monospace\">\n",
       "</pre>\n"
      ],
      "text/plain": [
       "\n"
      ]
     },
     "metadata": {},
     "output_type": "display_data"
    },
    {
     "data": {
      "text/html": [
       "<pre style=\"white-space:pre;overflow-x:auto;line-height:normal;font-family:Menlo,'DejaVu Sans Mono',consolas,'Courier New',monospace\"> Sep <span style=\"color: #008080; text-decoration-color: #008080; font-weight: bold\">21</span>, <span style=\"color: #008080; text-decoration-color: #008080; font-weight: bold\">2023</span> <span style=\"font-weight: bold\">)</span>\n",
       "</pre>\n"
      ],
      "text/plain": [
       " Sep \u001b[1;36m21\u001b[0m, \u001b[1;36m2023\u001b[0m \u001b[1m)\u001b[0m\n"
      ]
     },
     "metadata": {},
     "output_type": "display_data"
    },
    {
     "data": {
      "text/html": [
       "<pre style=\"white-space:pre;overflow-x:auto;line-height:normal;font-family:Menlo,'DejaVu Sans Mono',consolas,'Courier New',monospace\">\n",
       "</pre>\n"
      ],
      "text/plain": [
       "\n"
      ]
     },
     "metadata": {},
     "output_type": "display_data"
    },
    {
     "data": {
      "text/html": [
       "<pre style=\"white-space:pre;overflow-x:auto;line-height:normal;font-family:Menlo,'DejaVu Sans Mono',consolas,'Courier New',monospace\">Language\n",
       "</pre>\n"
      ],
      "text/plain": [
       "Language\n"
      ]
     },
     "metadata": {},
     "output_type": "display_data"
    },
    {
     "data": {
      "text/html": [
       "<pre style=\"white-space:pre;overflow-x:auto;line-height:normal;font-family:Menlo,'DejaVu Sans Mono',consolas,'Courier New',monospace\">\n",
       "</pre>\n"
      ],
      "text/plain": [
       "\n"
      ]
     },
     "metadata": {},
     "output_type": "display_data"
    },
    {
     "data": {
      "text/html": [
       "<pre style=\"white-space:pre;overflow-x:auto;line-height:normal;font-family:Menlo,'DejaVu Sans Mono',consolas,'Courier New',monospace\">Kotlin\n",
       "</pre>\n"
      ],
      "text/plain": [
       "Kotlin\n"
      ]
     },
     "metadata": {},
     "output_type": "display_data"
    },
    {
     "data": {
      "text/html": [
       "<pre style=\"white-space:pre;overflow-x:auto;line-height:normal;font-family:Menlo,'DejaVu Sans Mono',consolas,'Courier New',monospace\">\n",
       "</pre>\n"
      ],
      "text/plain": [
       "\n"
      ]
     },
     "metadata": {},
     "output_type": "display_data"
    },
    {
     "data": {
      "text/html": [
       "<pre style=\"white-space:pre;overflow-x:auto;line-height:normal;font-family:Menlo,'DejaVu Sans Mono',consolas,'Courier New',monospace\">Description project\n",
       "</pre>\n"
      ],
      "text/plain": [
       "Description project\n"
      ]
     },
     "metadata": {},
     "output_type": "display_data"
    },
    {
     "data": {
      "text/html": [
       "<pre style=\"white-space:pre;overflow-x:auto;line-height:normal;font-family:Menlo,'DejaVu Sans Mono',consolas,'Courier New',monospace\">\n",
       "</pre>\n"
      ],
      "text/plain": [
       "\n"
      ]
     },
     "metadata": {},
     "output_type": "display_data"
    },
    {
     "data": {
      "text/html": [
       "<pre style=\"white-space:pre;overflow-x:auto;line-height:normal;font-family:Menlo,'DejaVu Sans Mono',consolas,'Courier New',monospace\">Building an application that allows learners to use their registered accounts to study courses by topic.\n",
       "</pre>\n"
      ],
      "text/plain": [
       "Building an application that allows learners to use their registered accounts to study courses by topic.\n"
      ]
     },
     "metadata": {},
     "output_type": "display_data"
    },
    {
     "data": {
      "text/html": [
       "<pre style=\"white-space:pre;overflow-x:auto;line-height:normal;font-family:Menlo,'DejaVu Sans Mono',consolas,'Courier New',monospace\">\n",
       "</pre>\n"
      ],
      "text/plain": [
       "\n"
      ]
     },
     "metadata": {},
     "output_type": "display_data"
    },
    {
     "data": {
      "text/html": [
       "<pre style=\"white-space:pre;overflow-x:auto;line-height:normal;font-family:Menlo,'DejaVu Sans Mono',consolas,'Courier New',monospace\">Your team size\n",
       "</pre>\n"
      ],
      "text/plain": [
       "Your team size\n"
      ]
     },
     "metadata": {},
     "output_type": "display_data"
    },
    {
     "data": {
      "text/html": [
       "<pre style=\"white-space:pre;overflow-x:auto;line-height:normal;font-family:Menlo,'DejaVu Sans Mono',consolas,'Courier New',monospace\">\n",
       "</pre>\n"
      ],
      "text/plain": [
       "\n"
      ]
     },
     "metadata": {},
     "output_type": "display_data"
    },
    {
     "data": {
      "text/html": [
       "<pre style=\"white-space:pre;overflow-x:auto;line-height:normal;font-family:Menlo,'DejaVu Sans Mono',consolas,'Courier New',monospace\"><span style=\"color: #008080; text-decoration-color: #008080; font-weight: bold\">2</span>\n",
       "</pre>\n"
      ],
      "text/plain": [
       "\u001b[1;36m2\u001b[0m\n"
      ]
     },
     "metadata": {},
     "output_type": "display_data"
    },
    {
     "data": {
      "text/html": [
       "<pre style=\"white-space:pre;overflow-x:auto;line-height:normal;font-family:Menlo,'DejaVu Sans Mono',consolas,'Courier New',monospace\">\n",
       "</pre>\n"
      ],
      "text/plain": [
       "\n"
      ]
     },
     "metadata": {},
     "output_type": "display_data"
    },
    {
     "data": {
      "text/html": [
       "<pre style=\"white-space:pre;overflow-x:auto;line-height:normal;font-family:Menlo,'DejaVu Sans Mono',consolas,'Courier New',monospace\">Your responsibility in project\n",
       "</pre>\n"
      ],
      "text/plain": [
       "Your responsibility in project\n"
      ]
     },
     "metadata": {},
     "output_type": "display_data"
    },
    {
     "data": {
      "text/html": [
       "<pre style=\"white-space:pre;overflow-x:auto;line-height:normal;font-family:Menlo,'DejaVu Sans Mono',consolas,'Courier New',monospace\">\n",
       "</pre>\n"
      ],
      "text/plain": [
       "\n"
      ]
     },
     "metadata": {},
     "output_type": "display_data"
    },
    {
     "data": {
      "text/html": [
       "<pre style=\"white-space:pre;overflow-x:auto;line-height:normal;font-family:Menlo,'DejaVu Sans Mono',consolas,'Courier New',monospace\">I am in charge of developing the area for personal information, managing login registration for the system, putting\n",
       "the online chat system into place using GetStream.io, and integrating\n",
       "</pre>\n"
      ],
      "text/plain": [
       "I am in charge of developing the area for personal information, managing login registration for the system, putting\n",
       "the online chat system into place using GetStream.io, and integrating\n"
      ]
     },
     "metadata": {},
     "output_type": "display_data"
    },
    {
     "data": {
      "text/html": [
       "<pre style=\"white-space:pre;overflow-x:auto;line-height:normal;font-family:Menlo,'DejaVu Sans Mono',consolas,'Courier New',monospace\">\n",
       "</pre>\n"
      ],
      "text/plain": [
       "\n"
      ]
     },
     "metadata": {},
     "output_type": "display_data"
    },
    {
     "data": {
      "text/html": [
       "<pre style=\"white-space:pre;overflow-x:auto;line-height:normal;font-family:Menlo,'DejaVu Sans Mono',consolas,'Courier New',monospace\">ChatGPT's API to enable communication with AI bots.\n",
       "</pre>\n"
      ],
      "text/plain": [
       "ChatGPT's API to enable communication with AI bots.\n"
      ]
     },
     "metadata": {},
     "output_type": "display_data"
    },
    {
     "data": {
      "text/html": [
       "<pre style=\"white-space:pre;overflow-x:auto;line-height:normal;font-family:Menlo,'DejaVu Sans Mono',consolas,'Courier New',monospace\">\n",
       "</pre>\n"
      ],
      "text/plain": [
       "\n"
      ]
     },
     "metadata": {},
     "output_type": "display_data"
    },
    {
     "data": {
      "text/html": [
       "<pre style=\"white-space:pre;overflow-x:auto;line-height:normal;font-family:Menlo,'DejaVu Sans Mono',consolas,'Courier New',monospace\">Project structure\n",
       "</pre>\n"
      ],
      "text/plain": [
       "Project structure\n"
      ]
     },
     "metadata": {},
     "output_type": "display_data"
    },
    {
     "data": {
      "text/html": [
       "<pre style=\"white-space:pre;overflow-x:auto;line-height:normal;font-family:Menlo,'DejaVu Sans Mono',consolas,'Courier New',monospace\">\n",
       "</pre>\n"
      ],
      "text/plain": [
       "\n"
      ]
     },
     "metadata": {},
     "output_type": "display_data"
    },
    {
     "data": {
      "text/html": [
       "<pre style=\"white-space:pre;overflow-x:auto;line-height:normal;font-family:Menlo,'DejaVu Sans Mono',consolas,'Courier New',monospace\">• Database: Firestore, Firebase storage, Firebase authentication \n",
       "</pre>\n"
      ],
      "text/plain": [
       "• Database: Firestore, Firebase storage, Firebase authentication \n"
      ]
     },
     "metadata": {},
     "output_type": "display_data"
    },
    {
     "data": {
      "text/html": [
       "<pre style=\"white-space:pre;overflow-x:auto;line-height:normal;font-family:Menlo,'DejaVu Sans Mono',consolas,'Courier New',monospace\">\n",
       "</pre>\n"
      ],
      "text/plain": [
       "\n"
      ]
     },
     "metadata": {},
     "output_type": "display_data"
    },
    {
     "data": {
      "text/html": [
       "<pre style=\"white-space:pre;overflow-x:auto;line-height:normal;font-family:Menlo,'DejaVu Sans Mono',consolas,'Courier New',monospace\">• Architecture: MVVM <span style=\"font-weight: bold\">(</span>Built based on Google App standard architecture<span style=\"font-weight: bold\">)</span>\n",
       "</pre>\n"
      ],
      "text/plain": [
       "• Architecture: MVVM \u001b[1m(\u001b[0mBuilt based on Google App standard architecture\u001b[1m)\u001b[0m\n"
      ]
     },
     "metadata": {},
     "output_type": "display_data"
    },
    {
     "data": {
      "text/html": [
       "<pre style=\"white-space:pre;overflow-x:auto;line-height:normal;font-family:Menlo,'DejaVu Sans Mono',consolas,'Courier New',monospace\">\n",
       "</pre>\n"
      ],
      "text/plain": [
       "\n"
      ]
     },
     "metadata": {},
     "output_type": "display_data"
    },
    {
     "data": {
      "text/html": [
       "<pre style=\"white-space:pre;overflow-x:auto;line-height:normal;font-family:Menlo,'DejaVu Sans Mono',consolas,'Courier New',monospace\">Github\n",
       "</pre>\n"
      ],
      "text/plain": [
       "Github\n"
      ]
     },
     "metadata": {},
     "output_type": "display_data"
    },
    {
     "data": {
      "text/html": [
       "<pre style=\"white-space:pre;overflow-x:auto;line-height:normal;font-family:Menlo,'DejaVu Sans Mono',consolas,'Courier New',monospace\">\n",
       "</pre>\n"
      ],
      "text/plain": [
       "\n"
      ]
     },
     "metadata": {},
     "output_type": "display_data"
    },
    {
     "data": {
      "text/html": [
       "<pre style=\"white-space:pre;overflow-x:auto;line-height:normal;font-family:Menlo,'DejaVu Sans Mono',consolas,'Courier New',monospace\">FindHostel\n",
       "</pre>\n"
      ],
      "text/plain": [
       "FindHostel\n"
      ]
     },
     "metadata": {},
     "output_type": "display_data"
    },
    {
     "data": {
      "text/html": [
       "<pre style=\"white-space:pre;overflow-x:auto;line-height:normal;font-family:Menlo,'DejaVu Sans Mono',consolas,'Courier New',monospace\">\n",
       "</pre>\n"
      ],
      "text/plain": [
       "\n"
      ]
     },
     "metadata": {},
     "output_type": "display_data"
    },
    {
     "data": {
      "text/html": [
       "<pre style=\"white-space:pre;overflow-x:auto;line-height:normal;font-family:Menlo,'DejaVu Sans Mono',consolas,'Courier New',monospace\"><span style=\"font-weight: bold\">(</span> Jun <span style=\"color: #008080; text-decoration-color: #008080; font-weight: bold\">25</span>, <span style=\"color: #008080; text-decoration-color: #008080; font-weight: bold\">2023</span> \n",
       "</pre>\n"
      ],
      "text/plain": [
       "\u001b[1m(\u001b[0m Jun \u001b[1;36m25\u001b[0m, \u001b[1;36m2023\u001b[0m \n"
      ]
     },
     "metadata": {},
     "output_type": "display_data"
    },
    {
     "data": {
      "text/html": [
       "<pre style=\"white-space:pre;overflow-x:auto;line-height:normal;font-family:Menlo,'DejaVu Sans Mono',consolas,'Courier New',monospace\">\n",
       "</pre>\n"
      ],
      "text/plain": [
       "\n"
      ]
     },
     "metadata": {},
     "output_type": "display_data"
    },
    {
     "data": {
      "text/html": [
       "<pre style=\"white-space:pre;overflow-x:auto;line-height:normal;font-family:Menlo,'DejaVu Sans Mono',consolas,'Courier New',monospace\">-\n",
       "</pre>\n"
      ],
      "text/plain": [
       "-\n"
      ]
     },
     "metadata": {},
     "output_type": "display_data"
    },
    {
     "data": {
      "text/html": [
       "<pre style=\"white-space:pre;overflow-x:auto;line-height:normal;font-family:Menlo,'DejaVu Sans Mono',consolas,'Courier New',monospace\">\n",
       "</pre>\n"
      ],
      "text/plain": [
       "\n"
      ]
     },
     "metadata": {},
     "output_type": "display_data"
    },
    {
     "data": {
      "text/html": [
       "<pre style=\"white-space:pre;overflow-x:auto;line-height:normal;font-family:Menlo,'DejaVu Sans Mono',consolas,'Courier New',monospace\"> Sep <span style=\"color: #008080; text-decoration-color: #008080; font-weight: bold\">21</span>, <span style=\"color: #008080; text-decoration-color: #008080; font-weight: bold\">2023</span> <span style=\"font-weight: bold\">)</span>\n",
       "</pre>\n"
      ],
      "text/plain": [
       " Sep \u001b[1;36m21\u001b[0m, \u001b[1;36m2023\u001b[0m \u001b[1m)\u001b[0m\n"
      ]
     },
     "metadata": {},
     "output_type": "display_data"
    },
    {
     "data": {
      "text/html": [
       "<pre style=\"white-space:pre;overflow-x:auto;line-height:normal;font-family:Menlo,'DejaVu Sans Mono',consolas,'Courier New',monospace\">\n",
       "</pre>\n"
      ],
      "text/plain": [
       "\n"
      ]
     },
     "metadata": {},
     "output_type": "display_data"
    },
    {
     "data": {
      "text/html": [
       "<pre style=\"white-space:pre;overflow-x:auto;line-height:normal;font-family:Menlo,'DejaVu Sans Mono',consolas,'Courier New',monospace\">Language\n",
       "</pre>\n"
      ],
      "text/plain": [
       "Language\n"
      ]
     },
     "metadata": {},
     "output_type": "display_data"
    },
    {
     "data": {
      "text/html": [
       "<pre style=\"white-space:pre;overflow-x:auto;line-height:normal;font-family:Menlo,'DejaVu Sans Mono',consolas,'Courier New',monospace\">\n",
       "</pre>\n"
      ],
      "text/plain": [
       "\n"
      ]
     },
     "metadata": {},
     "output_type": "display_data"
    },
    {
     "data": {
      "text/html": [
       "<pre style=\"white-space:pre;overflow-x:auto;line-height:normal;font-family:Menlo,'DejaVu Sans Mono',consolas,'Courier New',monospace\">Description project\n",
       "</pre>\n"
      ],
      "text/plain": [
       "Description project\n"
      ]
     },
     "metadata": {},
     "output_type": "display_data"
    },
    {
     "data": {
      "text/html": [
       "<pre style=\"white-space:pre;overflow-x:auto;line-height:normal;font-family:Menlo,'DejaVu Sans Mono',consolas,'Courier New',monospace\">\n",
       "</pre>\n"
      ],
      "text/plain": [
       "\n"
      ]
     },
     "metadata": {},
     "output_type": "display_data"
    },
    {
     "data": {
      "text/html": [
       "<pre style=\"white-space:pre;overflow-x:auto;line-height:normal;font-family:Menlo,'DejaVu Sans Mono',consolas,'Courier New',monospace\">Your team size\n",
       "</pre>\n"
      ],
      "text/plain": [
       "Your team size\n"
      ]
     },
     "metadata": {},
     "output_type": "display_data"
    },
    {
     "data": {
      "text/html": [
       "<pre style=\"white-space:pre;overflow-x:auto;line-height:normal;font-family:Menlo,'DejaVu Sans Mono',consolas,'Courier New',monospace\">\n",
       "</pre>\n"
      ],
      "text/plain": [
       "\n"
      ]
     },
     "metadata": {},
     "output_type": "display_data"
    },
    {
     "data": {
      "text/html": [
       "<pre style=\"white-space:pre;overflow-x:auto;line-height:normal;font-family:Menlo,'DejaVu Sans Mono',consolas,'Courier New',monospace\">Your responsibility in project\n",
       "</pre>\n"
      ],
      "text/plain": [
       "Your responsibility in project\n"
      ]
     },
     "metadata": {},
     "output_type": "display_data"
    },
    {
     "data": {
      "text/html": [
       "<pre style=\"white-space:pre;overflow-x:auto;line-height:normal;font-family:Menlo,'DejaVu Sans Mono',consolas,'Courier New',monospace\">\n",
       "</pre>\n"
      ],
      "text/plain": [
       "\n"
      ]
     },
     "metadata": {},
     "output_type": "display_data"
    },
    {
     "data": {
      "text/html": [
       "<pre style=\"white-space:pre;overflow-x:auto;line-height:normal;font-family:Menlo,'DejaVu Sans Mono',consolas,'Courier New',monospace\">Database\n",
       "</pre>\n"
      ],
      "text/plain": [
       "Database\n"
      ]
     },
     "metadata": {},
     "output_type": "display_data"
    },
    {
     "data": {
      "text/html": [
       "<pre style=\"white-space:pre;overflow-x:auto;line-height:normal;font-family:Menlo,'DejaVu Sans Mono',consolas,'Courier New',monospace\">\n",
       "</pre>\n"
      ],
      "text/plain": [
       "\n"
      ]
     },
     "metadata": {},
     "output_type": "display_data"
    },
    {
     "data": {
      "text/html": [
       "<pre style=\"white-space:pre;overflow-x:auto;line-height:normal;font-family:Menlo,'DejaVu Sans Mono',consolas,'Courier New',monospace\">Github\n",
       "</pre>\n"
      ],
      "text/plain": [
       "Github\n"
      ]
     },
     "metadata": {},
     "output_type": "display_data"
    },
    {
     "data": {
      "text/html": [
       "<pre style=\"white-space:pre;overflow-x:auto;line-height:normal;font-family:Menlo,'DejaVu Sans Mono',consolas,'Courier New',monospace\">\n",
       "</pre>\n"
      ],
      "text/plain": [
       "\n"
      ]
     },
     "metadata": {},
     "output_type": "display_data"
    },
    {
     "data": {
      "text/html": [
       "<pre style=\"white-space:pre;overflow-x:auto;line-height:normal;font-family:Menlo,'DejaVu Sans Mono',consolas,'Courier New',monospace\">Website Design Projects\n",
       "</pre>\n"
      ],
      "text/plain": [
       "Website Design Projects\n"
      ]
     },
     "metadata": {},
     "output_type": "display_data"
    },
    {
     "data": {
      "text/html": [
       "<pre style=\"white-space:pre;overflow-x:auto;line-height:normal;font-family:Menlo,'DejaVu Sans Mono',consolas,'Courier New',monospace\">\n",
       "</pre>\n"
      ],
      "text/plain": [
       "\n"
      ]
     },
     "metadata": {},
     "output_type": "display_data"
    },
    {
     "data": {
      "text/html": [
       "<pre style=\"white-space:pre;overflow-x:auto;line-height:normal;font-family:Menlo,'DejaVu Sans Mono',consolas,'Courier New',monospace\"><span style=\"font-weight: bold\">(</span> Jan <span style=\"color: #008080; text-decoration-color: #008080; font-weight: bold\">16</span>, <span style=\"color: #008080; text-decoration-color: #008080; font-weight: bold\">2022</span> \n",
       "</pre>\n"
      ],
      "text/plain": [
       "\u001b[1m(\u001b[0m Jan \u001b[1;36m16\u001b[0m, \u001b[1;36m2022\u001b[0m \n"
      ]
     },
     "metadata": {},
     "output_type": "display_data"
    },
    {
     "data": {
      "text/html": [
       "<pre style=\"white-space:pre;overflow-x:auto;line-height:normal;font-family:Menlo,'DejaVu Sans Mono',consolas,'Courier New',monospace\">\n",
       "</pre>\n"
      ],
      "text/plain": [
       "\n"
      ]
     },
     "metadata": {},
     "output_type": "display_data"
    },
    {
     "data": {
      "text/html": [
       "<pre style=\"white-space:pre;overflow-x:auto;line-height:normal;font-family:Menlo,'DejaVu Sans Mono',consolas,'Courier New',monospace\">-\n",
       "</pre>\n"
      ],
      "text/plain": [
       "-\n"
      ]
     },
     "metadata": {},
     "output_type": "display_data"
    },
    {
     "data": {
      "text/html": [
       "<pre style=\"white-space:pre;overflow-x:auto;line-height:normal;font-family:Menlo,'DejaVu Sans Mono',consolas,'Courier New',monospace\">\n",
       "</pre>\n"
      ],
      "text/plain": [
       "\n"
      ]
     },
     "metadata": {},
     "output_type": "display_data"
    },
    {
     "data": {
      "text/html": [
       "<pre style=\"white-space:pre;overflow-x:auto;line-height:normal;font-family:Menlo,'DejaVu Sans Mono',consolas,'Courier New',monospace\"> Sep <span style=\"color: #008080; text-decoration-color: #008080; font-weight: bold\">21</span>, <span style=\"color: #008080; text-decoration-color: #008080; font-weight: bold\">2023</span> <span style=\"font-weight: bold\">)</span>\n",
       "</pre>\n"
      ],
      "text/plain": [
       " Sep \u001b[1;36m21\u001b[0m, \u001b[1;36m2023\u001b[0m \u001b[1m)\u001b[0m\n"
      ]
     },
     "metadata": {},
     "output_type": "display_data"
    },
    {
     "data": {
      "text/html": [
       "<pre style=\"white-space:pre;overflow-x:auto;line-height:normal;font-family:Menlo,'DejaVu Sans Mono',consolas,'Courier New',monospace\">\n",
       "</pre>\n"
      ],
      "text/plain": [
       "\n"
      ]
     },
     "metadata": {},
     "output_type": "display_data"
    },
    {
     "data": {
      "text/html": [
       "<pre style=\"white-space:pre;overflow-x:auto;line-height:normal;font-family:Menlo,'DejaVu Sans Mono',consolas,'Courier New',monospace\">Project\n",
       "</pre>\n"
      ],
      "text/plain": [
       "Project\n"
      ]
     },
     "metadata": {},
     "output_type": "display_data"
    },
    {
     "data": {
      "text/html": [
       "<pre style=\"white-space:pre;overflow-x:auto;line-height:normal;font-family:Menlo,'DejaVu Sans Mono',consolas,'Courier New',monospace\">\n",
       "</pre>\n"
      ],
      "text/plain": [
       "\n"
      ]
     },
     "metadata": {},
     "output_type": "display_data"
    },
    {
     "data": {
      "text/html": [
       "<pre style=\"white-space:pre;overflow-x:auto;line-height:normal;font-family:Menlo,'DejaVu Sans Mono',consolas,'Courier New',monospace\">Ecommerce\n",
       "</pre>\n"
      ],
      "text/plain": [
       "Ecommerce\n"
      ]
     },
     "metadata": {},
     "output_type": "display_data"
    },
    {
     "data": {
      "text/html": [
       "<pre style=\"white-space:pre;overflow-x:auto;line-height:normal;font-family:Menlo,'DejaVu Sans Mono',consolas,'Courier New',monospace\">\n",
       "</pre>\n"
      ],
      "text/plain": [
       "\n"
      ]
     },
     "metadata": {},
     "output_type": "display_data"
    },
    {
     "data": {
      "text/html": [
       "<pre style=\"white-space:pre;overflow-x:auto;line-height:normal;font-family:Menlo,'DejaVu Sans Mono',consolas,'Courier New',monospace\">-\n",
       "</pre>\n"
      ],
      "text/plain": [
       "-\n"
      ]
     },
     "metadata": {},
     "output_type": "display_data"
    },
    {
     "data": {
      "text/html": [
       "<pre style=\"white-space:pre;overflow-x:auto;line-height:normal;font-family:Menlo,'DejaVu Sans Mono',consolas,'Courier New',monospace\">\n",
       "</pre>\n"
      ],
      "text/plain": [
       "\n"
      ]
     },
     "metadata": {},
     "output_type": "display_data"
    },
    {
     "data": {
      "text/html": [
       "<pre style=\"white-space:pre;overflow-x:auto;line-height:normal;font-family:Menlo,'DejaVu Sans Mono',consolas,'Courier New',monospace\">Design\n",
       "</pre>\n"
      ],
      "text/plain": [
       "Design\n"
      ]
     },
     "metadata": {},
     "output_type": "display_data"
    },
    {
     "data": {
      "text/html": [
       "<pre style=\"white-space:pre;overflow-x:auto;line-height:normal;font-family:Menlo,'DejaVu Sans Mono',consolas,'Courier New',monospace\">\n",
       "</pre>\n"
      ],
      "text/plain": [
       "\n"
      ]
     },
     "metadata": {},
     "output_type": "display_data"
    },
    {
     "data": {
      "text/html": [
       "<pre style=\"white-space:pre;overflow-x:auto;line-height:normal;font-family:Menlo,'DejaVu Sans Mono',consolas,'Courier New',monospace\">-\n",
       "</pre>\n"
      ],
      "text/plain": [
       "-\n"
      ]
     },
     "metadata": {},
     "output_type": "display_data"
    },
    {
     "data": {
      "text/html": [
       "<pre style=\"white-space:pre;overflow-x:auto;line-height:normal;font-family:Menlo,'DejaVu Sans Mono',consolas,'Courier New',monospace\">\n",
       "</pre>\n"
      ],
      "text/plain": [
       "\n"
      ]
     },
     "metadata": {},
     "output_type": "display_data"
    },
    {
     "data": {
      "text/html": [
       "<pre style=\"white-space:pre;overflow-x:auto;line-height:normal;font-family:Menlo,'DejaVu Sans Mono',consolas,'Courier New',monospace\">Website\n",
       "</pre>\n"
      ],
      "text/plain": [
       "Website\n"
      ]
     },
     "metadata": {},
     "output_type": "display_data"
    },
    {
     "data": {
      "text/html": [
       "<pre style=\"white-space:pre;overflow-x:auto;line-height:normal;font-family:Menlo,'DejaVu Sans Mono',consolas,'Courier New',monospace\">\n",
       "</pre>\n"
      ],
      "text/plain": [
       "\n"
      ]
     },
     "metadata": {},
     "output_type": "display_data"
    },
    {
     "data": {
      "text/html": [
       "<pre style=\"white-space:pre;overflow-x:auto;line-height:normal;font-family:Menlo,'DejaVu Sans Mono',consolas,'Courier New',monospace\">Description project <span style=\"font-weight: bold\">(</span>Ecommerce\n",
       "</pre>\n"
      ],
      "text/plain": [
       "Description project \u001b[1m(\u001b[0mEcommerce\n"
      ]
     },
     "metadata": {},
     "output_type": "display_data"
    },
    {
     "data": {
      "text/html": [
       "<pre style=\"white-space:pre;overflow-x:auto;line-height:normal;font-family:Menlo,'DejaVu Sans Mono',consolas,'Courier New',monospace\">\n",
       "</pre>\n"
      ],
      "text/plain": [
       "\n"
      ]
     },
     "metadata": {},
     "output_type": "display_data"
    },
    {
     "data": {
      "text/html": [
       "<pre style=\"white-space:pre;overflow-x:auto;line-height:normal;font-family:Menlo,'DejaVu Sans Mono',consolas,'Courier New',monospace\">-\n",
       "</pre>\n"
      ],
      "text/plain": [
       "-\n"
      ]
     },
     "metadata": {},
     "output_type": "display_data"
    },
    {
     "data": {
      "text/html": [
       "<pre style=\"white-space:pre;overflow-x:auto;line-height:normal;font-family:Menlo,'DejaVu Sans Mono',consolas,'Courier New',monospace\">\n",
       "</pre>\n"
      ],
      "text/plain": [
       "\n"
      ]
     },
     "metadata": {},
     "output_type": "display_data"
    },
    {
     "data": {
      "text/html": [
       "<pre style=\"white-space:pre;overflow-x:auto;line-height:normal;font-family:Menlo,'DejaVu Sans Mono',consolas,'Courier New',monospace\"> Design\n",
       "</pre>\n"
      ],
      "text/plain": [
       " Design\n"
      ]
     },
     "metadata": {},
     "output_type": "display_data"
    },
    {
     "data": {
      "text/html": [
       "<pre style=\"white-space:pre;overflow-x:auto;line-height:normal;font-family:Menlo,'DejaVu Sans Mono',consolas,'Courier New',monospace\">\n",
       "</pre>\n"
      ],
      "text/plain": [
       "\n"
      ]
     },
     "metadata": {},
     "output_type": "display_data"
    },
    {
     "data": {
      "text/html": [
       "<pre style=\"white-space:pre;overflow-x:auto;line-height:normal;font-family:Menlo,'DejaVu Sans Mono',consolas,'Courier New',monospace\">-\n",
       "</pre>\n"
      ],
      "text/plain": [
       "-\n"
      ]
     },
     "metadata": {},
     "output_type": "display_data"
    },
    {
     "data": {
      "text/html": [
       "<pre style=\"white-space:pre;overflow-x:auto;line-height:normal;font-family:Menlo,'DejaVu Sans Mono',consolas,'Courier New',monospace\">\n",
       "</pre>\n"
      ],
      "text/plain": [
       "\n"
      ]
     },
     "metadata": {},
     "output_type": "display_data"
    },
    {
     "data": {
      "text/html": [
       "<pre style=\"white-space:pre;overflow-x:auto;line-height:normal;font-family:Menlo,'DejaVu Sans Mono',consolas,'Courier New',monospace\">Website<span style=\"font-weight: bold\">)</span>\n",
       "</pre>\n"
      ],
      "text/plain": [
       "Website\u001b[1m)\u001b[0m\n"
      ]
     },
     "metadata": {},
     "output_type": "display_data"
    },
    {
     "data": {
      "text/html": [
       "<pre style=\"white-space:pre;overflow-x:auto;line-height:normal;font-family:Menlo,'DejaVu Sans Mono',consolas,'Courier New',monospace\">\n",
       "</pre>\n"
      ],
      "text/plain": [
       "\n"
      ]
     },
     "metadata": {},
     "output_type": "display_data"
    },
    {
     "data": {
      "text/html": [
       "<pre style=\"white-space:pre;overflow-x:auto;line-height:normal;font-family:Menlo,'DejaVu Sans Mono',consolas,'Courier New',monospace\">Clinic\n",
       "</pre>\n"
      ],
      "text/plain": [
       "Clinic\n"
      ]
     },
     "metadata": {},
     "output_type": "display_data"
    },
    {
     "data": {
      "text/html": [
       "<pre style=\"white-space:pre;overflow-x:auto;line-height:normal;font-family:Menlo,'DejaVu Sans Mono',consolas,'Courier New',monospace\">\n",
       "</pre>\n"
      ],
      "text/plain": [
       "\n"
      ]
     },
     "metadata": {},
     "output_type": "display_data"
    },
    {
     "data": {
      "text/html": [
       "<pre style=\"white-space:pre;overflow-x:auto;line-height:normal;font-family:Menlo,'DejaVu Sans Mono',consolas,'Courier New',monospace\">-\n",
       "</pre>\n"
      ],
      "text/plain": [
       "-\n"
      ]
     },
     "metadata": {},
     "output_type": "display_data"
    },
    {
     "data": {
      "text/html": [
       "<pre style=\"white-space:pre;overflow-x:auto;line-height:normal;font-family:Menlo,'DejaVu Sans Mono',consolas,'Courier New',monospace\">\n",
       "</pre>\n"
      ],
      "text/plain": [
       "\n"
      ]
     },
     "metadata": {},
     "output_type": "display_data"
    },
    {
     "data": {
      "text/html": [
       "<pre style=\"white-space:pre;overflow-x:auto;line-height:normal;font-family:Menlo,'DejaVu Sans Mono',consolas,'Courier New',monospace\">System\n",
       "</pre>\n"
      ],
      "text/plain": [
       "System\n"
      ]
     },
     "metadata": {},
     "output_type": "display_data"
    },
    {
     "data": {
      "text/html": [
       "<pre style=\"white-space:pre;overflow-x:auto;line-height:normal;font-family:Menlo,'DejaVu Sans Mono',consolas,'Courier New',monospace\">\n",
       "</pre>\n"
      ],
      "text/plain": [
       "\n"
      ]
     },
     "metadata": {},
     "output_type": "display_data"
    },
    {
     "data": {
      "text/html": [
       "<pre style=\"white-space:pre;overflow-x:auto;line-height:normal;font-family:Menlo,'DejaVu Sans Mono',consolas,'Courier New',monospace\">Description project <span style=\"font-weight: bold\">(</span>Clinic\n",
       "</pre>\n"
      ],
      "text/plain": [
       "Description project \u001b[1m(\u001b[0mClinic\n"
      ]
     },
     "metadata": {},
     "output_type": "display_data"
    },
    {
     "data": {
      "text/html": [
       "<pre style=\"white-space:pre;overflow-x:auto;line-height:normal;font-family:Menlo,'DejaVu Sans Mono',consolas,'Courier New',monospace\">\n",
       "</pre>\n"
      ],
      "text/plain": [
       "\n"
      ]
     },
     "metadata": {},
     "output_type": "display_data"
    },
    {
     "data": {
      "text/html": [
       "<pre style=\"white-space:pre;overflow-x:auto;line-height:normal;font-family:Menlo,'DejaVu Sans Mono',consolas,'Courier New',monospace\">-\n",
       "</pre>\n"
      ],
      "text/plain": [
       "-\n"
      ]
     },
     "metadata": {},
     "output_type": "display_data"
    },
    {
     "data": {
      "text/html": [
       "<pre style=\"white-space:pre;overflow-x:auto;line-height:normal;font-family:Menlo,'DejaVu Sans Mono',consolas,'Courier New',monospace\">\n",
       "</pre>\n"
      ],
      "text/plain": [
       "\n"
      ]
     },
     "metadata": {},
     "output_type": "display_data"
    },
    {
     "data": {
      "text/html": [
       "<pre style=\"white-space:pre;overflow-x:auto;line-height:normal;font-family:Menlo,'DejaVu Sans Mono',consolas,'Courier New',monospace\">System<span style=\"font-weight: bold\">)</span>\n",
       "</pre>\n"
      ],
      "text/plain": [
       "System\u001b[1m)\u001b[0m\n"
      ]
     },
     "metadata": {},
     "output_type": "display_data"
    },
    {
     "data": {
      "text/html": [
       "<pre style=\"white-space:pre;overflow-x:auto;line-height:normal;font-family:Menlo,'DejaVu Sans Mono',consolas,'Courier New',monospace\">\n",
       "</pre>\n"
      ],
      "text/plain": [
       "\n"
      ]
     },
     "metadata": {},
     "output_type": "display_data"
    },
    {
     "data": {
      "text/html": [
       "<pre style=\"white-space:pre;overflow-x:auto;line-height:normal;font-family:Menlo,'DejaVu Sans Mono',consolas,'Courier New',monospace\">SKILLS\n",
       "</pre>\n"
      ],
      "text/plain": [
       "SKILLS\n"
      ]
     },
     "metadata": {},
     "output_type": "display_data"
    },
    {
     "data": {
      "text/html": [
       "<pre style=\"white-space:pre;overflow-x:auto;line-height:normal;font-family:Menlo,'DejaVu Sans Mono',consolas,'Courier New',monospace\">\n",
       "</pre>\n"
      ],
      "text/plain": [
       "\n"
      ]
     },
     "metadata": {},
     "output_type": "display_data"
    },
    {
     "data": {
      "text/html": [
       "<pre style=\"white-space:pre;overflow-x:auto;line-height:normal;font-family:Menlo,'DejaVu Sans Mono',consolas,'Courier New',monospace\">Programming languages\n",
       "</pre>\n"
      ],
      "text/plain": [
       "Programming languages\n"
      ]
     },
     "metadata": {},
     "output_type": "display_data"
    },
    {
     "data": {
      "text/html": [
       "<pre style=\"white-space:pre;overflow-x:auto;line-height:normal;font-family:Menlo,'DejaVu Sans Mono',consolas,'Courier New',monospace\">\n",
       "</pre>\n"
      ],
      "text/plain": [
       "\n"
      ]
     },
     "metadata": {},
     "output_type": "display_data"
    },
    {
     "data": {
      "text/html": [
       "<pre style=\"white-space:pre;overflow-x:auto;line-height:normal;font-family:Menlo,'DejaVu Sans Mono',consolas,'Courier New',monospace\">Other\n",
       "</pre>\n"
      ],
      "text/plain": [
       "Other\n"
      ]
     },
     "metadata": {},
     "output_type": "display_data"
    },
    {
     "data": {
      "text/html": [
       "<pre style=\"white-space:pre;overflow-x:auto;line-height:normal;font-family:Menlo,'DejaVu Sans Mono',consolas,'Courier New',monospace\">\n",
       "</pre>\n"
      ],
      "text/plain": [
       "\n"
      ]
     },
     "metadata": {},
     "output_type": "display_data"
    },
    {
     "data": {
      "text/html": [
       "<pre style=\"white-space:pre;overflow-x:auto;line-height:normal;font-family:Menlo,'DejaVu Sans Mono',consolas,'Courier New',monospace\">Communication\n",
       "</pre>\n"
      ],
      "text/plain": [
       "Communication\n"
      ]
     },
     "metadata": {},
     "output_type": "display_data"
    },
    {
     "data": {
      "text/html": [
       "<pre style=\"white-space:pre;overflow-x:auto;line-height:normal;font-family:Menlo,'DejaVu Sans Mono',consolas,'Courier New',monospace\">\n",
       "</pre>\n"
      ],
      "text/plain": [
       "\n"
      ]
     },
     "metadata": {},
     "output_type": "display_data"
    },
    {
     "data": {
      "text/html": [
       "<pre style=\"white-space:pre;overflow-x:auto;line-height:normal;font-family:Menlo,'DejaVu Sans Mono',consolas,'Courier New',monospace\">• UI framework: Jetpack Compose\n",
       "</pre>\n"
      ],
      "text/plain": [
       "• UI framework: Jetpack Compose\n"
      ]
     },
     "metadata": {},
     "output_type": "display_data"
    },
    {
     "data": {
      "text/html": [
       "<pre style=\"white-space:pre;overflow-x:auto;line-height:normal;font-family:Menlo,'DejaVu Sans Mono',consolas,'Courier New',monospace\">\n",
       "</pre>\n"
      ],
      "text/plain": [
       "\n"
      ]
     },
     "metadata": {},
     "output_type": "display_data"
    },
    {
     "data": {
      "text/html": [
       "<pre style=\"white-space:pre;overflow-x:auto;line-height:normal;font-family:Menlo,'DejaVu Sans Mono',consolas,'Courier New',monospace\">• Support: GetStream.io <span style=\"font-weight: bold\">(</span>Chat API<span style=\"font-weight: bold\">)</span>, Sapling AI <span style=\"font-weight: bold\">(</span>Grammar check<span style=\"font-weight: bold\">)</span>, chatGPT\n",
       "</pre>\n"
      ],
      "text/plain": [
       "• Support: GetStream.io \u001b[1m(\u001b[0mChat API\u001b[1m)\u001b[0m, Sapling AI \u001b[1m(\u001b[0mGrammar check\u001b[1m)\u001b[0m, chatGPT\n"
      ]
     },
     "metadata": {},
     "output_type": "display_data"
    },
    {
     "data": {
      "text/html": [
       "<pre style=\"white-space:pre;overflow-x:auto;line-height:normal;font-family:Menlo,'DejaVu Sans Mono',consolas,'Courier New',monospace\">\n",
       "</pre>\n"
      ],
      "text/plain": [
       "\n"
      ]
     },
     "metadata": {},
     "output_type": "display_data"
    },
    {
     "data": {
      "text/html": [
       "<pre style=\"white-space:pre;overflow-x:auto;line-height:normal;font-family:Menlo,'DejaVu Sans Mono',consolas,'Courier New',monospace\"><span style=\"color: #0000ff; text-decoration-color: #0000ff; text-decoration: underline\">https://github.com/TranDatk/LearningEngishApplication</span>\n",
       "</pre>\n"
      ],
      "text/plain": [
       "\u001b[4;94mhttps://github.com/TranDatk/LearningEngishApplication\u001b[0m\n"
      ]
     },
     "metadata": {},
     "output_type": "display_data"
    },
    {
     "data": {
      "text/html": [
       "<pre style=\"white-space:pre;overflow-x:auto;line-height:normal;font-family:Menlo,'DejaVu Sans Mono',consolas,'Courier New',monospace\">\n",
       "</pre>\n"
      ],
      "text/plain": [
       "\n"
      ]
     },
     "metadata": {},
     "output_type": "display_data"
    },
    {
     "data": {
      "text/html": [
       "<pre style=\"white-space:pre;overflow-x:auto;line-height:normal;font-family:Menlo,'DejaVu Sans Mono',consolas,'Courier New',monospace\">Java\n",
       "</pre>\n"
      ],
      "text/plain": [
       "Java\n"
      ]
     },
     "metadata": {},
     "output_type": "display_data"
    },
    {
     "data": {
      "text/html": [
       "<pre style=\"white-space:pre;overflow-x:auto;line-height:normal;font-family:Menlo,'DejaVu Sans Mono',consolas,'Courier New',monospace\">\n",
       "</pre>\n"
      ],
      "text/plain": [
       "\n"
      ]
     },
     "metadata": {},
     "output_type": "display_data"
    },
    {
     "data": {
      "text/html": [
       "<pre style=\"white-space:pre;overflow-x:auto;line-height:normal;font-family:Menlo,'DejaVu Sans Mono',consolas,'Courier New',monospace\">Building an application that allows users to post to search for tenants, or to find rooms and\n",
       "</pre>\n"
      ],
      "text/plain": [
       "Building an application that allows users to post to search for tenants, or to find rooms and\n"
      ]
     },
     "metadata": {},
     "output_type": "display_data"
    },
    {
     "data": {
      "text/html": [
       "<pre style=\"white-space:pre;overflow-x:auto;line-height:normal;font-family:Menlo,'DejaVu Sans Mono',consolas,'Courier New',monospace\">\n",
       "</pre>\n"
      ],
      "text/plain": [
       "\n"
      ]
     },
     "metadata": {},
     "output_type": "display_data"
    },
    {
     "data": {
      "text/html": [
       "<pre style=\"white-space:pre;overflow-x:auto;line-height:normal;font-family:Menlo,'DejaVu Sans Mono',consolas,'Courier New',monospace\">contact through posts.\n",
       "</pre>\n"
      ],
      "text/plain": [
       "contact through posts.\n"
      ]
     },
     "metadata": {},
     "output_type": "display_data"
    },
    {
     "data": {
      "text/html": [
       "<pre style=\"white-space:pre;overflow-x:auto;line-height:normal;font-family:Menlo,'DejaVu Sans Mono',consolas,'Courier New',monospace\">\n",
       "</pre>\n"
      ],
      "text/plain": [
       "\n"
      ]
     },
     "metadata": {},
     "output_type": "display_data"
    },
    {
     "data": {
      "text/html": [
       "<pre style=\"white-space:pre;overflow-x:auto;line-height:normal;font-family:Menlo,'DejaVu Sans Mono',consolas,'Courier New',monospace\"><span style=\"color: #008080; text-decoration-color: #008080; font-weight: bold\">4</span>\n",
       "</pre>\n"
      ],
      "text/plain": [
       "\u001b[1;36m4\u001b[0m\n"
      ]
     },
     "metadata": {},
     "output_type": "display_data"
    },
    {
     "data": {
      "text/html": [
       "<pre style=\"white-space:pre;overflow-x:auto;line-height:normal;font-family:Menlo,'DejaVu Sans Mono',consolas,'Courier New',monospace\">\n",
       "</pre>\n"
      ],
      "text/plain": [
       "\n"
      ]
     },
     "metadata": {},
     "output_type": "display_data"
    },
    {
     "data": {
      "text/html": [
       "<pre style=\"white-space:pre;overflow-x:auto;line-height:normal;font-family:Menlo,'DejaVu Sans Mono',consolas,'Courier New',monospace\">I am in responsible of creating the personal information area, managing login registration,\n",
       "</pre>\n"
      ],
      "text/plain": [
       "I am in responsible of creating the personal information area, managing login registration,\n"
      ]
     },
     "metadata": {},
     "output_type": "display_data"
    },
    {
     "data": {
      "text/html": [
       "<pre style=\"white-space:pre;overflow-x:auto;line-height:normal;font-family:Menlo,'DejaVu Sans Mono',consolas,'Courier New',monospace\">\n",
       "</pre>\n"
      ],
      "text/plain": [
       "\n"
      ]
     },
     "metadata": {},
     "output_type": "display_data"
    },
    {
     "data": {
      "text/html": [
       "<pre style=\"white-space:pre;overflow-x:auto;line-height:normal;font-family:Menlo,'DejaVu Sans Mono',consolas,'Courier New',monospace\">adding, removing, changing, and renewing postings, as well as processing payments via the MoMo payment gateway \n",
       "<span style=\"font-weight: bold\">(</span>testing<span style=\"font-weight: bold\">)</span>.\n",
       "</pre>\n"
      ],
      "text/plain": [
       "adding, removing, changing, and renewing postings, as well as processing payments via the MoMo payment gateway \n",
       "\u001b[1m(\u001b[0mtesting\u001b[1m)\u001b[0m.\n"
      ]
     },
     "metadata": {},
     "output_type": "display_data"
    },
    {
     "data": {
      "text/html": [
       "<pre style=\"white-space:pre;overflow-x:auto;line-height:normal;font-family:Menlo,'DejaVu Sans Mono',consolas,'Courier New',monospace\">\n",
       "</pre>\n"
      ],
      "text/plain": [
       "\n"
      ]
     },
     "metadata": {},
     "output_type": "display_data"
    },
    {
     "data": {
      "text/html": [
       "<pre style=\"white-space:pre;overflow-x:auto;line-height:normal;font-family:Menlo,'DejaVu Sans Mono',consolas,'Courier New',monospace\">Firebase realtime, Firebase storage, SQLite\n",
       "</pre>\n"
      ],
      "text/plain": [
       "Firebase realtime, Firebase storage, SQLite\n"
      ]
     },
     "metadata": {},
     "output_type": "display_data"
    },
    {
     "data": {
      "text/html": [
       "<pre style=\"white-space:pre;overflow-x:auto;line-height:normal;font-family:Menlo,'DejaVu Sans Mono',consolas,'Courier New',monospace\">\n",
       "</pre>\n"
      ],
      "text/plain": [
       "\n"
      ]
     },
     "metadata": {},
     "output_type": "display_data"
    },
    {
     "data": {
      "text/html": [
       "<pre style=\"white-space:pre;overflow-x:auto;line-height:normal;font-family:Menlo,'DejaVu Sans Mono',consolas,'Courier New',monospace\"><span style=\"color: #0000ff; text-decoration-color: #0000ff; text-decoration: underline\">https://github.com/TranDatk/LTDD_CS2001_Nhom22</span>\n",
       "</pre>\n"
      ],
      "text/plain": [
       "\u001b[4;94mhttps://github.com/TranDatk/LTDD_CS2001_Nhom22\u001b[0m\n"
      ]
     },
     "metadata": {},
     "output_type": "display_data"
    },
    {
     "data": {
      "text/html": [
       "<pre style=\"white-space:pre;overflow-x:auto;line-height:normal;font-family:Menlo,'DejaVu Sans Mono',consolas,'Courier New',monospace\">\n",
       "</pre>\n"
      ],
      "text/plain": [
       "\n"
      ]
     },
     "metadata": {},
     "output_type": "display_data"
    },
    {
     "data": {
      "text/html": [
       "<pre style=\"white-space:pre;overflow-x:auto;line-height:normal;font-family:Menlo,'DejaVu Sans Mono',consolas,'Courier New',monospace\"><span style=\"color: #0000ff; text-decoration-color: #0000ff; text-decoration: underline\">https://github.com/Penz7/ecommerce</span>\n",
       "</pre>\n"
      ],
      "text/plain": [
       "\u001b[4;94mhttps://github.com/Penz7/ecommerce\u001b[0m\n"
      ]
     },
     "metadata": {},
     "output_type": "display_data"
    },
    {
     "data": {
      "text/html": [
       "<pre style=\"white-space:pre;overflow-x:auto;line-height:normal;font-family:Menlo,'DejaVu Sans Mono',consolas,'Courier New',monospace\">\n",
       "</pre>\n"
      ],
      "text/plain": [
       "\n"
      ]
     },
     "metadata": {},
     "output_type": "display_data"
    },
    {
     "data": {
      "text/html": [
       "<pre style=\"white-space:pre;overflow-x:auto;line-height:normal;font-family:Menlo,'DejaVu Sans Mono',consolas,'Courier New',monospace\">-\n",
       "</pre>\n"
      ],
      "text/plain": [
       "-\n"
      ]
     },
     "metadata": {},
     "output_type": "display_data"
    },
    {
     "data": {
      "text/html": [
       "<pre style=\"white-space:pre;overflow-x:auto;line-height:normal;font-family:Menlo,'DejaVu Sans Mono',consolas,'Courier New',monospace\">\n",
       "</pre>\n"
      ],
      "text/plain": [
       "\n"
      ]
     },
     "metadata": {},
     "output_type": "display_data"
    },
    {
     "data": {
      "text/html": [
       "<pre style=\"white-space:pre;overflow-x:auto;line-height:normal;font-family:Menlo,'DejaVu Sans Mono',consolas,'Courier New',monospace\">demo\n",
       "</pre>\n"
      ],
      "text/plain": [
       "demo\n"
      ]
     },
     "metadata": {},
     "output_type": "display_data"
    },
    {
     "data": {
      "text/html": [
       "<pre style=\"white-space:pre;overflow-x:auto;line-height:normal;font-family:Menlo,'DejaVu Sans Mono',consolas,'Courier New',monospace\">\n",
       "</pre>\n"
      ],
      "text/plain": [
       "\n"
      ]
     },
     "metadata": {},
     "output_type": "display_data"
    },
    {
     "data": {
      "text/html": [
       "<pre style=\"white-space:pre;overflow-x:auto;line-height:normal;font-family:Menlo,'DejaVu Sans Mono',consolas,'Courier New',monospace\">-\n",
       "</pre>\n"
      ],
      "text/plain": [
       "-\n"
      ]
     },
     "metadata": {},
     "output_type": "display_data"
    },
    {
     "data": {
      "text/html": [
       "<pre style=\"white-space:pre;overflow-x:auto;line-height:normal;font-family:Menlo,'DejaVu Sans Mono',consolas,'Courier New',monospace\">\n",
       "</pre>\n"
      ],
      "text/plain": [
       "\n"
      ]
     },
     "metadata": {},
     "output_type": "display_data"
    },
    {
     "data": {
      "text/html": [
       "<pre style=\"white-space:pre;overflow-x:auto;line-height:normal;font-family:Menlo,'DejaVu Sans Mono',consolas,'Courier New',monospace\">website.github.io\n",
       "</pre>\n"
      ],
      "text/plain": [
       "website.github.io\n"
      ]
     },
     "metadata": {},
     "output_type": "display_data"
    },
    {
     "data": {
      "text/html": [
       "<pre style=\"white-space:pre;overflow-x:auto;line-height:normal;font-family:Menlo,'DejaVu Sans Mono',consolas,'Courier New',monospace\">\n",
       "</pre>\n"
      ],
      "text/plain": [
       "\n"
      ]
     },
     "metadata": {},
     "output_type": "display_data"
    },
    {
     "data": {
      "text/html": [
       "<pre style=\"white-space:pre;overflow-x:auto;line-height:normal;font-family:Menlo,'DejaVu Sans Mono',consolas,'Courier New',monospace\">The website is designed to simulate an online sales website using HTML/CSS and JavaScript technologies\n",
       "</pre>\n"
      ],
      "text/plain": [
       "The website is designed to simulate an online sales website using HTML/CSS and JavaScript technologies\n"
      ]
     },
     "metadata": {},
     "output_type": "display_data"
    },
    {
     "data": {
      "text/html": [
       "<pre style=\"white-space:pre;overflow-x:auto;line-height:normal;font-family:Menlo,'DejaVu Sans Mono',consolas,'Courier New',monospace\">\n",
       "</pre>\n"
      ],
      "text/plain": [
       "\n"
      ]
     },
     "metadata": {},
     "output_type": "display_data"
    },
    {
     "data": {
      "text/html": [
       "<pre style=\"white-space:pre;overflow-x:auto;line-height:normal;font-family:Menlo,'DejaVu Sans Mono',consolas,'Courier New',monospace\"><span style=\"color: #0000ff; text-decoration-color: #0000ff; text-decoration: underline\">https://github.com/Penz7/clicnicsystem</span>\n",
       "</pre>\n"
      ],
      "text/plain": [
       "\u001b[4;94mhttps://github.com/Penz7/clicnicsystem\u001b[0m\n"
      ]
     },
     "metadata": {},
     "output_type": "display_data"
    },
    {
     "data": {
      "text/html": [
       "<pre style=\"white-space:pre;overflow-x:auto;line-height:normal;font-family:Menlo,'DejaVu Sans Mono',consolas,'Courier New',monospace\">\n",
       "</pre>\n"
      ],
      "text/plain": [
       "\n"
      ]
     },
     "metadata": {},
     "output_type": "display_data"
    },
    {
     "data": {
      "text/html": [
       "<pre style=\"white-space:pre;overflow-x:auto;line-height:normal;font-family:Menlo,'DejaVu Sans Mono',consolas,'Courier New',monospace\">Python <span style=\"font-weight: bold\">(</span>Flask\n",
       "</pre>\n"
      ],
      "text/plain": [
       "Python \u001b[1m(\u001b[0mFlask\n"
      ]
     },
     "metadata": {},
     "output_type": "display_data"
    },
    {
     "data": {
      "text/html": [
       "<pre style=\"white-space:pre;overflow-x:auto;line-height:normal;font-family:Menlo,'DejaVu Sans Mono',consolas,'Courier New',monospace\">\n",
       "</pre>\n"
      ],
      "text/plain": [
       "\n"
      ]
     },
     "metadata": {},
     "output_type": "display_data"
    },
    {
     "data": {
      "text/html": [
       "<pre style=\"white-space:pre;overflow-x:auto;line-height:normal;font-family:Menlo,'DejaVu Sans Mono',consolas,'Courier New',monospace\">-\n",
       "</pre>\n"
      ],
      "text/plain": [
       "-\n"
      ]
     },
     "metadata": {},
     "output_type": "display_data"
    },
    {
     "data": {
      "text/html": [
       "<pre style=\"white-space:pre;overflow-x:auto;line-height:normal;font-family:Menlo,'DejaVu Sans Mono',consolas,'Courier New',monospace\">\n",
       "</pre>\n"
      ],
      "text/plain": [
       "\n"
      ]
     },
     "metadata": {},
     "output_type": "display_data"
    },
    {
     "data": {
      "text/html": [
       "<pre style=\"white-space:pre;overflow-x:auto;line-height:normal;font-family:Menlo,'DejaVu Sans Mono',consolas,'Courier New',monospace\">admin<span style=\"font-weight: bold\">)</span>, HTML/CSS, Javascript\n",
       "</pre>\n"
      ],
      "text/plain": [
       "admin\u001b[1m)\u001b[0m, HTML/CSS, Javascript\n"
      ]
     },
     "metadata": {},
     "output_type": "display_data"
    },
    {
     "data": {
      "text/html": [
       "<pre style=\"white-space:pre;overflow-x:auto;line-height:normal;font-family:Menlo,'DejaVu Sans Mono',consolas,'Courier New',monospace\">\n",
       "</pre>\n"
      ],
      "text/plain": [
       "\n"
      ]
     },
     "metadata": {},
     "output_type": "display_data"
    },
    {
     "data": {
      "text/html": [
       "<pre style=\"white-space:pre;overflow-x:auto;line-height:normal;font-family:Menlo,'DejaVu Sans Mono',consolas,'Courier New',monospace\">Simulate a private clinic website with user login and registration services provided by Python, and utilize Flask \n",
       "admin to manage medical examination orders and drug payment invoices on\n",
       "</pre>\n"
      ],
      "text/plain": [
       "Simulate a private clinic website with user login and registration services provided by Python, and utilize Flask \n",
       "admin to manage medical examination orders and drug payment invoices on\n"
      ]
     },
     "metadata": {},
     "output_type": "display_data"
    },
    {
     "data": {
      "text/html": [
       "<pre style=\"white-space:pre;overflow-x:auto;line-height:normal;font-family:Menlo,'DejaVu Sans Mono',consolas,'Courier New',monospace\">\n",
       "</pre>\n"
      ],
      "text/plain": [
       "\n"
      ]
     },
     "metadata": {},
     "output_type": "display_data"
    },
    {
     "data": {
      "text/html": [
       "<pre style=\"white-space:pre;overflow-x:auto;line-height:normal;font-family:Menlo,'DejaVu Sans Mono',consolas,'Courier New',monospace\">the doctor's and nurse's interfaces at that clinic.\n",
       "</pre>\n"
      ],
      "text/plain": [
       "the doctor's and nurse's interfaces at that clinic.\n"
      ]
     },
     "metadata": {},
     "output_type": "display_data"
    },
    {
     "data": {
      "text/html": [
       "<pre style=\"white-space:pre;overflow-x:auto;line-height:normal;font-family:Menlo,'DejaVu Sans Mono',consolas,'Courier New',monospace\">\n",
       "</pre>\n"
      ],
      "text/plain": [
       "\n"
      ]
     },
     "metadata": {},
     "output_type": "display_data"
    },
    {
     "data": {
      "text/html": [
       "<pre style=\"white-space:pre;overflow-x:auto;line-height:normal;font-family:Menlo,'DejaVu Sans Mono',consolas,'Courier New',monospace\">Java, Kotlin, and Javascript are the most popular uses.\n",
       "</pre>\n"
      ],
      "text/plain": [
       "Java, Kotlin, and Javascript are the most popular uses.\n"
      ]
     },
     "metadata": {},
     "output_type": "display_data"
    },
    {
     "data": {
      "text/html": [
       "<pre style=\"white-space:pre;overflow-x:auto;line-height:normal;font-family:Menlo,'DejaVu Sans Mono',consolas,'Courier New',monospace\">\n",
       "</pre>\n"
      ],
      "text/plain": [
       "\n"
      ]
     },
     "metadata": {},
     "output_type": "display_data"
    },
    {
     "data": {
      "text/html": [
       "<pre style=\"white-space:pre;overflow-x:auto;line-height:normal;font-family:Menlo,'DejaVu Sans Mono',consolas,'Courier New',monospace\">Firebase , SQL Server, MySQL, SQLite and Jetpack Compose <span style=\"font-weight: bold\">(</span>Android<span style=\"font-weight: bold\">)</span>\n",
       "</pre>\n"
      ],
      "text/plain": [
       "Firebase , SQL Server, MySQL, SQLite and Jetpack Compose \u001b[1m(\u001b[0mAndroid\u001b[1m)\u001b[0m\n"
      ]
     },
     "metadata": {},
     "output_type": "display_data"
    },
    {
     "data": {
      "text/html": [
       "<pre style=\"white-space:pre;overflow-x:auto;line-height:normal;font-family:Menlo,'DejaVu Sans Mono',consolas,'Courier New',monospace\">\n",
       "</pre>\n"
      ],
      "text/plain": [
       "\n"
      ]
     },
     "metadata": {},
     "output_type": "display_data"
    },
    {
     "data": {
      "text/html": [
       "<pre style=\"white-space:pre;overflow-x:auto;line-height:normal;font-family:Menlo,'DejaVu Sans Mono',consolas,'Courier New',monospace\">Can read, understand, and communicate in basic English\n",
       "</pre>\n"
      ],
      "text/plain": [
       "Can read, understand, and communicate in basic English\n"
      ]
     },
     "metadata": {},
     "output_type": "display_data"
    },
    {
     "data": {
      "text/html": [
       "<pre style=\"white-space:pre;overflow-x:auto;line-height:normal;font-family:Menlo,'DejaVu Sans Mono',consolas,'Courier New',monospace\">\n",
       "</pre>\n"
      ],
      "text/plain": [
       "\n"
      ]
     },
     "metadata": {},
     "output_type": "display_data"
    },
    {
     "data": {
      "text/html": [
       "<pre style=\"white-space:pre;overflow-x:auto;line-height:normal;font-family:Menlo,'DejaVu Sans Mono',consolas,'Courier New',monospace\">© topcv.vn\n",
       "</pre>\n"
      ],
      "text/plain": [
       "© topcv.vn\n"
      ]
     },
     "metadata": {},
     "output_type": "display_data"
    }
   ],
   "source": [
    "text_items = \"Cap Tan Dat\\n\\nWeb developer intern\\n\\n\\uf095 0961414817 ✉ tandatkt002@gmail.com \\uf0c1 https://github.com/Penz7\\n\\n\\uf3c5 Ho Chi Minh City,Ward 7,Binh Thanh District\\n\\nOBJECTIVE\\n\\nObtain more knowledge about web programming by gaining hands-on experience in a formal working setting. For a better understanding of how to work in a professional setting and further your career, learn from your forebears, particularly from your\\n\\nelders at the organization. To ensure independence and top performance in your everyday work, learn time management skills, how to work efficiently, and how to\\n\\ndevelop an organized work schedule. Finally, I wish to have the chance to foster development and contribute to the company's future success and growth in addition to being\\n\\nhired on as a formal employee.\\n\\nEDUCATION\\n\\nHo Chi Minh City Open University\\n\\n2020 \\n\\n-\\n\\n 2024\\n\\nMajor: Information Technology GPA: 2.68\\n\\nExtracurricular Involvement: \\n\\n•\\n\\n Mobile device programing club\\n\\nEXPERIENCE\\n\\nProgramming and Teamwork Skills\\n\\n\\n\\nDuring my time studying and cultivating in the university environment, I have formed the thinking and working style of a\\n\\nprogrammer, with work that requires perseverance, concentration and the ability to work with others partner. Along with that is the ability to exchange and speak in front of crowds with your own products, without being afraid of difficulties\\n\\nand challenges. Successfully complete industry foundation subjects such as: Data Structures & Algorithms, Object-Oriented Programming, Mobile\\n\\nProgramming, Software Testing,...\\n\\nPROJECTS\\n\\nLearning English App\\n\\n( Aug 20, 2023 \\n\\n-\\n\\n Sep 21, 2023 )\\n\\nLanguage\\n\\nKotlin\\n\\nDescription project\\n\\nBuilding an application that allows learners to use their registered accounts to study courses by topic.\\n\\nYour team size\\n\\n2\\n\\nYour responsibility in project\\n\\nI am in charge of developing the area for personal information, managing login registration for the system, putting the online chat system into place using GetStream.io, and integrating\\n\\nChatGPT's API to enable communication with AI bots.\\n\\nProject structure\\n\\n• Database: Firestore, Firebase storage, Firebase authentication \\n\\n• Architecture: MVVM (Built based on Google App standard architecture)\\n\\nGithub\\n\\nFindHostel\\n\\n( Jun 25, 2023 \\n\\n-\\n\\n Sep 21, 2023 )\\n\\nLanguage\\n\\nDescription project\\n\\nYour team size\\n\\nYour responsibility in project\\n\\nDatabase\\n\\nGithub\\n\\nWebsite Design Projects\\n\\n( Jan 16, 2022 \\n\\n-\\n\\n Sep 21, 2023 )\\n\\nProject\\n\\nEcommerce\\n\\n-\\n\\nDesign\\n\\n-\\n\\nWebsite\\n\\nDescription project (Ecommerce\\n\\n-\\n\\n Design\\n\\n-\\n\\nWebsite)\\n\\nClinic\\n\\n-\\n\\nSystem\\n\\nDescription project (Clinic\\n\\n-\\n\\nSystem)\\n\\nSKILLS\\n\\nProgramming languages\\n\\nOther\\n\\nCommunication\\n\\n• UI framework: Jetpack Compose\\n\\n• Support: GetStream.io (Chat API), Sapling AI (Grammar check), chatGPT\\n\\nhttps://github.com/TranDatk/LearningEngishApplication\\n\\nJava\\n\\nBuilding an application that allows users to post to search for tenants, or to find rooms and\\n\\ncontact through posts.\\n\\n4\\n\\nI am in responsible of creating the personal information area, managing login registration,\\n\\nadding, removing, changing, and renewing postings, as well as processing payments via the MoMo payment gateway (testing).\\n\\nFirebase realtime, Firebase storage, SQLite\\n\\nhttps://github.com/TranDatk/LTDD_CS2001_Nhom22\\n\\nhttps://github.com/Penz7/ecommerce\\n\\n-\\n\\ndemo\\n\\n-\\n\\nwebsite.github.io\\n\\nThe website is designed to simulate an online sales website using HTML/CSS and JavaScript technologies\\n\\nhttps://github.com/Penz7/clicnicsystem\\n\\nPython (Flask\\n\\n-\\n\\nadmin), HTML/CSS, Javascript\\n\\nSimulate a private clinic website with user login and registration services provided by Python, and utilize Flask admin to manage medical examination orders and drug payment invoices on\\n\\nthe doctor's and nurse's interfaces at that clinic.\\n\\nJava, Kotlin, and Javascript are the most popular uses.\\n\\nFirebase , SQL Server, MySQL, SQLite and Jetpack Compose (Android)\\n\\nCan read, understand, and communicate in basic English\\n\\n© topcv.vn\"\n",
    "\n",
    "lines = text_items.split('\\n')\n",
    "\n",
    "# Process the lines\n",
    "for line in lines:\n",
    "    # Perform desired operations on each line\n",
    "    print(line)\n"
   ]
  }
 ],
 "metadata": {
  "kernelspec": {
   "display_name": "llm",
   "language": "python",
   "name": "python3"
  },
  "language_info": {
   "codemirror_mode": {
    "name": "ipython",
    "version": 3
   },
   "file_extension": ".py",
   "mimetype": "text/x-python",
   "name": "python",
   "nbconvert_exporter": "python",
   "pygments_lexer": "ipython3",
   "version": "3.10.13"
  }
 },
 "nbformat": 4,
 "nbformat_minor": 2
}
